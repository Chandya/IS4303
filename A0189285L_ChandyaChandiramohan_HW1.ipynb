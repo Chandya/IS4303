{
 "cells": [
  {
   "cell_type": "markdown",
   "metadata": {},
   "source": [
    "# IS4303 IT-MEDIATED FINANCIAL SOLUTIONS AND PLATFORMS\n",
    "## Homework 1 - Data Preprocessing and Linear Model\n",
    "### Due Date: Feb. 13 (Sat.), 2021, 23:00 SG Time\n",
    "### Name your .ipynb file as \"StudentID_YourName_HW1.ipynb\" and then upload"
   ]
  },
  {
   "cell_type": "markdown",
   "metadata": {},
   "source": [
    "<div class=\"alert alert-warning\">\n",
    "<b>Python Version:</b> 3.7+<br>Create a virtual environment in Anaconda if needed.\n",
    "</div>"
   ]
  },
  {
   "cell_type": "markdown",
   "metadata": {},
   "source": [
    "## Sections\n",
    "<ul>\n",
    "    <li><a href=\"#Section_0\" style=\"text-decoration: none\">0. Assignment Overview</a></li>\n",
    "    <li><a href=\"#Section_1\" style=\"text-decoration: none\">1. ETL</a></li>\n",
    "    <li><a href=\"#Section_2\" style=\"text-decoration: none\">2. A Simply Implementation</a></li>\n",
    "</ul>"
   ]
  },
  {
   "cell_type": "markdown",
   "metadata": {},
   "source": [
    "<a id=\"Section_0\"></a>\n",
    "## 0 Assignment Overview\n",
    "\n",
    "* The goal of this assignment is to understand how to do ETL (Extract, Transform, Load) and run simple linear model\n",
    "* In this assignment, we will clean data and build linear models using a loan dataset. \n",
    "* A dataset containing complete loan data for all loans issued has been uploaded on Luminus. It includes the current loan status (Current, Late, Fully Paid, etc.) and a large set of attributes for each customer. \n",
    "* The assignment will require you to use the dataset to build models to predict loan default.\n",
    "* Please answer the questions and write the code / results in the empty cells. \n",
    "* 45 pts in total"
   ]
  },
  {
   "cell_type": "markdown",
   "metadata": {},
   "source": [
    "---"
   ]
  },
  {
   "cell_type": "markdown",
   "metadata": {},
   "source": [
    "<a id=\"Section_1\"></a>\n",
    "## 1. ETL (41.5 pts)"
   ]
  },
  {
   "cell_type": "code",
   "execution_count": 55,
   "metadata": {},
   "outputs": [],
   "source": [
    "#!usr/bin/env python\n",
    "#-*- coding:utf-8 -*-\n",
    "from __future__ import division, print_function\n",
    "import numpy as np\n",
    "import pandas as pd\n",
    "import matplotlib.pyplot as plt\n",
    "from math import sqrt, log\n",
    "from collections import defaultdict\n",
    "from IPython.display import HTML\n",
    "%matplotlib inline"
   ]
  },
  {
   "cell_type": "markdown",
   "metadata": {},
   "source": [
    "<a id=\"Section_1.1\"></a>\n",
    "### 1.1 Load the data (1 pt)\n",
    "* Read data by pandas and name it as \"loans\". (0.5 pts)"
   ]
  },
  {
   "cell_type": "code",
   "execution_count": 56,
   "metadata": {},
   "outputs": [
    {
     "name": "stdout",
     "output_type": "stream",
     "text": [
      "               id  member_id  loan_amnt  funded_amnt  funded_amnt_inv  \\\n",
      "0       166907367        NaN       3500         3500             3500   \n",
      "1       166795268        NaN       5000         5000             5000   \n",
      "2       168697246        NaN      32800        32800            32800   \n",
      "3       168186203        NaN      40000        40000            40000   \n",
      "4       168657451        NaN      10000        10000            10000   \n",
      "...           ...        ...        ...          ...              ...   \n",
      "105006  163119880        NaN      10525        10525            10525   \n",
      "105007  163267959        NaN      16000        16000            16000   \n",
      "105008  163221893        NaN      10000        10000            10000   \n",
      "105009  163197179        NaN       7500         7500             7500   \n",
      "105010  162914373        NaN      20000        20000            20000   \n",
      "\n",
      "              term int_rate  installment grade sub_grade  ...  \\\n",
      "0        36 months   11.71%       115.77     B        B3  ...   \n",
      "1        36 months   18.62%       182.33     D        D1  ...   \n",
      "2        36 months   10.81%      1070.89     A        A5  ...   \n",
      "3        36 months   12.40%      1336.23     B        B4  ...   \n",
      "4        36 months   16.12%       352.17     C        C3  ...   \n",
      "...            ...      ...          ...   ...       ...  ...   \n",
      "105006   36 months    7.56%       327.69     A        A3  ...   \n",
      "105007   36 months   11.71%       529.22     B        B3  ...   \n",
      "105008   36 months   10.33%       324.23     B        B1  ...   \n",
      "105009   60 months    8.19%       152.76     A        A4  ...   \n",
      "105010   36 months   12.40%       668.12     B        B4  ...   \n",
      "\n",
      "       orig_projected_additional_accrued_interest  \\\n",
      "0                                             NaN   \n",
      "1                                             NaN   \n",
      "2                                       590.95000   \n",
      "3                                             NaN   \n",
      "4                                             NaN   \n",
      "...                                           ...   \n",
      "105006                                        NaN   \n",
      "105007                                    0.00000   \n",
      "105008                                  163.93000   \n",
      "105009                                        NaN   \n",
      "105010                                  470.38842   \n",
      "\n",
      "       hardship_payoff_balance_amount hardship_last_payment_amount  \\\n",
      "0                                 NaN                          NaN   \n",
      "1                                 NaN                          NaN   \n",
      "2                            32967.43                         0.00   \n",
      "3                                 NaN                          NaN   \n",
      "4                                 NaN                          NaN   \n",
      "...                               ...                          ...   \n",
      "105006                            NaN                          NaN   \n",
      "105007                           0.00                     14066.44   \n",
      "105008                        9595.42                       324.23   \n",
      "105009                            NaN                          NaN   \n",
      "105010                       15314.93                       668.12   \n",
      "\n",
      "        debt_settlement_flag debt_settlement_flag_date settlement_status  \\\n",
      "0                          N                       NaN               NaN   \n",
      "1                          N                       NaN               NaN   \n",
      "2                          N                       NaN               NaN   \n",
      "3                          N                       NaN               NaN   \n",
      "4                          N                       NaN               NaN   \n",
      "...                      ...                       ...               ...   \n",
      "105006                     N                       NaN               NaN   \n",
      "105007                     N                       NaN               NaN   \n",
      "105008                     N                       NaN               NaN   \n",
      "105009                     N                       NaN               NaN   \n",
      "105010                     N                       NaN               NaN   \n",
      "\n",
      "       settlement_date settlement_amount settlement_percentage  \\\n",
      "0                  NaN               NaN                   NaN   \n",
      "1                  NaN               NaN                   NaN   \n",
      "2                  NaN               NaN                   NaN   \n",
      "3                  NaN               NaN                   NaN   \n",
      "4                  NaN               NaN                   NaN   \n",
      "...                ...               ...                   ...   \n",
      "105006             NaN               NaN                   NaN   \n",
      "105007             NaN               NaN                   NaN   \n",
      "105008             NaN               NaN                   NaN   \n",
      "105009             NaN               NaN                   NaN   \n",
      "105010             NaN               NaN                   NaN   \n",
      "\n",
      "        settlement_term  \n",
      "0                   NaN  \n",
      "1                   NaN  \n",
      "2                   NaN  \n",
      "3                   NaN  \n",
      "4                   NaN  \n",
      "...                 ...  \n",
      "105006              NaN  \n",
      "105007              NaN  \n",
      "105008              NaN  \n",
      "105009              NaN  \n",
      "105010              NaN  \n",
      "\n",
      "[105011 rows x 150 columns]\n"
     ]
    }
   ],
   "source": [
    "# Read data by pandas and name it as \"loans\".\n",
    "loans = pd.read_csv('/Users/chandya/Desktop/IS4303/HW1/LoanStats_securev1_2020Q1.csv', header=1, low_memory=False)\n",
    "print(loans)"
   ]
  },
  {
   "cell_type": "markdown",
   "metadata": {},
   "source": [
    "* Show how many rows and columns such dataset has (0.5 pts)"
   ]
  },
  {
   "cell_type": "code",
   "execution_count": 57,
   "metadata": {},
   "outputs": [
    {
     "name": "stdout",
     "output_type": "stream",
     "text": [
      "There are 105011 rows and 150 columns.\n"
     ]
    }
   ],
   "source": [
    "# show how many rows and columns such dataset has\n",
    "# row count\n",
    "count_row = loans.shape[0] \n",
    "# column count\n",
    "count_col = loans.shape[1]  \n",
    "print(\"There are {} rows and {} columns.\".format(count_row, count_col))\n"
   ]
  },
  {
   "cell_type": "markdown",
   "metadata": {},
   "source": [
    "<a id=\"Section_1.2\"></a>\n",
    "### 1.2 Target variable (4.5 pts)\n",
    "The event of interest is whether a loan-application candidate is a defaulter or not. The variable \"*loan_status*\" can fundamentally satisfy our requirement. We firstly take a close look at it.\n",
    "#### 1.2.1 List all the unique values of \"*loan_status*\" and count how many are they in the data set (1 pt)"
   ]
  },
  {
   "cell_type": "code",
   "execution_count": 58,
   "metadata": {},
   "outputs": [
    {
     "name": "stdout",
     "output_type": "stream",
     "text": [
      "The unique values of loan_status variable is ['Current' 'Fully Paid' 'Late (31-120 days)' 'Charged Off'\n",
      " 'In Grace Period' 'Late (16-30 days)' 'Default']. \n",
      "\n",
      "The number of data for each of these values are \n",
      " Current               90419\n",
      "Fully Paid            11018\n",
      "Charged Off            1203\n",
      "Late (31-120 days)     1193\n",
      "In Grace Period         871\n",
      "Late (16-30 days)       304\n",
      "Default                   3\n",
      "Name: loan_status, dtype: int64.\n"
     ]
    }
   ],
   "source": [
    "# list all the unique values of loan status and count the volume of them\n",
    "df = pd.DataFrame(loans)\n",
    "print(\"The unique values of loan_status variable is {}. \\n\" .format(loans['loan_status'].unique()))\n",
    "print(\"The number of data for each of these values are \\n {}.\".format(loans['loan_status'].value_counts()))"
   ]
  },
  {
   "cell_type": "markdown",
   "metadata": {},
   "source": [
    "#### 1.2.2 Process the original target variable (1 pts)  \n",
    "Since we cannot identify the final outcomes of those loans in the future when their status is '**current**' or '**n**' or other unidentifiable values such as null value to date, these data will not be considered to train our supervised model. Thus, we remove them from our dataset. \n",
    "<div class=\"alert alert-warning\">\n",
    "<b>Note: </b>In practice, the data we removed in this step is something like ongoing or upcoming new instances that have not been labeled and need to be predicted on the event/variable of interest by our (supervised) machine learning model.\n",
    "</div>"
   ]
  },
  {
   "cell_type": "code",
   "execution_count": 59,
   "metadata": {},
   "outputs": [
    {
     "name": "stdout",
     "output_type": "stream",
     "text": [
      "There are no data with current or n values.\n"
     ]
    }
   ],
   "source": [
    "# reset \"loans\" dataset by removing the rows whose \"loan_status\" is 'current' or 'n'\n",
    "df1 = loans[loans['loan_status'] != 'Current']\n",
    "loans = df1[df1['loan_status'] != 'n']\n",
    "for status in loans['loan_status']:\n",
    "    if status == 'Current' or status == 'n':\n",
    "        print(\"There are still some current and n data values.\")\n",
    "\n",
    "print (\"There are no data with current or n values.\")"
   ]
  },
  {
   "cell_type": "markdown",
   "metadata": {},
   "source": [
    "#### 1.2.3 Create a new target/outcome/dependent variable for predictive task (1 pt)   \n",
    "New target variable, entitled \"*bad_loans*\" takes 1 if a loan is a **bad loan** (i.e., its *loan_status* is labeled by one of '**Late (31-120 days)**', '**Late (16-30 days)**', '**Charged Off**', and '**Default**') and 0 otherwise (i.e., its *loan_status* is labeled by either '**Fully Paid**' or '**In Grace Period**')."
   ]
  },
  {
   "cell_type": "code",
   "execution_count": 60,
   "metadata": {},
   "outputs": [
    {
     "name": "stdout",
     "output_type": "stream",
     "text": [
      "7         0\n",
      "12        0\n",
      "15        0\n",
      "28        0\n",
      "32        0\n",
      "         ..\n",
      "104995    0\n",
      "105000    0\n",
      "105003    0\n",
      "105006    0\n",
      "105007    0\n",
      "Name: bad_loans, Length: 14592, dtype: int64\n"
     ]
    }
   ],
   "source": [
    "# Create the new target variable, bad_loans: 1 if the loan is risky and 0 otherwise.\n",
    "conditions = [\n",
    "    (loans['loan_status'] == 'Fully Paid'),\n",
    "    (loans['loan_status'] == 'In Grace Period'),\n",
    "    (loans['loan_status'] == 'Late (31-120 days)'),\n",
    "    (loans['loan_status'] == 'Late (16-30 days)'),\n",
    "    (loans['loan_status'] == 'Charged Off'),\n",
    "    (loans['loan_status'] == 'Default'),\n",
    "    ]\n",
    "\n",
    "values = [0, 0, 1, 1, 1, 1]\n",
    "\n",
    "# create a new column and use np.select to assign values to it using our lists as arguments\n",
    "loans['bad_loans'] = np.select(conditions, values)\n",
    "\n",
    "print(loans['bad_loans'])"
   ]
  },
  {
   "cell_type": "markdown",
   "metadata": {},
   "source": [
    "#### 1.2.4 Show the number of **bad loans** and **good loans** in the dataset. Then draw a pie chart or histogram over \"bad_loans\", and display the distribution for each of the two sections. (1.5 pts)\n",
    "<div class=\"alert alert-warning\">\n",
    "<b>Note: </b>For loan or credit card application data, it is very possible that the data is unbalanced. We can plot a pie chart or histogram to clarify and detect such a problem.\n",
    "</div>"
   ]
  },
  {
   "cell_type": "code",
   "execution_count": 61,
   "metadata": {
    "scrolled": true
   },
   "outputs": [
    {
     "name": "stdout",
     "output_type": "stream",
     "text": [
      "Good Loans: 11889\n",
      "Bad loans : 2703\n"
     ]
    },
    {
     "data": {
      "image/png": "[encoded data removed]",
      "text/plain": [
       "<Figure size 432x288 with 1 Axes>"
      ]
     },
     "metadata": {},
     "output_type": "display_data"
    }
   ],
   "source": [
    "# How many bad loans and good loans are in the dataset now?\n",
    "df_good = loans[loans['bad_loans'] == 0]\n",
    "print('Good Loans:', len(df_good))\n",
    "df_bad = loans[loans['bad_loans'] == 1]\n",
    "print('Bad loans :', len(df_bad))\n",
    "\n",
    "# Draw the histogram\n",
    "\n",
    "labels = 'Good Loan', 'Bad Loan'\n",
    "sizes = [len(df_good), len(df_bad)]\n",
    "fig1, ax1 = plt.subplots()\n",
    "ax1.pie(sizes, labels=labels, autopct='%1.1f%%',\n",
    "        shadow=True, startangle=90)\n",
    "ax1.axis('equal')  # Equal aspect ratio ensures that pie is drawn as a circle.\n",
    "\n",
    "plt.show()"
   ]
  },
  {
   "cell_type": "markdown",
   "metadata": {},
   "source": [
    "<a id=\"Section_1.3\"></a>\n",
    "### 1.3 Feature Selection (1) (1 pt)\n",
    "Although as aforementioned we have 150 features, we select 32 out of them based on our knowledge and put those 32 features into our feature pool, we may make further refinement as exercise of feature selection later.  \n",
    "* Try deepcopy() to generate a copy of the data '*loans*'. Name this new dataset '**loans_new**'. Note the difference between shallow copy and deep copy in Python. (0.5 pt)  \n",
    "* Then, process the copy version of the dataset such that it only includes the selected features plus the target variable 'bad_loans'. (0.5 pt)\n"
   ]
  },
  {
   "cell_type": "code",
   "execution_count": 62,
   "metadata": {},
   "outputs": [
    {
     "name": "stdout",
     "output_type": "stream",
     "text": [
      "        acc_now_delinq  acc_open_past_24mths  annual_inc application_type  \\\n",
      "7                    0                     6     90000.0       Individual   \n",
      "12                   0                     4     73000.0       Individual   \n",
      "15                   0                     0     15156.0        Joint App   \n",
      "28                   0                     3     65000.0       Individual   \n",
      "32                   0                     2     61000.0       Individual   \n",
      "...                ...                   ...         ...              ...   \n",
      "104995               0                     2    120000.0       Individual   \n",
      "105000               0                    24    115000.0       Individual   \n",
      "105003               0                     4     38500.0       Individual   \n",
      "105006               0                     8     40000.0       Individual   \n",
      "105007               0                    15     80000.0       Individual   \n",
      "\n",
      "        avg_cur_bal  chargeoff_within_12_mths  collections_12_mths_ex_med  \\\n",
      "7            5955.0                         0                           0   \n",
      "12          22465.0                         0                           0   \n",
      "15           5822.0                         0                           0   \n",
      "28          35079.0                         0                           0   \n",
      "32           6257.0                         0                           0   \n",
      "...             ...                       ...                         ...   \n",
      "104995      23463.0                         0                           1   \n",
      "105000      80627.0                         0                           0   \n",
      "105003       1893.0                         0                           0   \n",
      "105006        627.0                         0                           0   \n",
      "105007        669.0                         0                           0   \n",
      "\n",
      "        delinq_2yrs  delinq_amnt    dti  ... num_tl_90g_dpd_24m  \\\n",
      "7                 0            0   8.39  ...                  0   \n",
      "12                0            0  35.12  ...                  0   \n",
      "15                0            0  91.84  ...                  0   \n",
      "28                0            0   8.90  ...                  0   \n",
      "32                0            0  19.26  ...                  0   \n",
      "...             ...          ...    ...  ...                ...   \n",
      "104995            2            0   5.49  ...                  0   \n",
      "105000            1            0   1.69  ...                  0   \n",
      "105003            2            0  30.67  ...                  2   \n",
      "105006            0            0  14.52  ...                  0   \n",
      "105007            0            0   7.29  ...                  0   \n",
      "\n",
      "        num_tl_op_past_12m  open_acc_6m open_act_il  open_il_24m  \\\n",
      "7                        4            2           1            3   \n",
      "12                       2            1           8            3   \n",
      "15                       0            0           4            0   \n",
      "28                       2            0           2            3   \n",
      "32                       0            0           2            1   \n",
      "...                    ...          ...         ...          ...   \n",
      "104995                   1            0           1            1   \n",
      "105000                   5            2           4           19   \n",
      "105003                   3            1           1            0   \n",
      "105006                   5            2           2            3   \n",
      "105007                   8            3           1            1   \n",
      "\n",
      "        pct_tl_nvr_dlq  percent_bc_gt_75 revol_util  tot_cur_bal  bad_loans  \n",
      "7                 97.1              33.3        33%        47640          0  \n",
      "12                97.2               0.0     25.30%       426837          0  \n",
      "15               100.0             100.0     81.50%        52399          0  \n",
      "28               100.0              33.3     16.80%       245550          0  \n",
      "32                92.9               0.0     13.40%        37543          0  \n",
      "...                ...               ...        ...          ...        ...  \n",
      "104995            92.0               0.0      5.90%       211163          0  \n",
      "105000            89.4               0.0     43.80%       806270          0  \n",
      "105003            90.5              50.0     43.60%        22711          0  \n",
      "105006            98.0               0.0      0.80%         8774          0  \n",
      "105007            85.7               0.0     18.70%         9359          0  \n",
      "\n",
      "[14592 rows x 35 columns]\n"
     ]
    }
   ],
   "source": [
    "from copy import deepcopy\n",
    "\n",
    "loans_new = deepcopy(loans)\n",
    "# shallow copy : changes to loans_new may affect children in loans\n",
    "# deep copy : fully independent cloning hence modification will not change original copy\n",
    "\n",
    "feature_pool = ['acc_now_delinq','acc_open_past_24mths','annual_inc','application_type','avg_cur_bal',\\\n",
    "                'chargeoff_within_12_mths','collections_12_mths_ex_med','delinq_2yrs','delinq_amnt','dti',\\\n",
    "                'emp_length','fico_range_high','fico_range_low','home_ownership','il_util','inq_fi',\\\n",
    "                'installment','int_rate','last_pymnt_amnt','loan_amnt','mths_since_last_delinq','num_bc_tl','num_il_tl',\\\n",
    "                'num_tl_120dpd_2m','num_tl_30dpd','num_tl_90g_dpd_24m','num_tl_op_past_12m','open_acc_6m',\\\n",
    "                'open_act_il','open_il_24m','pct_tl_nvr_dlq','percent_bc_gt_75','revol_util','tot_cur_bal']\n",
    "output = 'bad_loans'\n",
    "loans_new = loans_new[['acc_now_delinq','acc_open_past_24mths','annual_inc','application_type','avg_cur_bal',\\\n",
    "                'chargeoff_within_12_mths','collections_12_mths_ex_med','delinq_2yrs','delinq_amnt','dti',\\\n",
    "                'emp_length','fico_range_high','fico_range_low','home_ownership','il_util','inq_fi',\\\n",
    "                'installment','int_rate','last_pymnt_amnt','loan_amnt','mths_since_last_delinq','num_bc_tl','num_il_tl',\\\n",
    "                'num_tl_120dpd_2m','num_tl_30dpd','num_tl_90g_dpd_24m','num_tl_op_past_12m','open_acc_6m',\\\n",
    "                'open_act_il','open_il_24m','pct_tl_nvr_dlq','percent_bc_gt_75','revol_util','tot_cur_bal', 'bad_loans']]\n",
    "print(loans_new)"
   ]
  },
  {
   "cell_type": "markdown",
   "metadata": {},
   "source": [
    "<a id=\"Section_1.4\"></a>\n",
    "### 1.4 Data Transform (8.5 pts)\n",
    "#### 1.4.1 Identify which columns are not numerical type (0.5 pt)"
   ]
  },
  {
   "cell_type": "code",
   "execution_count": 63,
   "metadata": {},
   "outputs": [
    {
     "name": "stdout",
     "output_type": "stream",
     "text": [
      "application_type\n",
      "<class 'str'>\n",
      "emp_length\n",
      "<class 'str'>\n",
      "home_ownership\n",
      "<class 'str'>\n",
      "int_rate\n",
      "<class 'str'>\n",
      "revol_util\n",
      "<class 'str'>\n"
     ]
    }
   ],
   "source": [
    "# Type of features\n",
    "# Check if there are any non-numerical types left\n",
    "numerics = ['uint8','int16', 'int32', 'int64', 'float16', 'float32', 'float64']\n",
    "\n",
    "new_data = loans_new.select_dtypes(exclude=numerics)\n",
    "\n",
    "for col in new_data.columns: \n",
    "    print(col)\n",
    "    print(type(col))"
   ]
  },
  {
   "cell_type": "markdown",
   "metadata": {},
   "source": [
    "#### 1.4.2 Transformation (5 pts)\n",
    "* Categorical variable (2.5 pts)\n",
    " * \"*application_type*\" takes 1 if it is originally assigned '*Individual*' and 0 otherwise (0.5 pt)\n",
    " * '*home_ownership*' take value from four values: '**MORTGAGE**', '**OWN**', '**RENT**', and '**ANY**'. Create dummies for '*home_ownership*': You may refer to <a href=\"https://pandas.pydata.org/pandas-docs/stable/reference/api/pandas.get_dummies.html\" target=\"_blank\" class=\"btn btn-success\" role=\"button\" style=\"text-decoration: none\">get_dummies()</a> about how to do this. We require you to drop column \"*home_ownership*\", and one of the four dummies to avoid **multicollinearity** after dummy-generation.Integrate the three dummies to dataset (2 pts)\n",
    " \n",
    "* Numerical variable (2.5 pts)\n",
    " * '*emp_length*': Remove its textual part and transform the remaining to '**float**' type. No need to divide it by 100 further. Note that there may be null values in this column. You can keep them as **float('nan')** for the time being. We will deal with the missing value issue later. (1 pt)\n",
    " * '*int_rate*' and '*revol_util*': Remove the '%' from them and transform the digital string's type to '**float**' type. Note that there may be null values in either one of or both of them as '*emp_length*'. You can keep them as **float('nan')** for the time being. (1.5 pts)\n",
    " \n",
    "\n",
    "<div class=\"alert alert-warning\">\n",
    "<b>Note: </b>\n",
    "    <p>\n",
    "    You may need to drop the index of dataframe by dataframe_variable.reset_index(drop=True, inplace=True) if there is any unexpected Nan values generated. Refer to <a href=\"https://stackoverflow.com/questions/40339886/pandas-concat-generates-nan-values\">https://stackoverflow.com/questions/40339886/pandas-concat-generates-nan-values</a> for similar issue you met\n",
    "</div>"
   ]
  },
  {
   "cell_type": "code",
   "execution_count": 64,
   "metadata": {
    "scrolled": false
   },
   "outputs": [
    {
     "name": "stdout",
     "output_type": "stream",
     "text": [
      "All columns have numeric data types.\n"
     ]
    }
   ],
   "source": [
    "# Transform object type of \"application_type\" to numerical type\n",
    "conditions = [\n",
    "    (loans_new['application_type'] == 'Individual'),\n",
    "    (loans_new['application_type'] != 'Individual')\n",
    "    ]\n",
    "\n",
    "values = [1, 0]\n",
    "\n",
    "loans_new['application_type'] = np.select(conditions, values)\n",
    "\n",
    "# Transform object(string) and non-categorial type of \"home_ownership\" to numerical type:\n",
    "dummies = pd.get_dummies(loans_new['home_ownership'], prefix='home_ownership', drop_first = True)\n",
    "loans_new  = loans_new.drop(columns=['home_ownership'])\n",
    "loans_new = pd.concat([loans_new, dummies], axis=1)\n",
    "\n",
    "\n",
    "# Transform object type of emp_length to numerical type: \n",
    "for i, v in loans_new['emp_length'].items():\n",
    "    if not isinstance(v, float):\n",
    "        new_v = ''.join(c for c in v if c.isdigit())\n",
    "        loans_new.at[i, 'emp_length'] = new_v\n",
    "        \n",
    "loans_new['emp_length'] = pd.to_numeric(loans_new['emp_length'])\n",
    "    \n",
    "# Transform object type of int_rate to numerical type\n",
    "for i, v in loans_new['int_rate'].items():\n",
    "    if not isinstance(v, float):\n",
    "        new_v = v.replace('%', '')\n",
    "        loans_new.at[i, 'int_rate'] = new_v\n",
    "        \n",
    "loans_new['int_rate'] = pd.to_numeric(loans_new['int_rate'], errors='coerce')\n",
    "\n",
    "for i, v in loans_new['revol_util'].items():\n",
    "    if not isinstance(v, float):\n",
    "        new_v = v.replace('%', '')\n",
    "        loans_new.at[i, 'revol_util'] = new_v\n",
    "        \n",
    "loans_new['revol_util'] = pd.to_numeric(loans_new['revol_util'], errors='coerce')\n",
    "\n",
    "# Check if all columns have numeric data types\n",
    "numerics = ['uint8','int16', 'int32', 'int64', 'float16', 'float32', 'float64']\n",
    "new_data = loans_new.select_dtypes(exclude=numerics)\n",
    "for col in new_data.columns: \n",
    "    if (type(col) not in numerics):\n",
    "        print (\"There are columns with non-numeric data types.\")\n",
    "print (\"All columns have numeric data types.\")"
   ]
  },
  {
   "cell_type": "markdown",
   "metadata": {},
   "source": [
    "#### 1.4.3 Short Answer Question (3.0 pts)\n",
    "\n",
    "Categorical variables are also known as discrete or qualitative variables. It can be further categorized as either nominal or ordinal variable.\n",
    "\n",
    "An ordinal variable is such that its possible values can be ordered. It can be considered “in between” categorical and quantitative variables. Common examples could be education level, grade, willingness, etc. Thus, it is very possible that they take non-numeric and categorical value. Thus, we need to transform them to numeric type data if we want to use them in our machine learning model.\n",
    "\n",
    "If you read the metadata file, *LCDataDictionary.xlsx*, you will find one variable called '*grade*' (a more precise one is called '*subgrade*') which is an indicator to suggest the risk level of one finance loan. Specifically, one loan will be riskier if its grade is alphabetically rearward positioned from A to G (as a result, the corresponding interest rate will be higher). Therefore, it is an ordinal variable. \n",
    "\n",
    "Please read relevant information at https://www.lendingclub.com/foliofn/rateDetail.action and find the exact mapping relation among grade, subgrade and interest rate (see **table 1** and **2** in the link). Is \"MODEL RANK\" shown in **table 1** a good **transformed** numeric *subgrade* ? Provide your justification. Write your answer in the cell below."
   ]
  },
  {
   "cell_type": "code",
   "execution_count": 65,
   "metadata": {},
   "outputs": [],
   "source": [
    "# Grade reflects on risk level and risk level will correlate to interest rate.\n",
    "# Although final interest rate is calculated by adding lending club base rate to some percentage adjustment\n",
    "# for risk  and volatility, lending club base rate is a constant 5.05%. Therefore it is the adjustments that affects\n",
    "# grade non-linearly. This can be known because the differences between the different adjustment percentages are much different\n",
    "# and inconsistent. Hence for example the difference between grade A and B which is difference between subgrade A5 and B1 is not the same as \n",
    "# difference between grade B and C aka subgrade B5 and C1. Hence, mapping model rank column linearly to risk level \n",
    "# will not give an accurate picture of the final interest rate."
   ]
  },
  {
   "cell_type": "markdown",
   "metadata": {},
   "source": [
    "<a id=\"Section_1.5\"></a>\n",
    "### 1.5 Data Splitting (0.5 pts)\n",
    "* Split dataset into train and test set at the rate of train set: test set using = 70/30.\n",
    "* Try sklearn.model_selection.train_test_split() and set *random_state*=42 for this function to make sure the result is replicatable"
   ]
  },
  {
   "cell_type": "code",
   "execution_count": 66,
   "metadata": {},
   "outputs": [
    {
     "name": "stdout",
     "output_type": "stream",
     "text": [
      "(10214, 37)\n",
      "(4378, 37)\n",
      "39083     0\n",
      "69474     0\n",
      "8063      0\n",
      "101865    0\n",
      "88627     1\n",
      "         ..\n",
      "45219     0\n",
      "39031     0\n",
      "51763     0\n",
      "93583     1\n",
      "24654     0\n",
      "Name: bad_loans, Length: 4378, dtype: int64\n"
     ]
    }
   ],
   "source": [
    "from sklearn.model_selection import train_test_split\n",
    "\n",
    "train, test = train_test_split(loans_new, \n",
    "                         train_size=0.70,\n",
    "                         test_size=0.30, random_state=42)    # Split the data set by a 70/30 ratio\n",
    "\n",
    "print(train.shape)                          # Print the shape of the training set\n",
    "print(test.shape)                           # Print the shape of the test set"
   ]
  },
  {
   "cell_type": "markdown",
   "metadata": {},
   "source": [
    "<a id=\"Section_1.6\"></a>\n",
    "### 1.6 Missing Values (7 pts)\n",
    "#### 1.6.1 Check missing values (1 pt)\n",
    "* Count how many missing values there are in every column of *loans_new*. (0.5 pt)\n",
    "* Check whether those columns with missing values in the train set are exactly the same as those with missing values in the whole set *loans_new*. (0.5 pt)"
   ]
  },
  {
   "cell_type": "code",
   "execution_count": 67,
   "metadata": {
    "scrolled": true
   },
   "outputs": [
    {
     "name": "stdout",
     "output_type": "stream",
     "text": [
      "acc_now_delinq                   0\n",
      "acc_open_past_24mths             0\n",
      "annual_inc                       0\n",
      "application_type                 0\n",
      "avg_cur_bal                      3\n",
      "chargeoff_within_12_mths         0\n",
      "collections_12_mths_ex_med       0\n",
      "delinq_2yrs                      0\n",
      "delinq_amnt                      0\n",
      "dti                             37\n",
      "emp_length                    1175\n",
      "fico_range_high                  0\n",
      "fico_range_low                   0\n",
      "il_util                       1852\n",
      "inq_fi                           0\n",
      "installment                      0\n",
      "int_rate                         0\n",
      "last_pymnt_amnt                  0\n",
      "loan_amnt                        0\n",
      "mths_since_last_delinq        8323\n",
      "num_bc_tl                        0\n",
      "num_il_tl                        0\n",
      "num_tl_120dpd_2m               102\n",
      "num_tl_30dpd                     0\n",
      "num_tl_90g_dpd_24m               0\n",
      "num_tl_op_past_12m               0\n",
      "open_acc_6m                      0\n",
      "open_act_il                      0\n",
      "open_il_24m                      0\n",
      "pct_tl_nvr_dlq                   0\n",
      "percent_bc_gt_75               181\n",
      "revol_util                      19\n",
      "tot_cur_bal                      0\n",
      "bad_loans                        0\n",
      "home_ownership_MORTGAGE          0\n",
      "home_ownership_OWN               0\n",
      "home_ownership_RENT              0\n",
      "dtype: int64\n",
      "\n",
      "\n",
      "Columns with missing values in the train set are exactly the same as those with missing values in the \n",
      "whole set loans_new.\n"
     ]
    }
   ],
   "source": [
    "# Count missing value\n",
    "col_sum = loans_new.isnull().sum(axis = 0)\n",
    "print(col_sum)\n",
    "print(\"\\n\")\n",
    "# check the consistency of columns with missing value between train set and the whole set\n",
    "train_col_sum = train.isnull().sum(axis=0)\n",
    "\n",
    "# columns to check are ['avg_cur_bal', 'dti', 'emp_length', 'il_util', 'mths_since_last_delinq','num_tl_120dpd_2m', 'percent_bc_gt_75', 'revol_util']\n",
    "\n",
    "train_check = set(train[['avg_cur_bal', 'dti', 'emp_length', 'il_util', 'mths_since_last_delinq','num_tl_120dpd_2m', 'percent_bc_gt_75', 'revol_util']])\n",
    "loans_check = set(loans_new[['avg_cur_bal', 'dti', 'emp_length', 'il_util', 'mths_since_last_delinq','num_tl_120dpd_2m', 'percent_bc_gt_75', 'revol_util']])\n",
    "\n",
    "if (train_check.issubset(loans_check)):\n",
    "    print(\"Columns with missing values in the train set are exactly the same as those with missing values in the \\nwhole set loans_new.\")\n",
    "else:\n",
    "    print(\"Columns with missing values in the train set are not the same as those with missing values in the \\nwhole set loans_new.\")\n"
   ]
  },
  {
   "cell_type": "markdown",
   "metadata": {},
   "source": [
    "#### 1.6.2 Check missing values Missing value processing (6 pts)\n",
    "* We can see variable \"*mths_since_last_delinq*\" has over 3/5 missing values over the whole dataset. Thus, one common way is to directly drop this column from the train and test sets. Remember to update *feature_pool*. (1 pt)  \n",
    "* For the remaining columns containing missing values, we try steps as follows. You may consider **dataframe_variable.fillna()** for some of those steps. (5 pts) \n",
    " * For '*num_tl_120dpd_2m*', use its **modes** in the **train set** to fill the missing values of '*num_tl_120dpd_2m*' of both train and test sets (0.5 pt)    \n",
    " * For '*avg_cur_bal*', use the **last non-null value in the same column** to fill the current missing value. Apply fillna() function on both train and test sets (0.5 pt) \n",
    " * For '*dti*', use its **median** in the **train set** to fill the missing values of '*dti*' of both train and test set (0.5 pt) \n",
    " * For columns ('il_util','percent_bc_gt_75'), use their **mean**s in the **train set** to fill their missing values of '*il_util*' and '*percent_bc_gt_75*' of both train and test sets (1.0 pt) \n",
    " * For the remaining features, fill them by **KNN** algorithm. You may want to consider **Fancyimpute** which is a third-party toolkit for Python that provides implementations of various matrix calculations and fill algorithms.Use KNN() method to fill missing values and set **k=6** for the KNN model. For more information about how to install and use it, see https://pypi.org/project/fancyimpute/#modal-close and https://www.programmersought.com/article/6816273881/. Alternatively, if you have problem with installing fancyimpute, you can try similar function of package **sklearn.impute**. For more information, see section 6.4.5 at https://scikit-learn.org/stable/modules/impute.html#impute. **Note: Although KNN-filling is essentially machine learning process to predict those missing values, we cannot fill the missing values in the test set by a trained model on train set since the two toolkits do not provide fit() function to train a model. As a consequence, please just apply KNN().fit_transform() on both train and test set respectively as what we required for '*avg_cur_bal*'** (2.0 pts) \n",
    " \n",
    " * Check again whether there are any missing values in train and test sets (0.5 pt) \n",
    " \n",
    "<div class=\"alert alert-warning\">\n",
    "<b>Note: </b>\n",
    "    <P>\n",
    "    1. When you use fillna(), be careful with <B>replace</B> parameter because you need to modify the original variable but not a review. You may refer to <a href=\"https://pandas.pydata.org/pandas-docs/stable/reference/api/pandas.DataFrame.fillna.html\" target=\"_blank\" class=\"btn btn-success\" role=\"button\" style=\"text-decoration: none\">DataFrame.fillna()</a><br>\n",
    "    2. In practice, if the missing values are very less out of the whole volume, we can directly drop those rows with missing values.<br>    \n",
    "</div>"
   ]
  },
  {
   "cell_type": "code",
   "execution_count": 68,
   "metadata": {
    "scrolled": true
   },
   "outputs": [
    {
     "name": "stdout",
     "output_type": "stream",
     "text": [
      "mths_since_last_delinq columns is dropped from Index(['acc_now_delinq', 'acc_open_past_24mths', 'annual_inc',\n",
      "       'application_type', 'avg_cur_bal', 'chargeoff_within_12_mths',\n",
      "       'collections_12_mths_ex_med', 'delinq_2yrs', 'delinq_amnt', 'dti',\n",
      "       'emp_length', 'fico_range_high', 'fico_range_low', 'il_util', 'inq_fi',\n",
      "       'installment', 'int_rate', 'last_pymnt_amnt', 'loan_amnt', 'num_bc_tl',\n",
      "       'num_il_tl', 'num_tl_120dpd_2m', 'num_tl_30dpd', 'num_tl_90g_dpd_24m',\n",
      "       'num_tl_op_past_12m', 'open_acc_6m', 'open_act_il', 'open_il_24m',\n",
      "       'pct_tl_nvr_dlq', 'percent_bc_gt_75', 'revol_util', 'tot_cur_bal',\n",
      "       'bad_loans', 'home_ownership_MORTGAGE', 'home_ownership_OWN',\n",
      "       'home_ownership_RENT'],\n",
      "      dtype='object')\n",
      "\n",
      "Train data has no missing values.\n",
      "Test data has no missing values.\n"
     ]
    }
   ],
   "source": [
    "from sklearn.impute import KNNImputer\n",
    "\n",
    "# drop \"mths_since_last_delinq\" from the dataset\n",
    "\n",
    "feature_pool = ['acc_now_delinq','acc_open_past_24mths','annual_inc','application_type','avg_cur_bal',\\\n",
    "                'chargeoff_within_12_mths','collections_12_mths_ex_med','delinq_2yrs','delinq_amnt','dti',\\\n",
    "                'emp_length','fico_range_high','fico_range_low','il_util','inq_fi',\\\n",
    "                'installment','int_rate','last_pymnt_amnt','loan_amnt', 'num_bc_tl','num_il_tl',\\\n",
    "                'num_tl_120dpd_2m','num_tl_30dpd','num_tl_90g_dpd_24m','num_tl_op_past_12m','open_acc_6m',\\\n",
    "                'open_act_il','open_il_24m','pct_tl_nvr_dlq','percent_bc_gt_75','revol_util','tot_cur_bal', 'home_ownership_MORTGAGE',  'home_ownership_OWN' , 'home_ownership_RENT']\n",
    "\n",
    "loans_new  = loans_new.drop(columns=['mths_since_last_delinq'])\n",
    "train  = train.drop(columns=['mths_since_last_delinq'])\n",
    "test  = test.drop(columns=['mths_since_last_delinq'])\n",
    "\n",
    "print(\"mths_since_last_delinq columns is dropped from {}\\n\".format(train.columns))\n",
    "\n",
    "# process missing values in the 'num_tl_120dpd_2m'\n",
    "mode = train['num_tl_120dpd_2m'].mode()\n",
    "train['num_tl_120dpd_2m'] = train['num_tl_120dpd_2m'].fillna(mode[0])\n",
    "test['num_tl_120dpd_2m'] = test['num_tl_120dpd_2m'].fillna(mode[0])\n",
    "\n",
    "# process missing values in the 'avg_cur_bal'\n",
    "train['avg_cur_bal'] = train['avg_cur_bal'].fillna(method='ffill')\n",
    "test['avg_cur_bal'] = test['avg_cur_bal'].fillna(method='ffill')\n",
    "# process missing values in 'dti'\n",
    "\n",
    "median = train['dti'].median()\n",
    "train['dti'] = train['dti'].fillna(median)\n",
    "test['dti'] = test['dti'].fillna(median)\n",
    "\n",
    "# process missing values in ('il_util','percent_bc_gt_75')\n",
    "mean_1 = train['il_util'].mean()\n",
    "mean_2 = train['percent_bc_gt_75'].mean()\n",
    "train['il_util'] = train['il_util'].fillna(mean_1)\n",
    "test['il_util'] = test['il_util'].fillna(mean_1)\n",
    "train['percent_bc_gt_75'] = train['percent_bc_gt_75'].fillna(mean_2)\n",
    "test['percent_bc_gt_75'] = test['percent_bc_gt_75'].fillna(mean_2)\n",
    "\n",
    "# filling the remaining with KNN data\n",
    "imputer = KNNImputer(n_neighbors=6)\n",
    "train = imputer.fit_transform(train)\n",
    "test = imputer.fit_transform(test)\n",
    "\n",
    "\n",
    "# check again whether there are any missing values\n",
    "array_sum = np.sum(train)\n",
    "train_has_nan = np.isnan(array_sum)\n",
    "\n",
    "array_sum = np.sum(test)\n",
    "test_has_nan = np.isnan(array_sum)\n",
    "train = pd.DataFrame(train)\n",
    "test = pd.DataFrame(test)\n",
    "\n",
    "train.columns =  ['acc_now_delinq','acc_open_past_24mths','annual_inc','application_type','avg_cur_bal',\\\n",
    "                'chargeoff_within_12_mths','collections_12_mths_ex_med','delinq_2yrs','delinq_amnt','dti',\\\n",
    "                'emp_length','fico_range_high','fico_range_low','il_util','inq_fi',\\\n",
    "                'installment','int_rate','last_pymnt_amnt','loan_amnt', 'num_bc_tl','num_il_tl',\\\n",
    "                'num_tl_120dpd_2m','num_tl_30dpd','num_tl_90g_dpd_24m','num_tl_op_past_12m','open_acc_6m',\\\n",
    "                'open_act_il','open_il_24m','pct_tl_nvr_dlq','percent_bc_gt_75','revol_util','tot_cur_bal', 'bad_loans',  'home_ownership_MORTGAGE',  'home_ownership_OWN' , 'home_ownership_RENT']\n",
    "test.columns =  ['acc_now_delinq','acc_open_past_24mths','annual_inc','application_type','avg_cur_bal',\\\n",
    "                'chargeoff_within_12_mths','collections_12_mths_ex_med','delinq_2yrs','delinq_amnt','dti',\\\n",
    "                'emp_length','fico_range_high','fico_range_low','il_util','inq_fi',\\\n",
    "                'installment','int_rate','last_pymnt_amnt','loan_amnt', 'num_bc_tl','num_il_tl',\\\n",
    "                'num_tl_120dpd_2m','num_tl_30dpd','num_tl_90g_dpd_24m','num_tl_op_past_12m','open_acc_6m',\\\n",
    "                'open_act_il','open_il_24m','pct_tl_nvr_dlq','percent_bc_gt_75','revol_util','tot_cur_bal', 'bad_loans',  'home_ownership_MORTGAGE',  'home_ownership_OWN' , 'home_ownership_RENT']\n",
    "\n",
    "if not train_has_nan:\n",
    "    print(\"Train data has no missing values.\")\n",
    "if not test_has_nan:\n",
    "    print(\"Test data has no missing values.\")\n",
    "    \n",
    "\n"
   ]
  },
  {
   "cell_type": "markdown",
   "metadata": {},
   "source": [
    "<a id=\"Section_1.7\"></a>\n",
    "### 1.7 Outlier Detection (1.5 pts)\n",
    "* Plot boxplot to detect outliers for columns '*dti*','*int_rate*','*loan_amnt*' (1 pt)\n",
    "\n",
    "<div class=\"alert alert-warning\">\n",
    "<b>Note: <p>You can refer to: </p>\n",
    "<div class=\"btn-group\">    \n",
    "    <a href=\"http://www.physics.csbsju.edu/stats/box2.html\" target=\"_blank\" class=\"btn btn-primary\" role=\"button\" style=\"text-decoration: none\">Boxplot</a>\n",
    "    <a href=\"https://matplotlib.org/api/_as_gen/matplotlib.pyplot.boxplot.html\" target=\"_blank\" class=\"btn btn-success\" role=\"button\" style=\"text-decoration: none\">Matplotlib</a>\n",
    "    <a href=\"https://seaborn.pydata.org/generated/seaborn.boxplot.html\" target=\"_blank\" class=\"btn btn-info\" role=\"button\" style=\"text-decoration: none\">Seaborn</a>\n",
    "</div>"
   ]
  },
  {
   "cell_type": "code",
   "execution_count": 69,
   "metadata": {},
   "outputs": [
    {
     "name": "stdout",
     "output_type": "stream",
     "text": [
      "AxesSubplot(0.125,0.125;0.775x0.755)\n"
     ]
    },
    {
     "data": {
      "image/png": "[encoded data removed]",
      "text/plain": [
       "<Figure size 864x576 with 1 Axes>"
      ]
     },
     "metadata": {},
     "output_type": "display_data"
    }
   ],
   "source": [
    "# Plot Boxplot\n",
    "import seaborn as sns\n",
    "sns.set_style(\"darkgrid\")\n",
    "plt.rcParams['figure.figsize'] = (12,8)\n",
    "plot = sns.boxplot(x=train[\"dti\"])\n",
    "\n",
    "print(plot)"
   ]
  },
  {
   "cell_type": "code",
   "execution_count": 70,
   "metadata": {},
   "outputs": [
    {
     "name": "stdout",
     "output_type": "stream",
     "text": [
      "AxesSubplot(0.125,0.125;0.775x0.755)\n"
     ]
    },
    {
     "data": {
      "image/png": "[encoded data removed]",
      "text/plain": [
       "<Figure size 864x576 with 1 Axes>"
      ]
     },
     "metadata": {},
     "output_type": "display_data"
    }
   ],
   "source": [
    "# Plot boxplot for column 'int_rate'\n",
    "plot = sns.boxplot(x=train[\"int_rate\"])\n",
    "\n",
    "print(plot)"
   ]
  },
  {
   "cell_type": "code",
   "execution_count": 71,
   "metadata": {
    "scrolled": true
   },
   "outputs": [
    {
     "name": "stdout",
     "output_type": "stream",
     "text": [
      "AxesSubplot(0.125,0.125;0.775x0.755)\n"
     ]
    },
    {
     "data": {
      "image/png": "[encoded data removed]",
      "text/plain": [
       "<Figure size 864x576 with 1 Axes>"
      ]
     },
     "metadata": {},
     "output_type": "display_data"
    }
   ],
   "source": [
    "# Plot boxplot for column 'loan_amnt'\n",
    "\n",
    "plot = sns.boxplot(x=train[\"loan_amnt\"])\n",
    "\n",
    "print(plot)"
   ]
  },
  {
   "cell_type": "markdown",
   "metadata": {},
   "source": [
    "* Whether are there outliers in the three columns? (0.5 pt)"
   ]
  },
  {
   "cell_type": "code",
   "execution_count": 72,
   "metadata": {},
   "outputs": [],
   "source": [
    "# No outliers for int_rate and loan_amount\n",
    "# High amount of outlier for dti "
   ]
  },
  {
   "cell_type": "markdown",
   "metadata": {},
   "source": [
    "<a id=\"Section_1.11\"></a>\n",
    "### 1.8 Feature Rescaling (6.5 pts)\n",
    "#### 1.8.1 Standardization (3.5 pts)\n",
    "In this section, we will standardize some features. You may use <a href=\"https://scikit-learn.org/stable/modules/generated/sklearn.preprocessing.StandardScaler.html\">sklearn.preprocessing.StandardScaler()</a> \n",
    "* Fit a scaler on **train** subset that needs to be rescaled. (1 pts)\n",
    " * You need to do standardization on all the features defined by *standardized_features* below.\n",
    "* Use the **fitted scaler** above to standardize **train** and **test** sets respectively (1 pts)\n",
    "* Recover column names of both standardized train and test sets to original column names (1 pts)\n",
    "* Re-integrate the standardized and non-standardized data together for both train and test sets (0.5 pts)\n",
    "\n",
    "<div class=\"alert alert-warning\">\n",
    "<b>Note: </b>\n",
    "    <p>\n",
    "    1. preprocessing.StandardScaler().transform() return 'numpy.ndarray' but not 'DataFrame' \n",
    "    <p>\n",
    "    3. The tricky part is that Nan values may be generated when you integrate the standardized and non-standardized data together. To deal with this potential problem, you need to drop the index of dataframe by dataframe_variable.reset_index(drop=True, inplace=True)\n",
    "</div>"
   ]
  },
  {
   "cell_type": "code",
   "execution_count": 73,
   "metadata": {},
   "outputs": [
    {
     "name": "stdout",
     "output_type": "stream",
     "text": [
      "Train data has no missing values.\n",
      "Test data has no missing values.\n",
      "\n",
      "Reintegrated training data \n",
      "       num_tl_op_past_12m  inq_fi  home_ownership_OWN  \\\n",
      "0                     1.0     1.0                 0.0   \n",
      "1                     2.0     1.0                 0.0   \n",
      "2                     6.0     1.0                 0.0   \n",
      "3                     4.0     1.0                 0.0   \n",
      "4                     0.0     0.0                 0.0   \n",
      "...                   ...     ...                 ...   \n",
      "10209                 2.0     2.0                 0.0   \n",
      "10210                 2.0     2.0                 0.0   \n",
      "10211                 1.0     1.0                 0.0   \n",
      "10212                 3.0     0.0                 1.0   \n",
      "10213                 2.0     2.0                 0.0   \n",
      "\n",
      "       chargeoff_within_12_mths  percent_bc_gt_75  application_type  \\\n",
      "0                           0.0              66.7               1.0   \n",
      "1                           0.0              33.3               1.0   \n",
      "2                           0.0               0.0               1.0   \n",
      "3                           0.0              20.0               1.0   \n",
      "4                           0.0              87.5               1.0   \n",
      "...                         ...               ...               ...   \n",
      "10209                       0.0              42.9               1.0   \n",
      "10210                       0.0             100.0               1.0   \n",
      "10211                       0.0              50.0               1.0   \n",
      "10212                       0.0              20.0               1.0   \n",
      "10213                       0.0              16.7               1.0   \n",
      "\n",
      "       emp_length  open_acc_6m  home_ownership_MORTGAGE  acc_open_past_24mths  \\\n",
      "0             1.0          1.0                      0.0                   2.0   \n",
      "1             4.0          1.0                      0.0                   3.0   \n",
      "2             1.0          4.0                      0.0                   9.0   \n",
      "3            10.0          4.0                      0.0                   8.0   \n",
      "4             7.0          0.0                      1.0                   6.0   \n",
      "...           ...          ...                      ...                   ...   \n",
      "10209         4.0          1.0                      0.0                   8.0   \n",
      "10210        10.0          1.0                      1.0                   5.0   \n",
      "10211         2.0          0.0                      0.0                   3.0   \n",
      "10212        10.0          2.0                      0.0                   3.0   \n",
      "10213         7.0          2.0                      0.0                   4.0   \n",
      "\n",
      "       ...  fico_range_high  fico_range_low       il_util  installment  \\\n",
      "0      ...        -1.144652       -1.144661  1.831698e+00    -1.444734   \n",
      "1      ...         1.553396        1.553414 -5.960418e-01    -1.127050   \n",
      "2      ...        -0.874847       -0.874853  9.577116e-01    -0.848931   \n",
      "3      ...        -0.470140       -0.470142 -2.076035e-01     0.293370   \n",
      "4      ...        -0.335238       -0.335239 -4.503774e-01     2.363555   \n",
      "...    ...              ...             ...           ...          ...   \n",
      "10209  ...        -1.279555       -1.279565  1.637479e+00    -0.747092   \n",
      "10210  ...        -1.009750       -1.009757  1.322801e-01     0.288516   \n",
      "10211  ...        -0.065433       -0.065431  6.663828e-01     1.657900   \n",
      "10212  ...        -0.470140       -0.470142  6.900051e-16     0.109841   \n",
      "10213  ...        -0.065433       -0.065431  7.149376e-01    -1.206446   \n",
      "\n",
      "       int_rate  loan_amnt  num_bc_tl  num_il_tl  open_il_24m  tot_cur_bal  \n",
      "0      0.336952  -1.426311  -0.784742  -0.114248    -0.624526    -0.591109  \n",
      "1     -1.139361  -1.116199  -0.983753   0.012979    -0.074668    -0.769362  \n",
      "2     -1.329074  -0.844850   1.205365   0.140207    -0.074668    -0.811502  \n",
      "3      2.523828  -0.229471  -0.386721   1.539710     2.674626    -0.514595  \n",
      "4     -0.187346   1.868634   0.011301  -1.004841    -0.074668     3.457844  \n",
      "...         ...        ...        ...        ...          ...          ...  \n",
      "10209 -1.329074  -0.747940   0.807344   1.285255     0.475191    -0.397726  \n",
      "10210  0.185182   0.027341  -0.585731   1.285255     1.025050     0.221899  \n",
      "10211  1.532145   0.899532  -0.585731  -0.368703    -0.624526    -0.652022  \n",
      "10212 -1.030707   0.027341   0.210311   0.267435    -1.174385     0.066743  \n",
      "10213  0.480099  -1.232491   0.011301  -0.495931     0.475191    -0.721195  \n",
      "\n",
      "[10214 rows x 35 columns] :\n",
      "\n",
      "Reintegrated test data \n",
      "      num_tl_op_past_12m  inq_fi  home_ownership_OWN  \\\n",
      "0                    2.0     1.0                 0.0   \n",
      "1                    4.0     2.0                 0.0   \n",
      "2                    0.0     3.0                 0.0   \n",
      "3                    3.0     1.0                 0.0   \n",
      "4                    4.0     2.0                 1.0   \n",
      "...                  ...     ...                 ...   \n",
      "4373                 1.0     1.0                 0.0   \n",
      "4374                 1.0     0.0                 0.0   \n",
      "4375                 2.0     0.0                 0.0   \n",
      "4376                 3.0     4.0                 0.0   \n",
      "4377                 4.0     1.0                 0.0   \n",
      "\n",
      "      chargeoff_within_12_mths  percent_bc_gt_75  application_type  \\\n",
      "0                          0.0              80.0               1.0   \n",
      "1                          0.0              50.0               1.0   \n",
      "2                          0.0             100.0               1.0   \n",
      "3                          0.0               0.0               1.0   \n",
      "4                          0.0               0.0               1.0   \n",
      "...                        ...               ...               ...   \n",
      "4373                       0.0             100.0               1.0   \n",
      "4374                       0.0               0.0               1.0   \n",
      "4375                       0.0             100.0               1.0   \n",
      "4376                       0.0              40.0               1.0   \n",
      "4377                       0.0              50.0               1.0   \n",
      "\n",
      "      emp_length  open_acc_6m  home_ownership_MORTGAGE  acc_open_past_24mths  \\\n",
      "0            7.0          2.0                      1.0                   5.0   \n",
      "1            1.0          2.0                      0.0                  10.0   \n",
      "2            5.0          0.0                      0.0                   3.0   \n",
      "3            8.0          1.0                      0.0                   7.0   \n",
      "4            3.0          4.0                      0.0                   6.0   \n",
      "...          ...          ...                      ...                   ...   \n",
      "4373         6.0          1.0                      1.0                   2.0   \n",
      "4374         1.0          0.0                      1.0                   1.0   \n",
      "4375         2.0          1.0                      1.0                   8.0   \n",
      "4376         2.0          3.0                      0.0                   4.0   \n",
      "4377         8.0          1.0                      1.0                   8.0   \n",
      "\n",
      "      ...  fico_range_high  fico_range_low       il_util  installment  \\\n",
      "0     ...        -0.470140       -0.470142  4.016664e+00    -0.491349   \n",
      "1     ...        -1.144652       -1.144661  2.293897e-01    -0.623576   \n",
      "2     ...        -0.605043       -0.605046  4.721637e-01    -1.161794   \n",
      "3     ...        -0.065433       -0.065431  3.517051e-02    -1.039408   \n",
      "4     ...        -0.739945       -0.739950  1.394705e+00    -1.099222   \n",
      "...   ...              ...             ...           ...          ...   \n",
      "4373  ...        -1.009750       -1.009757  6.900051e-16    -0.092373   \n",
      "4374  ...         1.688298        1.688317  8.120472e-01     0.094414   \n",
      "4375  ...        -1.144652       -1.144661 -2.076035e-01    -0.449623   \n",
      "4376  ...        -0.874847       -0.874853  1.006266e+00     0.415357   \n",
      "4377  ...        -0.335238       -0.335239  3.264993e-01    -0.670755   \n",
      "\n",
      "      int_rate  loan_amnt  num_bc_tl  num_il_tl  open_il_24m  tot_cur_bal  \n",
      "0     0.616348  -0.287617  -0.585731   2.303076    -0.624526     0.155040  \n",
      "1     1.532145  -0.554120  -0.187710  -1.132069    -0.624526    -0.799930  \n",
      "2     1.980558  -1.232491   0.011301  -0.241476    -0.074668    -0.470687  \n",
      "3    -1.030707  -1.038671   0.409322  -0.368703    -0.624526    -0.853335  \n",
      "4     0.185182  -1.135581  -0.187710  -0.623159    -0.074668    -0.759276  \n",
      "...        ...        ...        ...        ...          ...          ...  \n",
      "4373 -0.423625   0.414982  -1.182763  -1.132069    -1.174385     0.499558  \n",
      "4374 -1.139361   0.027341  -0.784742  -0.368703    -0.624526     1.051999  \n",
      "4375  0.768118  -0.263389  -1.381774   0.394662     1.025050     1.103799  \n",
      "4376  1.980558   0.414982  -0.386721   0.012979    -0.074668    -0.678195  \n",
      "4377  1.100979  -0.554120  -1.182763   1.666938     2.124767     0.183375  \n",
      "\n",
      "[4378 rows x 35 columns] :\n"
     ]
    }
   ],
   "source": [
    "from sklearn import preprocessing\n",
    "# standardized features:\n",
    "standardized_features = ['annual_inc','avg_cur_bal','delinq_amnt','dti','fico_range_high','fico_range_low','il_util',\\\n",
    "                'installment','int_rate','loan_amnt','num_bc_tl','num_il_tl',\\\n",
    "                'open_il_24m','tot_cur_bal']   \n",
    "\n",
    "train_subset = train[['annual_inc','avg_cur_bal','delinq_amnt','dti','fico_range_high','fico_range_low','il_util',\\\n",
    "                'installment','int_rate','loan_amnt','num_bc_tl','num_il_tl',\\\n",
    "                'open_il_24m','tot_cur_bal']]\n",
    "test_subset = test[['annual_inc','avg_cur_bal','delinq_amnt','dti','fico_range_high','fico_range_low','il_util',\\\n",
    "                'installment','int_rate','loan_amnt','num_bc_tl','num_il_tl',\\\n",
    "                'open_il_24m','tot_cur_bal']]\n",
    "\n",
    "scaler = preprocessing.StandardScaler()\n",
    "# fit a scaler on train subset that needs to be rescaled\n",
    "scaler.fit(train_subset) \n",
    "train_subset = scaler.transform(train_subset)\n",
    "train_subset = pd.DataFrame(train_subset)\n",
    "\n",
    "# recover names\n",
    "train_subset.columns =  ['annual_inc','avg_cur_bal','delinq_amnt','dti','fico_range_high','fico_range_low','il_util',\\\n",
    "                'installment','int_rate','loan_amnt','num_bc_tl','num_il_tl',\\\n",
    "                'open_il_24m','tot_cur_bal']\n",
    "\n",
    "test_subset = scaler.transform(test_subset)\n",
    "test_subset = pd.DataFrame(test_subset)\n",
    "\n",
    "# recover names\n",
    "test_subset.columns =  ['annual_inc','avg_cur_bal','delinq_amnt','dti','fico_range_high','fico_range_low','il_util',\\\n",
    "                'installment','int_rate','loan_amnt','num_bc_tl','num_il_tl',\\\n",
    "                'open_il_24m','tot_cur_bal']\n",
    "# merge non-standardized features and standardized features\n",
    "non_standardized_features = list(set(feature_pool)-set(standardized_features))\n",
    "\n",
    "output_bad_loans_train = train[\"bad_loans\"]\n",
    "train_nonstandard = train[non_standardized_features]\n",
    "train = train_nonstandard.join(train_subset)\n",
    "\n",
    "output_bad_loans_test = test[\"bad_loans\"]\n",
    "\n",
    "test_nonstandard = test[non_standardized_features]\n",
    "test = test_nonstandard.join(test_subset)\n",
    "\n",
    "# check again whether there are any missing values\n",
    "\n",
    "train_has_nan = train.isnull().values.any()\n",
    "\n",
    "test_has_nan = test.isnull().values.any()\n",
    "\n",
    "if not train_has_nan:\n",
    "    print(\"Train data has no missing values.\")\n",
    "if not test_has_nan:\n",
    "    print(\"Test data has no missing values.\\n\")\n",
    "\n",
    "print(\"Reintegrated training data \\n{} :\\n\".format(train))\n",
    "print(\"Reintegrated test data \\n{} :\".format(test))"
   ]
  },
  {
   "cell_type": "markdown",
   "metadata": {},
   "source": [
    "#### 1.8.2 Short Answer Question (3 pts)\n",
    "Simply explain why we use the train-set-fitted scaler to standardize the test set (3 pts)"
   ]
  },
  {
   "cell_type": "code",
   "execution_count": 74,
   "metadata": {},
   "outputs": [],
   "source": [
    "# The ML model in this assignment is based on training data set. Therefore it is\n",
    "# important that test data set is scaled and standardized using the mean and stand deviation of \n",
    "# training data set to ensure test data will run on the right model.\n",
    "# In this cse we are \"pretending\" that test data is a \"new, unseen data\" which we use to get a good estimate\n",
    "# of how well our model performs on new data. In real-life the unseen data we want to use with the model to get \n",
    "# an estimate of whether it is a good_loan or bad_loan could just be one point therefore it can't have\n",
    "# a mean and standard deviation. Therefore we use training data's mean and standard deviation to transform test data.\n",
    "# This would give the most accurate result when the test data is put through the model that has been trained with training data.\n",
    "\n",
    "# Example:\n",
    "# Training data: \n",
    "# grade 20 --> bad loan\n",
    "# grade 30 --> bad loan\n",
    "# grade 10 --> good loan\n",
    "# std deviation is 8.2 and mean is 20\n",
    "# After standardization;\n",
    "# grade 0 --> bad loan\n",
    "# grade 1.21 --> bad loan\n",
    "# grade -1.21 -> good loan\n",
    "# We can presume our model classifies anything below 0 as good loan and above 0 as bad loan.\n",
    "# Now our test data is grade 5, grade 6 and grade 7.\n",
    "# If standardizes with their own mean and std deviation they would be -1.21, 0 and 1.21 which \n",
    "# won't make sense because logically they should all be good loans. However when we use training data \n",
    "# parameters, they will all be standardized to a negative value hence making them good loans.\n"
   ]
  },
  {
   "cell_type": "markdown",
   "metadata": {},
   "source": [
    "<a id=\"Section_1.8\"></a>\n",
    "### 1.9 Feature Selection (2) (11 pts)\n",
    "Although as aforementioned we have selected 32 features out of 150 based on our knowledge and put those 32 features into our feature pool, we can do some more technical feature selection procedures in this section.\n",
    "#### 1.9.1 Filter method (5 pts)\n",
    "* Filter and select those features on the train set whose variance is higher than the **threshold (0.16)** we set. You may consider <a href=\"https://scikit-learn.org/stable/modules/generated/sklearn.feature_selection.VarianceThreshold.html\" target=\"_blank\" class=\"btn btn-success\" role=\"button\" style=\"text-decoration: none\">VarianceThreshold()</a> to do this. (1 pt)  \n",
    "* Figure out which features are selected by this model and print out them by their names  (0.5 pt)\n",
    "* Name the new train and test sets as *X_train1* and *X_test1*  (0.5 pt)\n",
    "\n",
    "<div class=\"alert alert-warning\">\n",
    "<b>Note: </b>\n",
    "    <p>\n",
    "    get_support() may be useful when you want to know which features have been selected.\n",
    "</div>"
   ]
  },
  {
   "cell_type": "code",
   "execution_count": 75,
   "metadata": {},
   "outputs": [
    {
     "name": "stdout",
     "output_type": "stream",
     "text": [
      "Index(['num_tl_op_past_12m', 'inq_fi', 'percent_bc_gt_75', 'emp_length',\n",
      "       'open_acc_6m', 'home_ownership_MORTGAGE', 'acc_open_past_24mths',\n",
      "       'last_pymnt_amnt', 'delinq_2yrs', 'revol_util', 'home_ownership_RENT',\n",
      "       'pct_tl_nvr_dlq', 'num_tl_90g_dpd_24m', 'open_act_il', 'annual_inc',\n",
      "       'avg_cur_bal', 'dti', 'fico_range_high', 'fico_range_low', 'il_util',\n",
      "       'installment', 'int_rate', 'loan_amnt', 'num_bc_tl', 'num_il_tl',\n",
      "       'open_il_24m', 'tot_cur_bal'],\n",
      "      dtype='object')\n"
     ]
    }
   ],
   "source": [
    "from sklearn.feature_selection import VarianceThreshold\n",
    "# output y here is bad_loans; train and test are dataframes\n",
    "# find variance for each column (other than bad_loans) and filter > threshold (0.16)\n",
    "selector = VarianceThreshold(0.16)\n",
    "selector.fit(train)\n",
    "selector.fit(test)\n",
    "\n",
    "# print column names after filter and rename sets \n",
    "print(train[train.columns[selector.get_support(indices=True)]].columns)\n",
    "X_train1 = train[train.columns[selector.get_support(indices=True)]]\n",
    "X_test1 = test[test.columns[selector.get_support(indices=True)]]"
   ]
  },
  {
   "cell_type": "markdown",
   "metadata": {},
   "source": [
    "* Filter and select those features on the train set who are more correlated with outcome variable *bad loans*. You may consider <a href=\"https://scikit-learn.org/stable/modules/generated/sklearn.feature_selection.SelectKBest.html\" target=\"_blank\" class=\"btn btn-success\" role=\"button\" style=\"text-decoration: none\">SelectKBest()</a> and <a href=\"https://docs.scipy.org/doc/scipy/reference/generated/scipy.stats.pearsonr.html\" target=\"_blank\" class=\"btn btn-success\" role=\"button\" style=\"text-decoration: none\">scipy.stats.pearsonr(x, y)</a> to do this. Select top *15* of the most correlated features with outcome variable (2 pts)\n",
    "* Figure out which features are selected by this model and print out them by their names (0.5 pt)\n",
    "* Name the new train and test sets as *X_train2* and *X_test2* (0.5 pts)\n",
    "\n",
    "<div class=\"alert alert-warning\">\n",
    "<b>Note: </b>\n",
    "    <p>\n",
    "    get_support() may be useful when you want to know which features have been selected.\n",
    "</div>"
   ]
  },
  {
   "cell_type": "code",
   "execution_count": 76,
   "metadata": {},
   "outputs": [
    {
     "name": "stdout",
     "output_type": "stream",
     "text": [
      "Index(['percent_bc_gt_75', 'emp_length', 'home_ownership_MORTGAGE',\n",
      "       'last_pymnt_amnt', 'revol_util', 'home_ownership_RENT', 'avg_cur_bal',\n",
      "       'dti', 'fico_range_high', 'fico_range_low', 'installment', 'int_rate',\n",
      "       'loan_amnt', 'num_il_tl', 'tot_cur_bal'],\n",
      "      dtype='object')\n"
     ]
    },
    {
     "name": "stderr",
     "output_type": "stream",
     "text": [
      "/Users/chandya/opt/anaconda3/lib/python3.7/site-packages/scipy/stats/stats.py:3913: PearsonRConstantInputWarning: An input array is constant; the correlation coefficent is not defined.\n",
      "  warnings.warn(PearsonRConstantInputWarning())\n",
      "/Users/chandya/opt/anaconda3/lib/python3.7/site-packages/scipy/stats/stats.py:3913: PearsonRConstantInputWarning: An input array is constant; the correlation coefficent is not defined.\n",
      "  warnings.warn(PearsonRConstantInputWarning())\n"
     ]
    }
   ],
   "source": [
    "from sklearn.feature_selection import SelectKBest\n",
    "from scipy.stats import pearsonr\n",
    "# train (input)\n",
    "# output_bad_loans_train (target output)\n",
    "def train_pearsonr(X, y):\n",
    "    scores, pvalues = [], []\n",
    "    for tup in map(lambda x: pearsonr(x, y), np.transpose(X)):\n",
    "        scores.append(abs(tup[0]))\n",
    "        pvalues.append(tup[1])\n",
    "        \n",
    "    return (np.array(scores), np.array(pvalues))\n",
    "\n",
    "transformer = SelectKBest( score_func = train_pearsonr, k=15)\n",
    "transformer.fit_transform(train, output_bad_loans_train)\n",
    "transformer.fit_transform(test, output_bad_loans_test)\n",
    "print(train[train.columns[transformer.get_support(indices=True)]].columns)\n",
    "\n",
    "X_train2 = train[train.columns[transformer.get_support(indices=True)]]\n",
    "X_test2 = test[test.columns[transformer.get_support(indices=True)]]\n"
   ]
  },
  {
   "cell_type": "markdown",
   "metadata": {},
   "source": [
    "#### 1.9.2 Wrapper method (2 pts)\n",
    "* Select those features on the train set in a recursive way with estimator, <a href=\"https://scikit-learn.org/stable/modules/generated/sklearn.linear_model.LogisticRegression.html\" target=\"_blank\" class=\"btn btn-success\" role=\"button\" style=\"text-decoration: none\">LogisticRegression()</a>. You may consider <a href=\"https://scikit-learn.org/stable/modules/generated/sklearn.feature_selection.RFE.html\" target=\"_blank\" class=\"btn btn-success\" role=\"button\" style=\"text-decoration: none\">RFE()</a> to do the selection. The goal of recursive feature elimination (RFE) is to select features by recursively considering smaller and smaller sets of features. Select top 15 of the most correlated features with outcome variable. Set **max_iter=10000** for *LogisticRegression(max_iter=10000)* (1 pt)\n",
    "* Figure out which features are selected by this model and print out them by their names (0.5 pt)\n",
    "* Name the new train and test set as *X_train3* and *X_test3* (0.5 pt)\n",
    "\n",
    "<div class=\"alert alert-warning\">\n",
    "<b>Note: </b>\n",
    "    <p>\n",
    "    get_support() may be useful when you want to know which features have been selected.\n",
    "</div>"
   ]
  },
  {
   "cell_type": "code",
   "execution_count": 77,
   "metadata": {},
   "outputs": [
    {
     "name": "stdout",
     "output_type": "stream",
     "text": [
      "Index(['home_ownership_OWN', 'chargeoff_within_12_mths',\n",
      "       'home_ownership_MORTGAGE', 'collections_12_mths_ex_med', 'delinq_2yrs',\n",
      "       'home_ownership_RENT', 'num_tl_90g_dpd_24m', 'annual_inc',\n",
      "       'delinq_amnt', 'fico_range_high', 'fico_range_low', 'int_rate',\n",
      "       'loan_amnt', 'num_il_tl', 'tot_cur_bal'],\n",
      "      dtype='object')\n"
     ]
    }
   ],
   "source": [
    "from sklearn.feature_selection import RFE\n",
    "from sklearn.linear_model import LogisticRegression\n",
    "\n",
    "reg_selector = RFE(estimator = LogisticRegression(max_iter=10000), n_features_to_select = 15)\n",
    "reg_selector.fit(train, output_bad_loans_train)\n",
    "\n",
    "print(train[train.columns[reg_selector.get_support(indices=True)]].columns)\n",
    "\n",
    "reg_selector.fit(test, output_bad_loans_test)\n",
    "\n",
    "X_train3 = train[train.columns[reg_selector.get_support(indices=True)]]\n",
    "X_test3 = test[test.columns[reg_selector.get_support(indices=True)]]"
   ]
  },
  {
   "cell_type": "markdown",
   "metadata": {},
   "source": [
    "#### 1.9.3 open questions (4 pts)\n",
    "* Base on your understanding of feature ranking with recursive feature elimination, attempt to \"brain store\" some ideas about the possible disadvantages of the wrapper method. "
   ]
  },
  {
   "cell_type": "code",
   "execution_count": 78,
   "metadata": {},
   "outputs": [],
   "source": [
    "# Recursive feature elimination follows a greedy search approach where it\n",
    "# aggressively evaluates all possible combinations of features against the evaluation criterion,\n",
    "# which in this case is the correlation with bad_loans and selects the combination of features\n",
    "# that gives the optimal result for the specified machine learning algorithm.\n",
    "\n",
    "# Disadvantages:\n",
    "# 1. Recursive function is generally slower than non-recursive function, requires alot of memory space to hold\n",
    "# intermediate results on the system stacks and is inefficient in terms of space and time complexity.\n",
    "# For example estimated time complexity of forward selection method is O(n^2)\n",
    "# 2. With datasets with many features such as the 150 features in our original dataset, computation time will be very high.\n",
    "# 3. There is a high chance of over-firtting because it involves training of machine learning models with\n",
    "# different combinations of features. Overfitting a regression model reduces its generalizability outside the original dataset as\n",
    "# # given in lecture 3's credit default example comparing debt and annual income.\n",
    "# 4. The solution may not always be optimal which can be seen why in point 6.\n",
    "# 5. Step forward selection adds features at each iteration, however an exception can occur when we add up a feature that was useful\n",
    "# in the beginning, but after adding more features, is now non-useful but it cannot be removed. The reverse happens with \n",
    "# step backaward selection."
   ]
  },
  {
   "cell_type": "markdown",
   "metadata": {},
   "source": [
    "<a id=\"Section_2\"></a>\n",
    "## 2. A Simply Implementation: Logistic Regression (3.5 pts)\n",
    "\n",
    "### 2.1 Train process (2 pts)\n",
    "* Fit a LogisticRegression model using *X_train3* (go to <a href=\"https://scikit-learn.org/stable/modules/generated/sklearn.linear_model.LogisticRegression.html\" target=\"_blank\" class=\"btn btn-success\" role=\"button\" style=\"text-decoration: none\">Logistic Regression</a> for more information.). (1 pt)\n",
    " * You need to set parameters for this function as *fit_intercept=True, random_state=42, solver='liblinear'*\n",
    " * Report the coefficients and intercept of the fitted model (0.5 pt)\n",
    " * Report the accuracy and and the Confusion Matrix of the fitted model (0.5 pt)"
   ]
  },
  {
   "cell_type": "code",
   "execution_count": 79,
   "metadata": {},
   "outputs": [
    {
     "name": "stdout",
     "output_type": "stream",
     "text": [
      "The intercept of model is: [-0.70973673]\n",
      "The coefficients of the the following columns are:  Index(['home_ownership_OWN', 'application_type', 'open_acc_6m',\n",
      "       'home_ownership_MORTGAGE', 'collections_12_mths_ex_med', 'delinq_2yrs',\n",
      "       'home_ownership_RENT', 'dti', 'fico_range_low', 'installment',\n",
      "       'int_rate', 'loan_amnt', 'num_il_tl', 'open_il_24m', 'tot_cur_bal'],\n",
      "      dtype='object')\n",
      "[[-0.90982616  0.00507994  0.04696547 -1.0724636  -0.0499762  -0.11330444\n",
      "  -0.77159386  0.04310908 -0.1837928  -0.08757627  0.39828989  0.38491648\n",
      "  -0.22136345 -0.01965285 -0.25496235]]\n",
      "\n",
      "\n",
      "Accuracy of fitted model is: 0.8113373800665753\n",
      "The confusion matrix is: \n",
      "[[8248   39]\n",
      " [1888   39]]\n"
     ]
    }
   ],
   "source": [
    "# Import libraries\n",
    "import sklearn\n",
    "from sklearn.linear_model import LogisticRegression\n",
    "from sklearn.metrics import accuracy_score, f1_score, precision_score, recall_score, classification_report, confusion_matrix\n",
    "from sklearn.preprocessing import StandardScaler, MinMaxScaler\n",
    "\n",
    "# Report the coefficients and intercept of the fitted model\n",
    "clf = LogisticRegression(fit_intercept=True, random_state=42, solver='liblinear').fit(X_train3, output_bad_loans_train)\n",
    "print(\"The intercept of model is: \" + str (clf.intercept_))\n",
    "print(\"The coefficients of the the following columns are:  \" + str(train[train.columns[reg_selector.get_support(indices=True)]].columns))\n",
    "print(clf.coef_)\n",
    "print(\"\\n\")\n",
    "\n",
    "# Report the accuracy and the Confusion Matrix of the fitted model\n",
    "print(\"Accuracy of fitted model is: \" + str(clf.score(X_train3, output_bad_loans_train)))\n",
    "print(\"The confusion matrix is: \")\n",
    "print(confusion_matrix(output_bad_loans_train, clf.predict(X_train3)))"
   ]
  },
  {
   "cell_type": "markdown",
   "metadata": {},
   "source": [
    "### 2.2 Test process (1.5 pts)\n",
    "* Use that fitted model to make prediction on the test set *X_test3* and report the Accuracy and the Confusion Matrix on test set (1.5 pts)"
   ]
  },
  {
   "cell_type": "code",
   "execution_count": 80,
   "metadata": {},
   "outputs": [
    {
     "name": "stdout",
     "output_type": "stream",
     "text": [
      "Accuracy of fitted model on test set is: 0.821608040201005\n"
     ]
    }
   ],
   "source": [
    "print(\"Accuracy of fitted model on test set is: \" + str(clf.score(X_test3, output_bad_loans_test)))"
   ]
  },
  {
   "cell_type": "code",
   "execution_count": 81,
   "metadata": {},
   "outputs": [
    {
     "name": "stdout",
     "output_type": "stream",
     "text": [
      "The confusion matrix on test is: \n",
      "[[3581   21]\n",
      " [ 760   16]]\n"
     ]
    }
   ],
   "source": [
    "print(\"The confusion matrix on test is: \")\n",
    "print(confusion_matrix(output_bad_loans_test, clf.predict(X_test3)))"
   ]
  }
 ],
 "metadata": {
  "kernelspec": {
   "display_name": "Python 3",
   "language": "python",
   "name": "python3"
  },
  "language_info": {
   "codemirror_mode": {
    "name": "ipython",
    "version": 3
   },
   "file_extension": ".py",
   "mimetype": "text/x-python",
   "name": "python",
   "nbconvert_exporter": "python",
   "pygments_lexer": "ipython3",
   "version": "3.7.4"
  }
 },
 "nbformat": 4,
 "nbformat_minor": 2
}
