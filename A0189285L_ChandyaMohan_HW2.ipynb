{
 "cells": [
  {
   "cell_type": "markdown",
   "metadata": {},
   "source": [
    "# IS4303 IT-MEDIATED FINANCIAL SOLUTIONS AND PLATFORMS\n",
    "## Homework 2 - Overfitting, Regularization and Cross Validation\n",
    "### Due Date: Mar. 6 (Sat.), 2021, 23:00 SG Time\n",
    "### Name your .ipynb file as \"StudentID_YourName_HW1.ipynb\" and then upload"
   ]
  },
  {
   "cell_type": "markdown",
   "metadata": {},
   "source": [
    "<div class=\"alert alert-warning\">\n",
    "<b>Python Version:</b> 3.7+<br>Create a virtual environment in Anaconda if needed.\n",
    "</div>"
   ]
  },
  {
   "cell_type": "markdown",
   "metadata": {},
   "source": [
    "## Sections\n",
    "<ul>\n",
    "    <li><a href=\"#Section_0\" style=\"text-decoration: none\">0. Assignment Overview</a></li>\n",
    "    <li><a href=\"#Section_1\" style=\"text-decoration: none\">1. Data Preparation</a></li>\n",
    "    <li><a href=\"#Section_2\" style=\"text-decoration: none\">2. Overfitting</a></li>\n",
    "    <li><a href=\"#Section_3\" style=\"text-decoration: none\">3. Regularization</a></li>\n",
    "    <li><a href=\"#Section_4\" style=\"text-decoration: none\">4. Cross-Validation</a></li>\n",
    "</ul>"
   ]
  },
  {
   "cell_type": "markdown",
   "metadata": {},
   "source": [
    "<a id=\"Section_0\"></a>\n",
    "## 0 Assignment Overview\n",
    "\n",
    "* The goal of this assignment is to understand (1) Overfitting (2) Regularization in regression (3) Cross-validation.\n",
    "* In this assignment, we will build linear models using a loan dataset. \n",
    "* A dataset containing complete loan data for all loans issued has been uploaded on Luminus. It includes the current loan status (Current, Late, Fully Paid, etc.) and a large set of attributes for each customer. \n",
    "* The assignment will require you to use the dataset to build models to predict loan default.\n",
    "* Please answer the questions and write the code / results in the empty cells.\n",
    "* 69 pts in total"
   ]
  },
  {
   "cell_type": "code",
   "execution_count": 47,
   "metadata": {},
   "outputs": [],
   "source": [
    "#!usr/bin/env python\n",
    "#-*- coding:utf-8 -*-\n",
    "from __future__ import division, print_function\n",
    "import numpy as np\n",
    "import pandas as pd\n",
    "import matplotlib.pyplot as plt\n",
    "from math import sqrt, log\n",
    "from collections import defaultdict\n",
    "from IPython.display import HTML\n",
    "%matplotlib inline"
   ]
  },
  {
   "cell_type": "markdown",
   "metadata": {},
   "source": [
    "<a id=\"Section_1\"></a>\n",
    "## 1. Data Preparation (7.5 pts)"
   ]
  },
  {
   "cell_type": "markdown",
   "metadata": {},
   "source": [
    "<a id=\"Section_1.1\"></a>\n",
    "### 1.1 Load the data (1.5 pts)\n",
    "* Load the data set (0.5 pt)\n",
    "* The column '*bad_loans*' in the dataset is the outcome variable *y* as the one in the homework 1\n",
    "* Drop the column '*home_ownership_OWN*' from the data set to avoid multicollinearity although this is not necessary (0.5 pt)\n",
    "* Show the names of the features in your dataset and print out how many features you have (excluding outcome variable) (0.5 pt)\n",
    "\n",
    "<div class=\"alert alert-warning\">\n",
    "<b>Tip: </b>You may save the list of features as for example, '<I>feature_original</I>' that does not containing 'bad_loans'.\n",
    "</div>"
   ]
  },
  {
   "cell_type": "code",
   "execution_count": 48,
   "metadata": {
    "scrolled": true
   },
   "outputs": [
    {
     "name": "stdout",
     "output_type": "stream",
     "text": [
      "The features in dataset are:\n",
      " ['acc_now_delinq', 'annual_inc', 'avg_cur_bal', 'chargeoff_within_12_mths', 'collections_12_mths_ex_med', 'delinq_2yrs', 'dti', 'emp_length', 'grade', 'inq_fi', 'int_rate', 'installment', 'last_pymnt_amnt', 'loan_amnt', 'mths_since_last_delinq', 'num_bc_tl', 'pct_tl_nvr_dlq', 'revol_util', 'tax_liens', 'total_acc', 'total_bal_ex_mort', 'home_ownership_MORTGAGE', 'home_ownership_RENT']\n",
      "\n",
      "The number of features in dataset are 23.\n"
     ]
    },
    {
     "data": {
      "text/html": [
       "<div>\n",
       "<style scoped>\n",
       "    .dataframe tbody tr th:only-of-type {\n",
       "        vertical-align: middle;\n",
       "    }\n",
       "\n",
       "    .dataframe tbody tr th {\n",
       "        vertical-align: top;\n",
       "    }\n",
       "\n",
       "    .dataframe thead th {\n",
       "        text-align: right;\n",
       "    }\n",
       "</style>\n",
       "<table border=\"1\" class=\"dataframe\">\n",
       "  <thead>\n",
       "    <tr style=\"text-align: right;\">\n",
       "      <th></th>\n",
       "      <th>acc_now_delinq</th>\n",
       "      <th>annual_inc</th>\n",
       "      <th>avg_cur_bal</th>\n",
       "      <th>chargeoff_within_12_mths</th>\n",
       "      <th>collections_12_mths_ex_med</th>\n",
       "      <th>delinq_2yrs</th>\n",
       "      <th>dti</th>\n",
       "      <th>emp_length</th>\n",
       "      <th>grade</th>\n",
       "      <th>inq_fi</th>\n",
       "      <th>...</th>\n",
       "      <th>mths_since_last_delinq</th>\n",
       "      <th>num_bc_tl</th>\n",
       "      <th>pct_tl_nvr_dlq</th>\n",
       "      <th>revol_util</th>\n",
       "      <th>tax_liens</th>\n",
       "      <th>total_acc</th>\n",
       "      <th>total_bal_ex_mort</th>\n",
       "      <th>bad_loans</th>\n",
       "      <th>home_ownership_MORTGAGE</th>\n",
       "      <th>home_ownership_RENT</th>\n",
       "    </tr>\n",
       "  </thead>\n",
       "  <tbody>\n",
       "    <tr>\n",
       "      <th>0</th>\n",
       "      <td>0.0</td>\n",
       "      <td>11.608245</td>\n",
       "      <td>2412.0</td>\n",
       "      <td>0.0</td>\n",
       "      <td>0.0</td>\n",
       "      <td>3.0</td>\n",
       "      <td>10.33</td>\n",
       "      <td>10.0</td>\n",
       "      <td>3</td>\n",
       "      <td>5.0</td>\n",
       "      <td>...</td>\n",
       "      <td>10.0</td>\n",
       "      <td>8.0</td>\n",
       "      <td>85.7</td>\n",
       "      <td>47.5</td>\n",
       "      <td>0.0</td>\n",
       "      <td>29.0</td>\n",
       "      <td>31350.0</td>\n",
       "      <td>0</td>\n",
       "      <td>1</td>\n",
       "      <td>0</td>\n",
       "    </tr>\n",
       "    <tr>\n",
       "      <th>1</th>\n",
       "      <td>0.0</td>\n",
       "      <td>10.778977</td>\n",
       "      <td>3124.0</td>\n",
       "      <td>0.0</td>\n",
       "      <td>0.0</td>\n",
       "      <td>0.0</td>\n",
       "      <td>26.23</td>\n",
       "      <td>10.0</td>\n",
       "      <td>3</td>\n",
       "      <td>2.0</td>\n",
       "      <td>...</td>\n",
       "      <td>80.0</td>\n",
       "      <td>10.0</td>\n",
       "      <td>96.2</td>\n",
       "      <td>17.4</td>\n",
       "      <td>0.0</td>\n",
       "      <td>27.0</td>\n",
       "      <td>28116.0</td>\n",
       "      <td>0</td>\n",
       "      <td>1</td>\n",
       "      <td>0</td>\n",
       "    </tr>\n",
       "    <tr>\n",
       "      <th>2</th>\n",
       "      <td>0.0</td>\n",
       "      <td>11.350418</td>\n",
       "      <td>12652.0</td>\n",
       "      <td>0.0</td>\n",
       "      <td>0.0</td>\n",
       "      <td>0.0</td>\n",
       "      <td>16.26</td>\n",
       "      <td>1.0</td>\n",
       "      <td>2</td>\n",
       "      <td>1.0</td>\n",
       "      <td>...</td>\n",
       "      <td>26.0</td>\n",
       "      <td>5.0</td>\n",
       "      <td>94.3</td>\n",
       "      <td>44.6</td>\n",
       "      <td>0.0</td>\n",
       "      <td>35.0</td>\n",
       "      <td>113864.0</td>\n",
       "      <td>0</td>\n",
       "      <td>0</td>\n",
       "      <td>1</td>\n",
       "    </tr>\n",
       "    <tr>\n",
       "      <th>3</th>\n",
       "      <td>0.0</td>\n",
       "      <td>11.461643</td>\n",
       "      <td>53891.0</td>\n",
       "      <td>0.0</td>\n",
       "      <td>0.0</td>\n",
       "      <td>0.0</td>\n",
       "      <td>9.21</td>\n",
       "      <td>10.0</td>\n",
       "      <td>2</td>\n",
       "      <td>0.0</td>\n",
       "      <td>...</td>\n",
       "      <td>49.0</td>\n",
       "      <td>5.0</td>\n",
       "      <td>75.0</td>\n",
       "      <td>23.3</td>\n",
       "      <td>0.0</td>\n",
       "      <td>16.0</td>\n",
       "      <td>15698.0</td>\n",
       "      <td>0</td>\n",
       "      <td>1</td>\n",
       "      <td>0</td>\n",
       "    </tr>\n",
       "    <tr>\n",
       "      <th>4</th>\n",
       "      <td>0.0</td>\n",
       "      <td>11.461643</td>\n",
       "      <td>5573.0</td>\n",
       "      <td>0.0</td>\n",
       "      <td>0.0</td>\n",
       "      <td>1.0</td>\n",
       "      <td>12.95</td>\n",
       "      <td>10.0</td>\n",
       "      <td>3</td>\n",
       "      <td>2.0</td>\n",
       "      <td>...</td>\n",
       "      <td>4.0</td>\n",
       "      <td>5.0</td>\n",
       "      <td>100.0</td>\n",
       "      <td>34.5</td>\n",
       "      <td>0.0</td>\n",
       "      <td>29.0</td>\n",
       "      <td>50159.0</td>\n",
       "      <td>0</td>\n",
       "      <td>1</td>\n",
       "      <td>0</td>\n",
       "    </tr>\n",
       "  </tbody>\n",
       "</table>\n",
       "<p>5 rows × 24 columns</p>\n",
       "</div>"
      ],
      "text/plain": [
       "   acc_now_delinq  annual_inc  avg_cur_bal  chargeoff_within_12_mths  \\\n",
       "0             0.0   11.608245       2412.0                       0.0   \n",
       "1             0.0   10.778977       3124.0                       0.0   \n",
       "2             0.0   11.350418      12652.0                       0.0   \n",
       "3             0.0   11.461643      53891.0                       0.0   \n",
       "4             0.0   11.461643       5573.0                       0.0   \n",
       "\n",
       "   collections_12_mths_ex_med  delinq_2yrs    dti  emp_length  grade  inq_fi  \\\n",
       "0                         0.0          3.0  10.33        10.0      3     5.0   \n",
       "1                         0.0          0.0  26.23        10.0      3     2.0   \n",
       "2                         0.0          0.0  16.26         1.0      2     1.0   \n",
       "3                         0.0          0.0   9.21        10.0      2     0.0   \n",
       "4                         0.0          1.0  12.95        10.0      3     2.0   \n",
       "\n",
       "   ...  mths_since_last_delinq  num_bc_tl  pct_tl_nvr_dlq  revol_util  \\\n",
       "0  ...                    10.0        8.0            85.7        47.5   \n",
       "1  ...                    80.0       10.0            96.2        17.4   \n",
       "2  ...                    26.0        5.0            94.3        44.6   \n",
       "3  ...                    49.0        5.0            75.0        23.3   \n",
       "4  ...                     4.0        5.0           100.0        34.5   \n",
       "\n",
       "   tax_liens  total_acc  total_bal_ex_mort  bad_loans  \\\n",
       "0        0.0       29.0            31350.0          0   \n",
       "1        0.0       27.0            28116.0          0   \n",
       "2        0.0       35.0           113864.0          0   \n",
       "3        0.0       16.0            15698.0          0   \n",
       "4        0.0       29.0            50159.0          0   \n",
       "\n",
       "   home_ownership_MORTGAGE  home_ownership_RENT  \n",
       "0                        1                    0  \n",
       "1                        1                    0  \n",
       "2                        0                    1  \n",
       "3                        1                    0  \n",
       "4                        1                    0  \n",
       "\n",
       "[5 rows x 24 columns]"
      ]
     },
     "execution_count": 48,
     "metadata": {},
     "output_type": "execute_result"
    }
   ],
   "source": [
    "# 1. read the dataset \n",
    "loans = pd.read_csv('/Users/chandya/Desktop/IS4303/HW2/HW2LoanStatsDataset_2020Q3.csv')\n",
    "\n",
    "# 2. drop the column named 'home_ownership_OWN' to avoid multicollinearity\n",
    "loans = loans.drop(columns=['home_ownership_OWN'])\n",
    "# 3. get the names of base features, define them by 'feature_original'.\n",
    "feature_original = list(loans.columns)\n",
    "# remove bad_loans from feature_original\n",
    "feature_original.pop(21)\n",
    "outcome = pd.DataFrame(loans['bad_loans'])\n",
    "# 4. Show the names of the features in your dataset and print how many features you have\n",
    "print(\"The features in dataset are:\\n {}\\n\".format(feature_original))\n",
    "print(\"The number of features in dataset are {}.\".format(len(feature_original)))\n",
    "loans = pd.DataFrame(loans)\n",
    "loans.head()"
   ]
  },
  {
   "cell_type": "markdown",
   "metadata": {},
   "source": [
    "<a id=\"section_1.2\"></a>\n",
    "### 1.2 Generate polynomial features  (5.5 pts)\n",
    "In practice, to avoid under-fitting or non-separable problems for classification, one common approach is to extend the original features by generating polynomial features based on all or some of the raw features. For example, suppose we have two raw features $(x_0, x_1)$, we can extend the 2-dimensional feature space to a polynomial 6-dimensional feature space $(1, x_0, x_1, x_0^2, x_1^2, x_0x_1)$.    \n",
    "  \n",
    "* In this assignment, we generate polynomial features based on 16 raw features defined by variable \"*features_ploly_base*\". **You need to set the highest order (degree) of the polynomial features as 3 and do not contain constant feature 1. In addition, non-interactional features that are built based on only one feature for example $x_0^2$, $x_0^3$ and $x_1^3$ should be included**. For instance, given a raw 2-D feature space $(x_0, x_1)$, the required 3-degree polynomial extension is $(x_0, x_1, x_0x_1, x_0^2, x_1^2, x_0x_1^2,x_0^2x_1, x_0^3, x_1^3)$. You may consider function <a href=\"https://scikit-learn.org/stable/modules/generated/sklearn.preprocessing.PolynomialFeatures.html\" target=\"_blank\" class=\"btn btn-success\" role=\"button\" style=\"text-decoration: none\">PolynomialFeatures()</a> to do this (2 pts)  \n",
    "\n",
    "* Use the original feature names to construct the names of generated polynomial features. For example, for two features $(age, weight)$ that need to be 2-order polynomially extended, you are required to have feature names as $(age, weight, ageweight,age^2, weight^2)$ but not others like $(x_0,x_1,x_0x_1,x_0^2,x_1^2)$. (1 pt)\n",
    "\n",
    "* This assignment involves two data sets: one containing only **original features** and the other containing **extended polynomial features**. They are defined as follows. (2 pt)\n",
    "\n",
    " **original features** = features defined at [Section 1.1](#Section_1.1)  \n",
    " **$n$ generated polynomial features** are built on features_ploly_base, including *features_ploly_base* as well   \n",
    " **extended polynomial features** = $n$ generated polynomial features + 7 non-polynomial features (i.e., 23 **original features** - 16 *features_ploly_base*) \n",
    "\n",
    "* show how many columns and rows are in the new dataset. (0.5 pts)\n",
    "\n",
    "\n",
    "<div class=\"alert alert-danger\">\n",
    "<b>Note:</b><p>You need to check whether there are unexpected Nan values generated during the operation of dataframe by command <I>YourDataframe.isna().sum()</I>.</p>\n",
    "</div>"
   ]
  },
  {
   "cell_type": "code",
   "execution_count": 49,
   "metadata": {},
   "outputs": [
    {
     "name": "stdout",
     "output_type": "stream",
     "text": [
      "The number of rows is 2373\n",
      "The number of columns is 976\n"
     ]
    }
   ],
   "source": [
    "from sklearn.preprocessing import PolynomialFeatures\n",
    "\n",
    "# The selected base features that we need to make polynomial extension on them. \n",
    "# Note that it does not necessary to have to include all the features we showed above\n",
    "features_ploly_base=['annual_inc','chargeoff_within_12_mths','delinq_2yrs','dti','emp_length','grade',\\\n",
    "                     'home_ownership_MORTGAGE','home_ownership_RENT','inq_fi','int_rate','installment',\\\n",
    "                     'last_pymnt_amnt','loan_amnt','num_bc_tl','pct_tl_nvr_dlq','revol_util']\n",
    "\n",
    "# 1. 3-order polynomial transformation on features_ploly_base\n",
    "poly = PolynomialFeatures(3, include_bias=False)\n",
    "\n",
    "\n",
    "# 2. transform data of generated polynomial features (list) to DataFrame\n",
    "# set the name of polynomial features according to the original name in features_ploly_base\n",
    "# by setting the 'columns' parameter to poly.get_feature_names(input_features = features_ploly_base)\n",
    "loans_extended = loans[features_ploly_base]\n",
    "loans_extended = pd.DataFrame(poly.fit_transform(loans_extended))\n",
    "loans_extended.columns = poly.get_feature_names(features_ploly_base)\n",
    "# 3. generate new data set that includes extended polynomial features + outcome variable\n",
    "# You may remove features_ploly_base from the copy of feature_original\n",
    "feature_original = list (set(feature_original) - set(features_ploly_base))\n",
    "loans_non_poly = loans[feature_original]\n",
    "loans_extended = loans_non_poly.join(loans_extended)\n",
    "loans_extended = loans_extended.join(outcome)\n",
    "# 4. show the column and row number of your new data set.\n",
    "\n",
    "loans_extended.head()\n",
    "\n",
    "print(\"The number of rows is {}\".format(loans_extended.shape[0]))\n",
    "print(\"The number of columns is {}\".format(loans_extended.shape[1]))"
   ]
  },
  {
   "cell_type": "markdown",
   "metadata": {},
   "source": [
    "<a id=\"Section_1.3\"></a>\n",
    "### 1.3 Features and Outcome Variable Separation (0.5 pt)\n",
    "Extract feature-related data as \"X\" and outcome variable related data as \"y\" away from \"LoanData_new\". This step is for data splitting in the following.  \n",
    "X corresponding to data with all the extended polynomial features aforedefined, y corresponding to data with only 'bad_loans'"
   ]
  },
  {
   "cell_type": "code",
   "execution_count": 50,
   "metadata": {},
   "outputs": [],
   "source": [
    "# Did not include bad_loans when generating the fitted data set in above question therefore just bringing it down here\n",
    "X, y = loans_extended.drop('bad_loans', axis=1), loans_extended['bad_loans']"
   ]
  },
  {
   "cell_type": "markdown",
   "metadata": {},
   "source": [
    "<a id=\"Section_2\"></a>\n",
    "## 2. Overfitting (30.5 pts)\n",
    "This section aims to give you an understanding of overfitting. In this section, we set up the logistic model parameters of <a href=\"https://scikit-learn.org/stable/modules/generated/sklearn.linear_model.LogisticRegression.html\" target=\"_blank\" class=\"btn btn-success\" role=\"button\" style=\"text-decoration: none\">Logistic Regression</a> as follows:  \n",
    "* class_weight='balanced',random_state=42,solver='liblinear', C=10\\*\\*10, max_iter=50000,tol=1e-9, and keep the intercept term in the objective function (0.5 pt)   \n",
    " * tip 1: You may save these parameter setting as a dictionary and use it to instantiate LogisticRegression() class\n",
    " * tip 2: Name the object of LogisticRegression() as an unified name, \"lr_normal\" \n",
    "\n",
    "<div class=\"alert alert-warning\">\n",
    "<b>Note: </b>The parameter \"<I>C</I>\" which is equal to $1/\\lambda$ captures the degree of regularization: The larger \"<I>C</I>\" is, the lower the degree of regularization is. Here we set a large enough <I>C</I>=$10^{10}$ to remove regularization, i.e., normal logistic regression.\n",
    "</div>"
   ]
  },
  {
   "cell_type": "code",
   "execution_count": 51,
   "metadata": {},
   "outputs": [],
   "source": [
    "# Import libraries\n",
    "import sklearn\n",
    "from sklearn.linear_model import LogisticRegression\n",
    "from sklearn.metrics import f1_score, precision_score, recall_score, classification_report, confusion_matrix\n",
    "from sklearn.metrics import roc_curve, auc, accuracy_score, mean_squared_error, roc_auc_score\n",
    "from sklearn.model_selection import train_test_split, KFold\n",
    "\n",
    "lr_normal = LogisticRegression(class_weight='balanced',random_state=42,solver='liblinear', C=10**10, max_iter=50000,tol=1e-9)"
   ]
  },
  {
   "cell_type": "markdown",
   "metadata": {},
   "source": [
    "<a id=\"Section_2.1\"></a>\n",
    "### 2.1 Learning with original features only: lr_21 (15 pts)\n",
    "In the subsection [2.1](#Section_2.1), [2.2](#Section_2.2) and [2.3](#Section_2.3), we will fit a model using the data with only **original features**  \n",
    "* Split the data *X* and *y* obtained at [Section 1.3](#Section_1.3) under *train set: test set = 70/30* (0.5 pt)  \n",
    " * **Takeaway: a common strategy of splitting data in practice is train set: test set using = 70/30 or 80/20**\n",
    " * Fix *random_state*=42 for *train_test_split()* so that results could be replicated. Refer to <a href=\"https://scikit-learn.org/stable/modules/generated/sklearn.model_selection.train_test_split.html\" target=\"_blank\" class=\"btn btn-success\" role=\"button\" style=\"text-decoration: none\">Data Splitting</a> for more information. \n",
    " * tips: You may save the parameter of data splitting as a dictionary and use it in the subsequent data splitting procedure if at all"
   ]
  },
  {
   "cell_type": "code",
   "execution_count": 52,
   "metadata": {},
   "outputs": [
    {
     "name": "stdout",
     "output_type": "stream",
     "text": [
      "(1661, 23)\n",
      "(712, 23)\n"
     ]
    }
   ],
   "source": [
    "# Note: In this assignment, I denote data variables with base features by X_train_original and X_test_original,\n",
    "#       denote data variables with extended polynomial features by X_train_poly and X_test_poly,\n",
    "#       if you see them in the comments, please do not confuse about them\n",
    "\n",
    "# split the data set:\n",
    "# Save  'X_train_original' and 'X_test_original' containing only the original features\n",
    "\n",
    "X_train_original, X_test_original = train_test_split(loans, \n",
    "                         train_size=0.70,\n",
    "                         test_size=0.30, random_state=42)    \n",
    "y_train_original = X_train_original['bad_loans']\n",
    "y_test_original = X_test_original['bad_loans']\n",
    "X_train_original = X_train_original.drop(columns=['bad_loans'])\n",
    "X_test_original = X_test_original.drop(columns=['bad_loans'])\n",
    "\n",
    "print(X_train_original.shape)                          \n",
    "print(X_test_original.shape)                           "
   ]
  },
  {
   "cell_type": "markdown",
   "metadata": {},
   "source": [
    "* Train and test the model (3 pts)\n",
    "    * Train the model using train set with only original features (0.5 pt)\n",
    "    * Show the coefficients and intercept of the model (0.5 pt)\n",
    "    * Make predictions on both train and test sets (1 pt)\n",
    "    * Show the Accuracy of training and testing (1 pt)"
   ]
  },
  {
   "cell_type": "code",
   "execution_count": 53,
   "metadata": {
    "scrolled": false
   },
   "outputs": [
    {
     "name": "stdout",
     "output_type": "stream",
     "text": [
      "Training step:\n",
      "The intercept of model is: [-6.01237812]\n",
      "The coefficients of the model are:\n",
      " [[ 0.00000000e+00 -1.42476860e-01  4.39714454e-06 -2.18355645e+00\n",
      "   4.13205232e-01  8.62807376e-02  2.28467659e-02 -2.52498325e-02\n",
      "   1.94045539e-01  3.57978779e-02  2.56396537e-02 -5.07099467e-04\n",
      "  -4.49508497e-04  1.10268417e+00  3.54986484e-03 -3.75048102e-02\n",
      "  -1.39309537e-02 -4.04673646e-03  0.00000000e+00 -2.24616550e-02\n",
      "   5.91984749e-07 -1.74537149e-01 -4.25357199e-01]]\n",
      "\n",
      "Accuracy of fitted model on train set is: 0.8332329921733895\n",
      "Testing step:\n",
      "Accuracy of fitted model test set is: 0.8230337078651685\n"
     ]
    }
   ],
   "source": [
    "# 1. Training step\n",
    "print(\"Training step:\")\n",
    "\n",
    "clf = lr_normal.fit(X_train_original, y_train_original)\n",
    "print(\"The intercept of model is: \" + str (clf.intercept_))\n",
    "print(\"The coefficients of the model are:\\n {}\\n\".format(clf.coef_))\n",
    "train_pred = clf.predict(X_train_original)\n",
    "print(\"Accuracy of fitted model on train set is: \" + str(accuracy_score(y_train_original, train_pred)))\n",
    "\n",
    "# 2. Testing step\n",
    "print(\"Testing step:\")\n",
    "test_pred = clf.predict(X_test_original)\n",
    "print(\"Accuracy of fitted model test set is: \" + str(accuracy_score(y_test_original, test_pred)))\n"
   ]
  },
  {
   "cell_type": "markdown",
   "metadata": {},
   "source": [
    "* Given the performances of the logistic model above on the train and test sets, do you think there is over fitting problem? An answer is acceptable if you can reasonablly justify it (1 pt)  "
   ]
  },
  {
   "cell_type": "code",
   "execution_count": 54,
   "metadata": {},
   "outputs": [],
   "source": [
    "## write your answer here\n",
    "# There is no overfitting problem. The accuracy scores of training step and test step are \n",
    "# close to each other and there is not a huge discrepancy where model performs extremely well \n",
    "# with train set and bad with test set."
   ]
  },
  {
   "cell_type": "markdown",
   "metadata": {},
   "source": [
    "* Draw a ROC curve for the trained logistic regression model above on test set and show the corresponding AUC value (2 pts)"
   ]
  },
  {
   "cell_type": "code",
   "execution_count": 55,
   "metadata": {},
   "outputs": [
    {
     "data": {
      "image/png": "[encoded data removed]",
      "text/plain": [
       "<Figure size 432x288 with 1 Axes>"
      ]
     },
     "metadata": {
      "needs_background": "light"
     },
     "output_type": "display_data"
    },
    {
     "name": "stdout",
     "output_type": "stream",
     "text": [
      "Logistic: ROC AUC=0.903\n"
     ]
    }
   ],
   "source": [
    "# Get predicted scores Pr(y=1): Used as thresholds for calculating TP Rate and FP Rate\n",
    "\n",
    "# calculate roc curve\n",
    "# predict probability:\n",
    "lr_probs = clf.predict_proba(X_test_original)\n",
    "# keep the 1s only:\n",
    "lr_probs = lr_probs[:, 1]\n",
    "# calculate scores:\n",
    "lr_auc = roc_auc_score(y_test_original, lr_probs)\n",
    "# Plot static ROC curve\n",
    "lr_fpr, lr_tpr, thresholds = roc_curve(y_test_original, lr_probs)\n",
    "ns_probs = [0 for _ in range(len(y_test_original))]\n",
    "ns_auc = roc_auc_score(y_test_original, ns_probs)\n",
    "ns_fpr, ns_tpr, _ = roc_curve(y_test_original, ns_probs)\n",
    "ns_fpr, ns_tpr, _ = roc_curve(y_test_original, ns_probs)\n",
    "plt.xlabel('FP rate')\n",
    "plt.ylabel('TP rate')\n",
    "plt.plot(lr_fpr, lr_tpr, marker='.', label='Logistic')\n",
    "plt.plot(ns_fpr, ns_tpr, linestyle='--', label='Reference')\n",
    "plt.legend()\n",
    "plt.show()\n",
    "\n",
    "\n",
    "print('Logistic: ROC AUC=%.3f' % (lr_auc))"
   ]
  },
  {
   "cell_type": "markdown",
   "metadata": {},
   "source": [
    "* What can you observe from this curve? Is the model acceptable? (1 pt)\n",
    "* Provide some advantages of using ROC curve as compared to other metrics like precise rate? (2 pts)"
   ]
  },
  {
   "cell_type": "code",
   "execution_count": 56,
   "metadata": {},
   "outputs": [],
   "source": [
    "## write your answer here\n",
    "# The AUC value of this model is close to 1 (0.903). This indicates that the false positive rate is low and true positive rate is high.\n",
    "# Therefore the model is acceptable.\n",
    "# ROC curve allows you to visualise the tradeoff between sensitivity and specificity of the model rather that precision rate\n",
    "# which only allows us to see the specificity. This gives a more accurate reflection of how good the model is."
   ]
  },
  {
   "cell_type": "markdown",
   "metadata": {},
   "source": [
    "* Per the trained model, try to answer the following three questions (3 pts): \n",
    "    * Which three of those features do you think have the most significant effect on the outcome variable? (1 pts)\n",
    "    * Try to interpret the coefficient of any one of the three features? (1 pts)\n",
    "    * Simply discuss why the coefficients of variable '*acc_now_delinq*' and '*tax_liens*' are both zero? (1 pts)"
   ]
  },
  {
   "cell_type": "code",
   "execution_count": 57,
   "metadata": {},
   "outputs": [],
   "source": [
    "# Write your answer here\n",
    "# The 3 features with the most significant effects on the outcome variables would be \n",
    "# \"chargeoff_within_12_mths\", \"loan_amnt\" and \"home_ownership_RENT\". These features have the biggest\n",
    "# coefficient at modulus. Therefore they will have the biggest impact on the outcome variable as compared\n",
    "# to the rest of the features be it negative or positive effect.\n",
    "\n",
    "# chargeoff_within_12_mths has -2.18355645 coeffficient. This would mean that for one unit of this variable, it will decrease the outcome possibility by 2.18355645 times.\n",
    "\n",
    "# Coefficient is the estimated change in the natural log of the odds when you change from the reference level to the level of the coefficient. The reason why\n",
    "# these two variables have a coefficient of 0 may be because they do not have any variation within them. As seen in the data, acc_now_delinq is all 0.0 and tax_liens is all\n",
    "# 0.0 as well, so model assumes they have no impact on outcome.\n"
   ]
  },
  {
   "cell_type": "markdown",
   "metadata": {},
   "source": [
    "* Delete the two columns ('*acc_now_delinq*', '*tax_liens*') from the data and update the original feature list. We will not use these two features anymore (0.5 pt)"
   ]
  },
  {
   "cell_type": "code",
   "execution_count": 58,
   "metadata": {},
   "outputs": [],
   "source": [
    "loans.drop(['acc_now_delinq','tax_liens'], axis=1, inplace=True)\n",
    "loans_extended.drop(['acc_now_delinq','tax_liens'], axis=1, inplace=True)\n",
    "feature_original.remove('acc_now_delinq')\n",
    "feature_original.remove('tax_liens')\n",
    "X_train_original.drop(['acc_now_delinq','tax_liens'], axis=1, inplace=True)\n",
    "X_test_original.drop(['acc_now_delinq','tax_liens'], axis=1, inplace=True)"
   ]
  },
  {
   "cell_type": "markdown",
   "metadata": {},
   "source": [
    "* Probit Model (2 pts)\n",
    "\n",
    "Now, train a **Probit** model on the train set. You may use <a href=\"https://www.statsmodels.org/stable/generated/statsmodels.discrete.discrete_model.Probit.html\" target=\"_blank\" class=\"btn btn-success\" role=\"button\" style=\"text-decoration: none\">probit model</a> for this. Set the parameters of fit() method as **start_params=None, method='newton', maxiter=1000, full_output=1, disp=1, callback=None** and sumarize the model by method *fitted_probit_model.summary()*. (3 pts)"
   ]
  },
  {
   "cell_type": "code",
   "execution_count": 59,
   "metadata": {},
   "outputs": [
    {
     "name": "stdout",
     "output_type": "stream",
     "text": [
      "Optimization terminated successfully.\n",
      "         Current function value: 0.271905\n",
      "         Iterations 8\n"
     ]
    },
    {
     "data": {
      "text/html": [
       "<table class=\"simpletable\">\n",
       "<caption>Probit Regression Results</caption>\n",
       "<tr>\n",
       "  <th>Dep. Variable:</th>       <td>bad_loans</td>    <th>  No. Observations:  </th>   <td>  1661</td>  \n",
       "</tr>\n",
       "<tr>\n",
       "  <th>Model:</th>                <td>Probit</td>      <th>  Df Residuals:      </th>   <td>  1640</td>  \n",
       "</tr>\n",
       "<tr>\n",
       "  <th>Method:</th>                 <td>MLE</td>       <th>  Df Model:          </th>   <td>    20</td>  \n",
       "</tr>\n",
       "<tr>\n",
       "  <th>Date:</th>            <td>Mon, 15 Mar 2021</td> <th>  Pseudo R-squ.:     </th>   <td>0.4044</td>  \n",
       "</tr>\n",
       "<tr>\n",
       "  <th>Time:</th>                <td>21:13:20</td>     <th>  Log-Likelihood:    </th>  <td> -451.63</td> \n",
       "</tr>\n",
       "<tr>\n",
       "  <th>converged:</th>             <td>True</td>       <th>  LL-Null:           </th>  <td> -758.23</td> \n",
       "</tr>\n",
       "<tr>\n",
       "  <th>Covariance Type:</th>     <td>nonrobust</td>    <th>  LLR p-value:       </th> <td>4.804e-117</td>\n",
       "</tr>\n",
       "</table>\n",
       "<table class=\"simpletable\">\n",
       "<tr>\n",
       "               <td></td>                 <th>coef</th>     <th>std err</th>      <th>z</th>      <th>P>|z|</th>  <th>[0.025</th>    <th>0.975]</th>  \n",
       "</tr>\n",
       "<tr>\n",
       "  <th>annual_inc</th>                 <td>   -0.2976</td> <td>    0.083</td> <td>   -3.582</td> <td> 0.000</td> <td>   -0.460</td> <td>   -0.135</td>\n",
       "</tr>\n",
       "<tr>\n",
       "  <th>avg_cur_bal</th>                <td> 2.862e-06</td> <td> 3.19e-06</td> <td>    0.896</td> <td> 0.370</td> <td> -3.4e-06</td> <td> 9.12e-06</td>\n",
       "</tr>\n",
       "<tr>\n",
       "  <th>chargeoff_within_12_mths</th>   <td>   -1.0778</td> <td>    0.617</td> <td>   -1.746</td> <td> 0.081</td> <td>   -2.287</td> <td>    0.132</td>\n",
       "</tr>\n",
       "<tr>\n",
       "  <th>collections_12_mths_ex_med</th> <td>    0.3320</td> <td>    0.330</td> <td>    1.006</td> <td> 0.315</td> <td>   -0.315</td> <td>    0.979</td>\n",
       "</tr>\n",
       "<tr>\n",
       "  <th>delinq_2yrs</th>                <td>    0.0262</td> <td>    0.044</td> <td>    0.592</td> <td> 0.554</td> <td>   -0.061</td> <td>    0.113</td>\n",
       "</tr>\n",
       "<tr>\n",
       "  <th>dti</th>                        <td>    0.0072</td> <td>    0.005</td> <td>    1.442</td> <td> 0.149</td> <td>   -0.003</td> <td>    0.017</td>\n",
       "</tr>\n",
       "<tr>\n",
       "  <th>emp_length</th>                 <td>   -0.0161</td> <td>    0.013</td> <td>   -1.277</td> <td> 0.202</td> <td>   -0.041</td> <td>    0.009</td>\n",
       "</tr>\n",
       "<tr>\n",
       "  <th>grade</th>                      <td>    0.0715</td> <td>    0.117</td> <td>    0.613</td> <td> 0.540</td> <td>   -0.157</td> <td>    0.300</td>\n",
       "</tr>\n",
       "<tr>\n",
       "  <th>inq_fi</th>                     <td>    0.0210</td> <td>    0.024</td> <td>    0.860</td> <td> 0.390</td> <td>   -0.027</td> <td>    0.069</td>\n",
       "</tr>\n",
       "<tr>\n",
       "  <th>int_rate</th>                   <td>    0.0190</td> <td>    0.022</td> <td>    0.862</td> <td> 0.389</td> <td>   -0.024</td> <td>    0.062</td>\n",
       "</tr>\n",
       "<tr>\n",
       "  <th>installment</th>                <td>    0.0003</td> <td>    0.000</td> <td>    1.055</td> <td> 0.292</td> <td>   -0.000</td> <td>    0.001</td>\n",
       "</tr>\n",
       "<tr>\n",
       "  <th>last_pymnt_amnt</th>            <td>   -0.0002</td> <td> 1.29e-05</td> <td>  -14.339</td> <td> 0.000</td> <td>   -0.000</td> <td>   -0.000</td>\n",
       "</tr>\n",
       "<tr>\n",
       "  <th>loan_amnt</th>                  <td>    0.4402</td> <td>    0.105</td> <td>    4.200</td> <td> 0.000</td> <td>    0.235</td> <td>    0.646</td>\n",
       "</tr>\n",
       "<tr>\n",
       "  <th>mths_since_last_delinq</th>     <td>    0.0021</td> <td>    0.003</td> <td>    0.813</td> <td> 0.416</td> <td>   -0.003</td> <td>    0.007</td>\n",
       "</tr>\n",
       "<tr>\n",
       "  <th>num_bc_tl</th>                  <td>   -0.0176</td> <td>    0.015</td> <td>   -1.198</td> <td> 0.231</td> <td>   -0.046</td> <td>    0.011</td>\n",
       "</tr>\n",
       "<tr>\n",
       "  <th>pct_tl_nvr_dlq</th>             <td>   -0.0121</td> <td>    0.005</td> <td>   -2.540</td> <td> 0.011</td> <td>   -0.021</td> <td>   -0.003</td>\n",
       "</tr>\n",
       "<tr>\n",
       "  <th>revol_util</th>                 <td>   -0.0026</td> <td>    0.002</td> <td>   -1.259</td> <td> 0.208</td> <td>   -0.007</td> <td>    0.001</td>\n",
       "</tr>\n",
       "<tr>\n",
       "  <th>total_acc</th>                  <td>   -0.0123</td> <td>    0.006</td> <td>   -2.051</td> <td> 0.040</td> <td>   -0.024</td> <td>   -0.001</td>\n",
       "</tr>\n",
       "<tr>\n",
       "  <th>total_bal_ex_mort</th>          <td> 1.528e-06</td> <td> 1.25e-06</td> <td>    1.225</td> <td> 0.220</td> <td>-9.16e-07</td> <td> 3.97e-06</td>\n",
       "</tr>\n",
       "<tr>\n",
       "  <th>home_ownership_MORTGAGE</th>    <td>   -0.1433</td> <td>    0.154</td> <td>   -0.928</td> <td> 0.354</td> <td>   -0.446</td> <td>    0.159</td>\n",
       "</tr>\n",
       "<tr>\n",
       "  <th>home_ownership_RENT</th>        <td>   -0.3283</td> <td>    0.156</td> <td>   -2.100</td> <td> 0.036</td> <td>   -0.635</td> <td>   -0.022</td>\n",
       "</tr>\n",
       "</table><br/><br/>Possibly complete quasi-separation: A fraction 0.14 of observations can be<br/>perfectly predicted. This might indicate that there is complete<br/>quasi-separation. In this case some parameters will not be identified."
      ],
      "text/plain": [
       "<class 'statsmodels.iolib.summary.Summary'>\n",
       "\"\"\"\n",
       "                          Probit Regression Results                           \n",
       "==============================================================================\n",
       "Dep. Variable:              bad_loans   No. Observations:                 1661\n",
       "Model:                         Probit   Df Residuals:                     1640\n",
       "Method:                           MLE   Df Model:                           20\n",
       "Date:                Mon, 15 Mar 2021   Pseudo R-squ.:                  0.4044\n",
       "Time:                        21:13:20   Log-Likelihood:                -451.63\n",
       "converged:                       True   LL-Null:                       -758.23\n",
       "Covariance Type:            nonrobust   LLR p-value:                4.804e-117\n",
       "==============================================================================================\n",
       "                                 coef    std err          z      P>|z|      [0.025      0.975]\n",
       "----------------------------------------------------------------------------------------------\n",
       "annual_inc                    -0.2976      0.083     -3.582      0.000      -0.460      -0.135\n",
       "avg_cur_bal                 2.862e-06   3.19e-06      0.896      0.370    -3.4e-06    9.12e-06\n",
       "chargeoff_within_12_mths      -1.0778      0.617     -1.746      0.081      -2.287       0.132\n",
       "collections_12_mths_ex_med     0.3320      0.330      1.006      0.315      -0.315       0.979\n",
       "delinq_2yrs                    0.0262      0.044      0.592      0.554      -0.061       0.113\n",
       "dti                            0.0072      0.005      1.442      0.149      -0.003       0.017\n",
       "emp_length                    -0.0161      0.013     -1.277      0.202      -0.041       0.009\n",
       "grade                          0.0715      0.117      0.613      0.540      -0.157       0.300\n",
       "inq_fi                         0.0210      0.024      0.860      0.390      -0.027       0.069\n",
       "int_rate                       0.0190      0.022      0.862      0.389      -0.024       0.062\n",
       "installment                    0.0003      0.000      1.055      0.292      -0.000       0.001\n",
       "last_pymnt_amnt               -0.0002   1.29e-05    -14.339      0.000      -0.000      -0.000\n",
       "loan_amnt                      0.4402      0.105      4.200      0.000       0.235       0.646\n",
       "mths_since_last_delinq         0.0021      0.003      0.813      0.416      -0.003       0.007\n",
       "num_bc_tl                     -0.0176      0.015     -1.198      0.231      -0.046       0.011\n",
       "pct_tl_nvr_dlq                -0.0121      0.005     -2.540      0.011      -0.021      -0.003\n",
       "revol_util                    -0.0026      0.002     -1.259      0.208      -0.007       0.001\n",
       "total_acc                     -0.0123      0.006     -2.051      0.040      -0.024      -0.001\n",
       "total_bal_ex_mort           1.528e-06   1.25e-06      1.225      0.220   -9.16e-07    3.97e-06\n",
       "home_ownership_MORTGAGE       -0.1433      0.154     -0.928      0.354      -0.446       0.159\n",
       "home_ownership_RENT           -0.3283      0.156     -2.100      0.036      -0.635      -0.022\n",
       "==============================================================================================\n",
       "\n",
       "Possibly complete quasi-separation: A fraction 0.14 of observations can be\n",
       "perfectly predicted. This might indicate that there is complete\n",
       "quasi-separation. In this case some parameters will not be identified.\n",
       "\"\"\""
      ]
     },
     "execution_count": 59,
     "metadata": {},
     "output_type": "execute_result"
    }
   ],
   "source": [
    "from statsmodels.discrete.discrete_model import Probit\n",
    "\n",
    "fitted_probit_model = Probit(y_train_original, X_train_original).fit(start_params=None, method='newton', maxiter=1000, full_output=1, disp=1, callback=None)\n",
    "fitted_probit_model.summary()"
   ]
  },
  {
   "cell_type": "markdown",
   "metadata": {},
   "source": [
    "<a id=\"Section_2.2\"></a>\n",
    "### 2.2 Normal Learning: lr_22 (3.5 pts)\n",
    "Now, assume the scenario in which you have only a little data at hand to train a model. \n",
    "* Change the data-splitting setup: train set: test set = 20/80 (0.5 pt)  \n",
    "* Repeat the second step at [Section 2.1](#Section_2.1) with the updated data (in both features and volume) and additionally show the AUC of training and testing (2 pt)\n",
    "* You may write a function for repeated use of calculating AUC\n",
    "\n",
    "<div class=\"alert alert-danger\">\n",
    "<b>Note: </b>Keep the model setup unchanged as Section 2.1.\n",
    "</div>"
   ]
  },
  {
   "cell_type": "code",
   "execution_count": 60,
   "metadata": {},
   "outputs": [],
   "source": [
    "# a customized function of computing AUC values\n",
    "\n",
    "def calculate_auc(X, y, model):\n",
    "    # predict probability:\n",
    "    lr_probs = model.predict_proba(X)\n",
    "    # keep the 1s only:\n",
    "    lr_probs = lr_probs[:, 1]\n",
    "    # calculate scores:\n",
    "    fp, tp, threshold = roc_curve(y, lr_probs)\n",
    "    return auc(fp, tp)"
   ]
  },
  {
   "cell_type": "markdown",
   "metadata": {},
   "source": [
    "* Train the model using train set with only (updated) original features and show the Accuracy and AUC of training and testing"
   ]
  },
  {
   "cell_type": "code",
   "execution_count": 61,
   "metadata": {},
   "outputs": [
    {
     "name": "stdout",
     "output_type": "stream",
     "text": [
      "Training step: \n",
      "\n",
      "Accuracy of training step is: 0.8755274261603375\n",
      "The AUC value is: 0.9488344458812428.\n",
      "\n",
      "Testing step: \n",
      "\n",
      "Accuracy of fitted model test set is: 0.8214849921011058\n",
      "The AUC value is: 0.8874898108825356.\n",
      "\n"
     ]
    }
   ],
   "source": [
    "# 1. Split the data:\n",
    "X_train_22, X_test_22 = train_test_split(loans, \n",
    "                         train_size=0.20,\n",
    "                         test_size=0.80, random_state=42)\n",
    "y_train_22 = X_train_22['bad_loans']\n",
    "y_test_22 = X_test_22['bad_loans']\n",
    "X_train_22 = X_train_22.drop(columns=[\"bad_loans\"])\n",
    "X_test_22 = X_test_22.drop(columns=[\"bad_loans\"])\n",
    "\n",
    "# 2. Training step\n",
    "print(\"Training step: \\n\")\n",
    "# Accuracy\n",
    "\n",
    "lr_22 = lr_normal.fit(X_train_22, y_train_22)\n",
    "train_pred = lr_22.predict(X_train_22)\n",
    "accuracy = accuracy_score(y_train_22, train_pred)\n",
    "print(\"Accuracy of training step is: {}\".format(accuracy))\n",
    "      \n",
    "print(\"The AUC value is: {}.\\n\".format(calculate_auc(X_train_22, y_train_22, lr_22)))\n",
    "\n",
    "# 3. Testing step\n",
    "print(\"Testing step: \\n\")\n",
    "test_pred = lr_22.predict(X_test_22)\n",
    "accuracy = accuracy_score(y_test_22, test_pred)\n",
    "print(\"Accuracy of fitted model test set is: {}\".format(accuracy))\n",
    "print(\"The AUC value is: {}.\\n\".format(calculate_auc(X_test_22, y_test_22, lr_22)))"
   ]
  },
  {
   "cell_type": "markdown",
   "metadata": {},
   "source": [
    "* Given the performances of the logistic model above on the train and test sets, do you think there is over fitting problem? An answer is acceptable if you can reasonablly justify it (1 pt)  "
   ]
  },
  {
   "cell_type": "code",
   "execution_count": 62,
   "metadata": {},
   "outputs": [],
   "source": [
    "## write your answer here\n",
    "# There is no over-fitting problem. Test AUC and accuracy is close to train AUC and accuracy and high."
   ]
  },
  {
   "cell_type": "markdown",
   "metadata": {},
   "source": [
    "<a id=\"Section_2.3\"></a>\n",
    "### 2.3 Normal Learning: lr_23 (2.5 pts)\n",
    "Now, assume you have very less data at hand to train a model. \n",
    "* change the data-splitting setup: train set: test set = 2/98. (0.5) \n",
    "* Repeat the second step at [Section 2.2](#Section_2.2) with the updated data (in volume) and additionally show the AUC of training and testing (1 pt)\n",
    "\n",
    "<div class=\"alert alert-danger\">\n",
    "<b>Note: </b>Keep the model setup unchanged as Section 2.1.\n",
    "</div>"
   ]
  },
  {
   "cell_type": "code",
   "execution_count": 63,
   "metadata": {},
   "outputs": [
    {
     "name": "stdout",
     "output_type": "stream",
     "text": [
      "Training step: \n",
      "\n",
      "Accuracy of training step is: 1.0\n",
      "The AUC value is: 1.0.\n",
      "\n",
      "Testing step: \n",
      "\n",
      "Accuracy of fitted model test set is: 0.8138435081685297\n",
      "The AUC value is: 0.864013428369864.\n",
      "\n"
     ]
    }
   ],
   "source": [
    "# 1. split the data: train set  \n",
    "\n",
    "X_train_volume, X_test_volume = train_test_split(loans, \n",
    "                         train_size=0.02,\n",
    "                         test_size=0.98, random_state=42)\n",
    "y_train_volume = X_train_volume['bad_loans']\n",
    "y_test_volume = X_test_volume['bad_loans']\n",
    "X_train_volume = X_train_volume.drop(columns=[\"bad_loans\"])\n",
    "X_test_volume = X_test_volume.drop(columns=[\"bad_loans\"])\n",
    "\n",
    "\n",
    "# 2. Training step\n",
    "print(\"Training step: \\n\")\n",
    "# Accuracy\n",
    "\n",
    "lr_22 = lr_normal.fit(X_train_volume, y_train_volume)\n",
    "train_pred = lr_22.predict(X_train_volume)\n",
    "accuracy = accuracy_score(y_train_volume, train_pred)\n",
    "print(\"Accuracy of training step is: {}\".format(accuracy))\n",
    "      \n",
    "print(\"The AUC value is: {}.\\n\".format(calculate_auc(X_train_volume, y_train_volume, lr_22)))\n",
    "# 3. testing step\n",
    "print(\"Testing step: \\n\")\n",
    "test_pred = lr_22.predict(X_test_volume)\n",
    "accuracy = accuracy_score(y_test_volume, test_pred)\n",
    "print(\"Accuracy of fitted model test set is: {}\".format(accuracy))\n",
    "print(\"The AUC value is: {}.\\n\".format(calculate_auc(X_test_volume, y_test_volume, lr_22)))"
   ]
  },
  {
   "cell_type": "markdown",
   "metadata": {},
   "source": [
    "* Given the performances of the logistic model above on the train and test sets, do you think there is over fitting problem? An answer is acceptable if you can reasonablly justify it (1 pt) "
   ]
  },
  {
   "cell_type": "code",
   "execution_count": 64,
   "metadata": {},
   "outputs": [],
   "source": [
    "## write your answer here\n",
    "# There may be overfitting problem. The accuracy and AUC for training step performs perfectly, yielding a perfect \n",
    "# performance of 1.0. However the performance on test data is much lower by almost 0.2 times, even though\n",
    "# performance on test is acceptable. The suspiciously perfect performance on training data\n",
    "# indicates the possibility of overfitting."
   ]
  },
  {
   "cell_type": "markdown",
   "metadata": {},
   "source": [
    "<a id=\"Section_2.4\"></a>\n",
    "### 2.4 Extended Learning: lr_24 (2.5 pts)\n",
    "In the subsection [2.4](#Section_2.4) and [2.5](#Section_2.5), we will fit our model using the data with **extended polynomial features**. Do the following steps:   \n",
    "* Change the data-splitting setup: train set: test set = 20/80. (0.5 pts)  \n",
    "* Repeat the second step at [Section 2.2](#Section_2.2) with the extended polynomial data (1 pt)\n",
    "\n",
    "<div class=\"alert alert-danger\">\n",
    "<b>Note: </b>Keep the model setup unchanged as Section 2.1.\n",
    "</div>"
   ]
  },
  {
   "cell_type": "code",
   "execution_count": 65,
   "metadata": {},
   "outputs": [
    {
     "name": "stdout",
     "output_type": "stream",
     "text": [
      "Training step: \n",
      "\n",
      "Accuracy of training step is: 0.9957805907172996\n",
      "The AUC value is: 1.0.\n",
      "\n",
      "Testing step: \n",
      "\n",
      "Accuracy of fitted model test set is: 0.8278041074249605\n",
      "The AUC value is: 0.8865034670914769.\n",
      "\n"
     ]
    }
   ],
   "source": [
    "# 1. Split the data:\n",
    "X_train_updated, X_test_updated, y_train_updated, y_test_updated = train_test_split(X, y, test_size=0.80, random_state=42)\n",
    "#y_train_updated = X_train_updated['bad_loans']\n",
    "#y_test_updated = X_test_updated['bad_loans']\n",
    "#X_train_updated = X_train_updated.drop(columns=[\"bad_loans\"])\n",
    "#X_test_updated = X_test_updated.drop(columns=[\"bad_loans\"])\n",
    "\n",
    "# 2. Training step\n",
    "print(\"Training step: \\n\")\n",
    "# Accuracy\n",
    "\n",
    "lr_22 = lr_normal.fit(X_train_updated, y_train_updated.values.ravel())\n",
    "y_pred_24 = lr_22.predict(X_train_updated)\n",
    "accuracy = accuracy_score(y_train_updated, y_pred_24)\n",
    "print(\"Accuracy of training step is: {}\".format(accuracy))\n",
    "      \n",
    "print(\"The AUC value is: {}.\\n\".format(calculate_auc(X_train_updated, y_train_updated, lr_22)))\n",
    "\n",
    "# 3. Testing step\n",
    "print(\"Testing step: \\n\")\n",
    "y_pred_test = lr_22.predict(X_test_updated)\n",
    "accuracy = accuracy_score(y_test_updated, y_pred_test)\n",
    "print(\"Accuracy of fitted model test set is: {}\".format(accuracy))\n",
    "print(\"The AUC value is: {}.\\n\".format(calculate_auc(X_test_updated, y_test_updated, lr_22)))\n"
   ]
  },
  {
   "cell_type": "markdown",
   "metadata": {},
   "source": [
    "* Given the performances of the logistic model above on the train and test sets, do you think there is over fitting problem? An answer is acceptable if you can reasonablly justify it (1 pt) "
   ]
  },
  {
   "cell_type": "code",
   "execution_count": 66,
   "metadata": {},
   "outputs": [],
   "source": [
    "## write your answer here\n",
    "# There is an overfitting problem because the performance of the model on the training step is close to \n",
    "# perfect while the performance on test data is almost 20% lower therefore there might be a \n",
    "# slight overfitting problem but nothing too significant as the performance on the test data is \n",
    "# still in an acceptable level.\n"
   ]
  },
  {
   "cell_type": "markdown",
   "metadata": {},
   "source": [
    "<a id=\"Section_2.5\"></a>\n",
    "### 2.5 Extended Learning: lr_25 (2.5 pts)\n",
    "* Relax the tolerance of fitting objective function setup: *tol*=1e-4. (0.5 pt)\n",
    "* Keep the data-splitting setup unchanged as [Section 2.4](#Section_2.4).\n",
    "* Repeat the second step at [Section 2.2](#Section_2.2) with the extended polynomial data (1 pt)\n",
    "\n",
    "<div class=\"alert alert-danger\">\n",
    "<b>Note: </b>Keep the model setup unchanged as Section 2.1 except for '<I>tol</I>'=1e-4.\n",
    "</div>"
   ]
  },
  {
   "cell_type": "code",
   "execution_count": 67,
   "metadata": {},
   "outputs": [
    {
     "name": "stdout",
     "output_type": "stream",
     "text": [
      "Training step: \n",
      "\n",
      "Accuracy of training step is: 0.8459915611814346\n",
      "The AUC value is: 0.9045538741131655.\n",
      "\n",
      "Testing step: \n",
      "\n",
      "Accuracy of fitted model test set is: 0.8256977356503423\n",
      "The AUC value is: 0.902411517517838.\n",
      "\n"
     ]
    }
   ],
   "source": [
    "# 1. change the tol for the model setup\n",
    "\n",
    "lr_relax = LogisticRegression(class_weight='balanced',random_state=42,solver='liblinear', C=10**10, max_iter=50000,tol=1e-4)\n",
    "\n",
    "\n",
    "# 2. Training step\n",
    "print(\"Training step: \\n\")\n",
    "# Accuracy\n",
    "\n",
    "lr_22 = lr_relax.fit(X_train_updated, y_train_updated.values.ravel())\n",
    "train_pred = lr_22.predict(X_train_updated)\n",
    "accuracy = accuracy_score(y_train_updated, train_pred)\n",
    "print(\"Accuracy of training step is: {}\".format(accuracy))\n",
    "      \n",
    "print(\"The AUC value is: {}.\\n\".format(calculate_auc(X_train_updated, y_train_updated, lr_22)))\n",
    "\n",
    "# 3. Testing step\n",
    "print(\"Testing step: \\n\")\n",
    "test_pred = lr_22.predict(X_test_updated)\n",
    "accuracy = accuracy_score(y_test_updated, test_pred)\n",
    "print(\"Accuracy of fitted model test set is: {}\".format(accuracy))\n",
    "print(\"The AUC value is: {}.\\n\".format(calculate_auc(X_test_updated, y_test_updated, lr_22)))\n"
   ]
  },
  {
   "cell_type": "markdown",
   "metadata": {},
   "source": [
    "* Given the performances of the logistic model above on the train and test sets, do you think there is over fitting problem? An answer is acceptable if you can reasonablly justify it (1 pt) "
   ]
  },
  {
   "cell_type": "code",
   "execution_count": 68,
   "metadata": {},
   "outputs": [],
   "source": [
    "## write your answer here\n",
    "# There is no overfitting in this performance. The performance on test data is on an acceptable level\n",
    "# and the discrepancies between perfomance on training data and test data is minimal."
   ]
  },
  {
   "cell_type": "markdown",
   "metadata": {},
   "source": [
    "<a id=\"Section_2.6\"></a>\n",
    "### 2.6 Summary (4 pts)\n",
    "Suggest some reasons for overfitting after our experiments (4 pts) "
   ]
  },
  {
   "cell_type": "code",
   "execution_count": 69,
   "metadata": {},
   "outputs": [],
   "source": [
    "## write your answer here\n",
    "# 1. Model complexity: Train set overfitting attempts to fit signal but ends up fitting noise. This may be caused\n",
    "# by have very little training data like as in Section 2.3 where the training data is only 0.02 of the loan data,\n",
    "# which also incidently has the worst overfitting possibility compared to the other 3 sections.\n",
    "# 2. If the highest order (degree) set in the polynomial function is too high, it may cause overfitting\n",
    "# as it will start capturing the noise in the data and will not capture an accurate pattern,\n",
    "# and hence fail to generalize on unseen data.\n",
    "# 3. If the tolerance is too high, the algorithm will stop before it converges to find the optimal coefficients\n",
    "# and will capture a lot of noise and unimportant features may be given too high of a coefficient hence resulting in\n",
    "# overfitting.\n",
    "# 4. By having a 0.2:0.8 split as opposed to the recommended 70/30 or 80/20 splits the data might not be enough for model to interpret a pattern."
   ]
  },
  {
   "cell_type": "markdown",
   "metadata": {},
   "source": [
    "<a id=\"Section_3\"></a>\n",
    "## 3. Regularization (26 pts)\n",
    "This section aims to show how Regularization (i.e., Lasso and Ridge) works and how to tune them.  \n",
    "We set up the parameters of *LogisticRegression()* for regularization as follows (0.5 pt):  \n",
    "* Respectively set *penalty* of LogisticRegression() corresponding to *lasso* and *ridge* logistic regression (You may add this new element in the model setup dictionary you have created)\n",
    "* Change *C=1e-6* for both lasso and ridge model setup\n",
    "* To reduce computational load, we reset the tol=1e-5 (or 1e-4 if necessary) for lasso and ridge model \n",
    "* You may name the objects as \"lr_lasso\" and \"lr_ridge\" for LogisticRegression() \n",
    "\n",
    "<div class=\"alert alert-warning\">\n",
    "<b>Note: </b>Recall that the parameter \"<I>C</I>\" which is equal to $1/\\lambda$ captures the degree of regularization: The larger \"<I>C</I>\" is, the lower the degree of regularization is. Here we set a <I>C</I>=$10^{-6}$ to strengthen regularization.\n",
    "</div>"
   ]
  },
  {
   "cell_type": "code",
   "execution_count": 70,
   "metadata": {},
   "outputs": [],
   "source": [
    "# update model setup parameters of LogisticRegression(): 'C' and 'tol' (0.5 pt)\n",
    "lr_lasso = LogisticRegression(class_weight='balanced',random_state=42,solver='liblinear', C=1e-6, max_iter=50000,tol=1e-5)\n",
    "lr_ridge = LogisticRegression(class_weight='balanced',random_state=42,solver='liblinear', C=1e-6, max_iter=50000,tol=1e-5)"
   ]
  },
  {
   "cell_type": "markdown",
   "metadata": {},
   "source": [
    "<a id=\"Section_3.1\"></a>\n",
    "### 3.1. Lasso Logistic Regression: lr_lasso_31 (3.5 pts)  \n",
    "For Lasso Regression, we need to set up *penalty* for *LogisticRegression()* in addition to '*C*' and '*tol*' we have done before  \n",
    "* Use the data set with **extended polynomial features**\n",
    "* Specify the \"*penalty*\" for lasso *LogisticRegression()* (0.5 pt)\n",
    "* Change *C=1e-6* for both lasso model setup (0.5 pt)\n",
    "* Relax the tolerance of fitting objective function setup: *tol*=1e-5 (0.5 pt)\n",
    "* Keep the data-splitting setup unchanged as [Section 2.4](#Section_2.4)\n",
    "* Repeat the second step at [Section 2.2](#Section_2.2) with the extended polynomial data and additionally show the intercept and coefficients of the model (1 pts)"
   ]
  },
  {
   "cell_type": "code",
   "execution_count": 71,
   "metadata": {},
   "outputs": [],
   "source": [
    "# Add parameters 'penalty' for lasso. \n",
    "lr_lasso = lr_lasso.set_params(penalty = 'l1')\n",
    "\n",
    "# 1. Set up lasso model by specifying the penalty\n"
   ]
  },
  {
   "cell_type": "code",
   "execution_count": 72,
   "metadata": {},
   "outputs": [
    {
     "name": "stdout",
     "output_type": "stream",
     "text": [
      "Training step:\n",
      "The intercept of model is: [0.]\n",
      "The coefficients of the model are:\n",
      " [[ 0.00000000e+00  0.00000000e+00  0.00000000e+00  0.00000000e+00\n",
      "   0.00000000e+00  0.00000000e+00  0.00000000e+00  0.00000000e+00\n",
      "   0.00000000e+00  0.00000000e+00  0.00000000e+00  0.00000000e+00\n",
      "   0.00000000e+00  0.00000000e+00  0.00000000e+00  0.00000000e+00\n",
      "   0.00000000e+00  0.00000000e+00  0.00000000e+00  0.00000000e+00\n",
      "   0.00000000e+00  0.00000000e+00  0.00000000e+00  0.00000000e+00\n",
      "   0.00000000e+00  0.00000000e+00  0.00000000e+00  0.00000000e+00\n",
      "   0.00000000e+00  0.00000000e+00  0.00000000e+00  0.00000000e+00\n",
      "   0.00000000e+00  0.00000000e+00  0.00000000e+00  0.00000000e+00\n",
      "   0.00000000e+00  0.00000000e+00  0.00000000e+00  0.00000000e+00\n",
      "   0.00000000e+00  0.00000000e+00  0.00000000e+00  0.00000000e+00\n",
      "   0.00000000e+00  0.00000000e+00  0.00000000e+00  0.00000000e+00\n",
      "   0.00000000e+00  0.00000000e+00  0.00000000e+00  0.00000000e+00\n",
      "   0.00000000e+00  0.00000000e+00  0.00000000e+00  0.00000000e+00\n",
      "   0.00000000e+00  0.00000000e+00  0.00000000e+00  0.00000000e+00\n",
      "   0.00000000e+00  0.00000000e+00  0.00000000e+00  0.00000000e+00\n",
      "   0.00000000e+00  0.00000000e+00  0.00000000e+00  0.00000000e+00\n",
      "   0.00000000e+00  0.00000000e+00  0.00000000e+00  0.00000000e+00\n",
      "   0.00000000e+00  0.00000000e+00  0.00000000e+00  0.00000000e+00\n",
      "   0.00000000e+00  0.00000000e+00  0.00000000e+00  0.00000000e+00\n",
      "   0.00000000e+00  0.00000000e+00  0.00000000e+00  0.00000000e+00\n",
      "   0.00000000e+00  0.00000000e+00  0.00000000e+00  0.00000000e+00\n",
      "   0.00000000e+00  0.00000000e+00  0.00000000e+00  0.00000000e+00\n",
      "   0.00000000e+00  0.00000000e+00  0.00000000e+00  0.00000000e+00\n",
      "   0.00000000e+00  0.00000000e+00  0.00000000e+00  0.00000000e+00\n",
      "   0.00000000e+00  0.00000000e+00  0.00000000e+00  0.00000000e+00\n",
      "   0.00000000e+00  0.00000000e+00  0.00000000e+00  0.00000000e+00\n",
      "   0.00000000e+00  0.00000000e+00  0.00000000e+00  0.00000000e+00\n",
      "   0.00000000e+00  0.00000000e+00  0.00000000e+00  0.00000000e+00\n",
      "   0.00000000e+00  0.00000000e+00  0.00000000e+00  0.00000000e+00\n",
      "   0.00000000e+00  0.00000000e+00  0.00000000e+00  0.00000000e+00\n",
      "   0.00000000e+00  0.00000000e+00  0.00000000e+00  0.00000000e+00\n",
      "   0.00000000e+00  0.00000000e+00  0.00000000e+00  0.00000000e+00\n",
      "   0.00000000e+00  0.00000000e+00  0.00000000e+00  0.00000000e+00\n",
      "   0.00000000e+00  0.00000000e+00  0.00000000e+00  0.00000000e+00\n",
      "   0.00000000e+00  0.00000000e+00  0.00000000e+00  0.00000000e+00\n",
      "   0.00000000e+00  0.00000000e+00  0.00000000e+00  0.00000000e+00\n",
      "   0.00000000e+00  0.00000000e+00  0.00000000e+00  0.00000000e+00\n",
      "   0.00000000e+00  0.00000000e+00  0.00000000e+00  0.00000000e+00\n",
      "   0.00000000e+00  0.00000000e+00  0.00000000e+00  0.00000000e+00\n",
      "   0.00000000e+00  0.00000000e+00  0.00000000e+00  0.00000000e+00\n",
      "   0.00000000e+00  0.00000000e+00  0.00000000e+00  0.00000000e+00\n",
      "   0.00000000e+00  0.00000000e+00  0.00000000e+00  0.00000000e+00\n",
      "   0.00000000e+00  0.00000000e+00  0.00000000e+00  0.00000000e+00\n",
      "   0.00000000e+00  0.00000000e+00  0.00000000e+00  0.00000000e+00\n",
      "   0.00000000e+00  0.00000000e+00  0.00000000e+00  0.00000000e+00\n",
      "   0.00000000e+00  0.00000000e+00  0.00000000e+00  0.00000000e+00\n",
      "   0.00000000e+00  0.00000000e+00  0.00000000e+00  0.00000000e+00\n",
      "   0.00000000e+00  0.00000000e+00  0.00000000e+00  0.00000000e+00\n",
      "   0.00000000e+00  0.00000000e+00  0.00000000e+00  0.00000000e+00\n",
      "   0.00000000e+00  0.00000000e+00  0.00000000e+00  0.00000000e+00\n",
      "   0.00000000e+00  0.00000000e+00  0.00000000e+00  0.00000000e+00\n",
      "   0.00000000e+00  0.00000000e+00  0.00000000e+00  0.00000000e+00\n",
      "   0.00000000e+00  0.00000000e+00  0.00000000e+00  0.00000000e+00\n",
      "   0.00000000e+00  0.00000000e+00  0.00000000e+00  0.00000000e+00\n",
      "   0.00000000e+00  0.00000000e+00  0.00000000e+00  0.00000000e+00\n",
      "   0.00000000e+00  0.00000000e+00  0.00000000e+00  0.00000000e+00\n",
      "   0.00000000e+00  0.00000000e+00  0.00000000e+00  0.00000000e+00\n",
      "   0.00000000e+00  0.00000000e+00  0.00000000e+00  0.00000000e+00\n",
      "   0.00000000e+00  0.00000000e+00  0.00000000e+00  0.00000000e+00\n",
      "   0.00000000e+00  0.00000000e+00  0.00000000e+00  0.00000000e+00\n",
      "   0.00000000e+00  0.00000000e+00  0.00000000e+00  0.00000000e+00\n",
      "   0.00000000e+00  0.00000000e+00  0.00000000e+00  0.00000000e+00\n",
      "   0.00000000e+00  0.00000000e+00  0.00000000e+00  0.00000000e+00\n",
      "   0.00000000e+00  0.00000000e+00  0.00000000e+00  0.00000000e+00\n",
      "   0.00000000e+00  0.00000000e+00  0.00000000e+00  0.00000000e+00\n",
      "   0.00000000e+00  0.00000000e+00  0.00000000e+00  0.00000000e+00\n",
      "   0.00000000e+00  0.00000000e+00  0.00000000e+00  0.00000000e+00\n",
      "   0.00000000e+00  0.00000000e+00  1.07896664e-07  1.52972283e-07\n",
      "   0.00000000e+00  0.00000000e+00  0.00000000e+00  0.00000000e+00\n",
      "   2.56184017e-09  0.00000000e+00  0.00000000e+00  0.00000000e+00\n",
      "   0.00000000e+00  0.00000000e+00  0.00000000e+00  0.00000000e+00\n",
      "   0.00000000e+00  0.00000000e+00  0.00000000e+00  0.00000000e+00\n",
      "   0.00000000e+00  0.00000000e+00  0.00000000e+00  0.00000000e+00\n",
      "   0.00000000e+00  0.00000000e+00  0.00000000e+00  0.00000000e+00\n",
      "   0.00000000e+00  0.00000000e+00  0.00000000e+00  0.00000000e+00\n",
      "   0.00000000e+00  0.00000000e+00  0.00000000e+00  0.00000000e+00\n",
      "   0.00000000e+00  0.00000000e+00  0.00000000e+00  0.00000000e+00\n",
      "   0.00000000e+00  0.00000000e+00  0.00000000e+00  0.00000000e+00\n",
      "   0.00000000e+00  0.00000000e+00  0.00000000e+00  0.00000000e+00\n",
      "   0.00000000e+00  0.00000000e+00  0.00000000e+00  0.00000000e+00\n",
      "   0.00000000e+00  0.00000000e+00  0.00000000e+00  0.00000000e+00\n",
      "   0.00000000e+00  0.00000000e+00  0.00000000e+00  0.00000000e+00\n",
      "   0.00000000e+00  0.00000000e+00  0.00000000e+00  0.00000000e+00\n",
      "   0.00000000e+00  0.00000000e+00  0.00000000e+00  0.00000000e+00\n",
      "   0.00000000e+00  0.00000000e+00  0.00000000e+00  0.00000000e+00\n",
      "   0.00000000e+00  0.00000000e+00  0.00000000e+00  0.00000000e+00\n",
      "   0.00000000e+00  0.00000000e+00  0.00000000e+00  0.00000000e+00\n",
      "   0.00000000e+00  0.00000000e+00  0.00000000e+00  0.00000000e+00\n",
      "   0.00000000e+00  0.00000000e+00  0.00000000e+00  0.00000000e+00\n",
      "   0.00000000e+00  0.00000000e+00  0.00000000e+00  0.00000000e+00\n",
      "   0.00000000e+00  0.00000000e+00  0.00000000e+00  0.00000000e+00\n",
      "   0.00000000e+00  0.00000000e+00  0.00000000e+00  0.00000000e+00\n",
      "   0.00000000e+00  0.00000000e+00  0.00000000e+00  0.00000000e+00\n",
      "   0.00000000e+00  0.00000000e+00  0.00000000e+00  0.00000000e+00\n",
      "   0.00000000e+00  0.00000000e+00  0.00000000e+00  0.00000000e+00\n",
      "   0.00000000e+00  0.00000000e+00  0.00000000e+00  0.00000000e+00\n",
      "   0.00000000e+00  0.00000000e+00  0.00000000e+00  0.00000000e+00\n",
      "   0.00000000e+00  0.00000000e+00  0.00000000e+00  0.00000000e+00\n",
      "   0.00000000e+00  0.00000000e+00  0.00000000e+00  0.00000000e+00\n",
      "   0.00000000e+00  0.00000000e+00  0.00000000e+00  0.00000000e+00\n",
      "   0.00000000e+00  0.00000000e+00  0.00000000e+00  0.00000000e+00\n",
      "   0.00000000e+00  0.00000000e+00  0.00000000e+00  0.00000000e+00\n",
      "   0.00000000e+00  0.00000000e+00  0.00000000e+00  0.00000000e+00\n",
      "   0.00000000e+00  0.00000000e+00  0.00000000e+00  0.00000000e+00\n",
      "   0.00000000e+00  0.00000000e+00  0.00000000e+00  0.00000000e+00\n",
      "   0.00000000e+00  0.00000000e+00  0.00000000e+00  0.00000000e+00\n",
      "   0.00000000e+00  0.00000000e+00  0.00000000e+00  0.00000000e+00\n",
      "   0.00000000e+00  0.00000000e+00  0.00000000e+00  0.00000000e+00\n",
      "   0.00000000e+00  0.00000000e+00  0.00000000e+00  0.00000000e+00\n",
      "   0.00000000e+00  0.00000000e+00  0.00000000e+00  0.00000000e+00\n",
      "   0.00000000e+00  0.00000000e+00  0.00000000e+00  0.00000000e+00\n",
      "   0.00000000e+00  0.00000000e+00  0.00000000e+00  0.00000000e+00\n",
      "   0.00000000e+00  0.00000000e+00  0.00000000e+00  0.00000000e+00\n",
      "   0.00000000e+00  0.00000000e+00  0.00000000e+00  0.00000000e+00\n",
      "   0.00000000e+00  0.00000000e+00  0.00000000e+00  0.00000000e+00\n",
      "   0.00000000e+00  0.00000000e+00  0.00000000e+00  0.00000000e+00\n",
      "   0.00000000e+00  0.00000000e+00  0.00000000e+00  0.00000000e+00\n",
      "   0.00000000e+00  0.00000000e+00  0.00000000e+00  0.00000000e+00\n",
      "   0.00000000e+00  0.00000000e+00  0.00000000e+00  0.00000000e+00\n",
      "   0.00000000e+00  0.00000000e+00  0.00000000e+00  0.00000000e+00\n",
      "   0.00000000e+00  0.00000000e+00  0.00000000e+00  0.00000000e+00\n",
      "   0.00000000e+00  0.00000000e+00  0.00000000e+00  0.00000000e+00\n",
      "   0.00000000e+00  0.00000000e+00  0.00000000e+00  0.00000000e+00\n",
      "   0.00000000e+00  0.00000000e+00  0.00000000e+00  0.00000000e+00\n",
      "   0.00000000e+00  0.00000000e+00  0.00000000e+00  0.00000000e+00\n",
      "   0.00000000e+00  5.35250620e-08  0.00000000e+00  0.00000000e+00\n",
      "   0.00000000e+00  0.00000000e+00  0.00000000e+00  0.00000000e+00\n",
      "   0.00000000e+00  0.00000000e+00  0.00000000e+00  0.00000000e+00\n",
      "   0.00000000e+00  0.00000000e+00  0.00000000e+00  0.00000000e+00\n",
      "   0.00000000e+00  0.00000000e+00  0.00000000e+00  0.00000000e+00\n",
      "   0.00000000e+00  0.00000000e+00  0.00000000e+00  0.00000000e+00\n",
      "   0.00000000e+00  0.00000000e+00  0.00000000e+00  0.00000000e+00\n",
      "   0.00000000e+00  0.00000000e+00  0.00000000e+00  0.00000000e+00\n",
      "   0.00000000e+00  0.00000000e+00  0.00000000e+00  0.00000000e+00\n",
      "   0.00000000e+00  0.00000000e+00  0.00000000e+00  0.00000000e+00\n",
      "   0.00000000e+00  0.00000000e+00  0.00000000e+00  0.00000000e+00\n",
      "   0.00000000e+00  0.00000000e+00  0.00000000e+00  0.00000000e+00\n",
      "   0.00000000e+00  0.00000000e+00  0.00000000e+00  0.00000000e+00\n",
      "   0.00000000e+00  0.00000000e+00  0.00000000e+00  0.00000000e+00\n",
      "   0.00000000e+00  0.00000000e+00  0.00000000e+00  0.00000000e+00\n",
      "   0.00000000e+00  0.00000000e+00  0.00000000e+00  0.00000000e+00\n",
      "   0.00000000e+00  0.00000000e+00  0.00000000e+00  0.00000000e+00\n",
      "   0.00000000e+00  0.00000000e+00  0.00000000e+00  0.00000000e+00\n",
      "   0.00000000e+00  0.00000000e+00  0.00000000e+00  0.00000000e+00\n",
      "   0.00000000e+00  0.00000000e+00  0.00000000e+00  0.00000000e+00\n",
      "   0.00000000e+00  0.00000000e+00  0.00000000e+00  0.00000000e+00\n",
      "   0.00000000e+00  0.00000000e+00 -4.00305697e-09  1.90228315e-07\n",
      "   0.00000000e+00  0.00000000e+00  0.00000000e+00  0.00000000e+00\n",
      "  -5.77369325e-09  0.00000000e+00  0.00000000e+00  0.00000000e+00\n",
      "   0.00000000e+00  0.00000000e+00  0.00000000e+00  0.00000000e+00\n",
      "   0.00000000e+00  0.00000000e+00  0.00000000e+00  0.00000000e+00\n",
      "   0.00000000e+00  0.00000000e+00  0.00000000e+00  0.00000000e+00\n",
      "   0.00000000e+00  0.00000000e+00  0.00000000e+00  0.00000000e+00\n",
      "   0.00000000e+00  0.00000000e+00  0.00000000e+00  0.00000000e+00\n",
      "   0.00000000e+00  0.00000000e+00  0.00000000e+00  0.00000000e+00\n",
      "   0.00000000e+00  0.00000000e+00  0.00000000e+00  0.00000000e+00\n",
      "   0.00000000e+00  0.00000000e+00  0.00000000e+00  0.00000000e+00\n",
      "   0.00000000e+00  0.00000000e+00  0.00000000e+00  0.00000000e+00\n",
      "   0.00000000e+00  0.00000000e+00  0.00000000e+00  0.00000000e+00\n",
      "   0.00000000e+00  0.00000000e+00  0.00000000e+00  0.00000000e+00\n",
      "   0.00000000e+00  0.00000000e+00  0.00000000e+00  0.00000000e+00\n",
      "   0.00000000e+00  0.00000000e+00  0.00000000e+00  0.00000000e+00\n",
      "   0.00000000e+00  0.00000000e+00  0.00000000e+00  0.00000000e+00\n",
      "   0.00000000e+00  0.00000000e+00  0.00000000e+00  0.00000000e+00\n",
      "   0.00000000e+00  0.00000000e+00  0.00000000e+00  0.00000000e+00\n",
      "   0.00000000e+00  0.00000000e+00  0.00000000e+00  0.00000000e+00\n",
      "  -7.05515286e-08  5.90265033e-08  0.00000000e+00  0.00000000e+00\n",
      "   0.00000000e+00  0.00000000e+00 -1.28001229e-08  0.00000000e+00\n",
      "   0.00000000e+00  0.00000000e+00  0.00000000e+00  0.00000000e+00\n",
      "   0.00000000e+00  0.00000000e+00  0.00000000e+00  0.00000000e+00\n",
      "   0.00000000e+00  0.00000000e+00  0.00000000e+00  0.00000000e+00\n",
      "   0.00000000e+00  0.00000000e+00  0.00000000e+00  0.00000000e+00\n",
      "   0.00000000e+00  0.00000000e+00  0.00000000e+00  0.00000000e+00\n",
      "   0.00000000e+00  0.00000000e+00  0.00000000e+00  0.00000000e+00\n",
      "   0.00000000e+00  0.00000000e+00  0.00000000e+00  0.00000000e+00\n",
      "   0.00000000e+00  0.00000000e+00  0.00000000e+00  0.00000000e+00\n",
      "   0.00000000e+00  0.00000000e+00  0.00000000e+00  0.00000000e+00\n",
      "   0.00000000e+00  0.00000000e+00  0.00000000e+00  0.00000000e+00\n",
      "   0.00000000e+00  0.00000000e+00  0.00000000e+00  0.00000000e+00\n",
      "   0.00000000e+00  0.00000000e+00  0.00000000e+00  0.00000000e+00\n",
      "   0.00000000e+00  0.00000000e+00  0.00000000e+00  0.00000000e+00\n",
      "   0.00000000e+00  0.00000000e+00  0.00000000e+00  0.00000000e+00\n",
      "   0.00000000e+00  0.00000000e+00  0.00000000e+00  0.00000000e+00\n",
      "   0.00000000e+00  0.00000000e+00  0.00000000e+00  0.00000000e+00\n",
      "   0.00000000e+00  0.00000000e+00  0.00000000e+00  0.00000000e+00\n",
      "   0.00000000e+00  0.00000000e+00  0.00000000e+00  0.00000000e+00\n",
      "   0.00000000e+00  0.00000000e+00  0.00000000e+00  0.00000000e+00\n",
      "   0.00000000e+00  0.00000000e+00  0.00000000e+00  0.00000000e+00\n",
      "   0.00000000e+00  0.00000000e+00  0.00000000e+00  0.00000000e+00\n",
      "   0.00000000e+00  0.00000000e+00  0.00000000e+00  0.00000000e+00\n",
      "   0.00000000e+00  0.00000000e+00  0.00000000e+00  0.00000000e+00\n",
      "   0.00000000e+00  0.00000000e+00  0.00000000e+00  0.00000000e+00\n",
      "   0.00000000e+00  0.00000000e+00  0.00000000e+00  0.00000000e+00\n",
      "   0.00000000e+00  0.00000000e+00  0.00000000e+00  0.00000000e+00\n",
      "   0.00000000e+00  0.00000000e+00  0.00000000e+00  0.00000000e+00\n",
      "   0.00000000e+00  0.00000000e+00  0.00000000e+00  0.00000000e+00\n",
      "   0.00000000e+00  1.16849771e-06  0.00000000e+00  0.00000000e+00\n",
      "   0.00000000e+00  0.00000000e+00  0.00000000e+00  1.68564119e-07\n",
      "   0.00000000e+00  0.00000000e+00  0.00000000e+00  0.00000000e+00\n",
      "   0.00000000e+00  0.00000000e+00  0.00000000e+00  0.00000000e+00\n",
      "   0.00000000e+00  0.00000000e+00  0.00000000e+00  0.00000000e+00\n",
      "   0.00000000e+00  0.00000000e+00  0.00000000e+00  0.00000000e+00\n",
      "   0.00000000e+00  0.00000000e+00  0.00000000e+00  0.00000000e+00\n",
      "   0.00000000e+00  0.00000000e+00  0.00000000e+00  0.00000000e+00\n",
      "   0.00000000e+00  0.00000000e+00  0.00000000e+00  0.00000000e+00\n",
      "   0.00000000e+00  0.00000000e+00  0.00000000e+00  0.00000000e+00\n",
      "   0.00000000e+00  0.00000000e+00  0.00000000e+00  0.00000000e+00\n",
      "   0.00000000e+00  0.00000000e+00  0.00000000e+00  0.00000000e+00\n",
      "   0.00000000e+00  0.00000000e+00  0.00000000e+00  0.00000000e+00\n",
      "   0.00000000e+00  0.00000000e+00  0.00000000e+00  0.00000000e+00\n",
      "   0.00000000e+00  0.00000000e+00  0.00000000e+00  0.00000000e+00\n",
      "   0.00000000e+00  0.00000000e+00  0.00000000e+00  0.00000000e+00\n",
      "   0.00000000e+00  0.00000000e+00  0.00000000e+00  0.00000000e+00\n",
      "   0.00000000e+00  0.00000000e+00  0.00000000e+00  0.00000000e+00\n",
      "   0.00000000e+00  0.00000000e+00  0.00000000e+00  0.00000000e+00\n",
      "   0.00000000e+00  0.00000000e+00  0.00000000e+00  0.00000000e+00\n",
      "   0.00000000e+00  0.00000000e+00  6.28590945e-07  0.00000000e+00\n",
      "   0.00000000e+00  0.00000000e+00  0.00000000e+00  0.00000000e+00\n",
      "  -1.01248520e-06  0.00000000e+00  0.00000000e+00  0.00000000e+00\n",
      "   0.00000000e+00  0.00000000e+00  0.00000000e+00  0.00000000e+00\n",
      "   0.00000000e+00  0.00000000e+00  0.00000000e+00  0.00000000e+00\n",
      "   0.00000000e+00  0.00000000e+00  0.00000000e+00  0.00000000e+00\n",
      "   0.00000000e+00  0.00000000e+00  0.00000000e+00  0.00000000e+00\n",
      "   0.00000000e+00  0.00000000e+00 -6.67338951e-08 -1.03428138e-08\n",
      "   0.00000000e+00  0.00000000e+00  4.03967619e-07  0.00000000e+00\n",
      "  -2.01299898e-08  0.00000000e+00  0.00000000e+00  0.00000000e+00\n",
      "   0.00000000e+00  0.00000000e+00  0.00000000e+00  0.00000000e+00\n",
      "   0.00000000e+00  0.00000000e+00  0.00000000e+00  0.00000000e+00\n",
      "   0.00000000e+00  0.00000000e+00  0.00000000e+00 -1.47464460e-09\n",
      "  -4.11950144e-09  2.67396349e-07 -4.21844716e-08 -2.90409293e-08\n",
      "  -3.63101013e-09 -1.68912342e-10  3.52966844e-07 -4.08684278e-08\n",
      "  -3.63264831e-08  8.98112655e-08  0.00000000e+00  0.00000000e+00\n",
      "   0.00000000e+00  0.00000000e+00  0.00000000e+00  0.00000000e+00\n",
      "   0.00000000e+00  1.98814022e-08  0.00000000e+00 -1.68422519e-09\n",
      "  -6.53792468e-12  2.59980275e-08 -1.18344204e-08 -4.50870810e-09\n",
      "   6.54572098e-09  0.00000000e+00  0.00000000e+00  0.00000000e+00\n",
      "   0.00000000e+00  0.00000000e+00  0.00000000e+00  0.00000000e+00\n",
      "  -2.63643991e-07 -1.48208716e-08 -8.36317056e-07  0.00000000e+00\n",
      "   0.00000000e+00  0.00000000e+00  0.00000000e+00  0.00000000e+00\n",
      "   0.00000000e+00  0.00000000e+00  0.00000000e+00  0.00000000e+00\n",
      "   0.00000000e+00  0.00000000e+00  0.00000000e+00  0.00000000e+00\n",
      "   0.00000000e+00  0.00000000e+00  0.00000000e+00  2.35120472e-06\n",
      "   0.00000000e+00  0.00000000e+00  0.00000000e+00]]\n",
      "\n",
      "Accuracy of fitted model on train set is: 0.8649789029535865\n",
      "The AUC value is:  0.9465977003459966\n",
      "Testing step:\n",
      "Accuracy of fitted model test set is: 0.8199052132701422\n"
     ]
    },
    {
     "name": "stdout",
     "output_type": "stream",
     "text": [
      "The AUC value is:  0.8801703955424706\n"
     ]
    }
   ],
   "source": [
    "# 1. Training step\n",
    "print(\"Training step:\")\n",
    "\n",
    "clf = lr_lasso.fit(X_train_updated, y_train_updated)\n",
    "print(\"The intercept of model is: \" + str (clf.intercept_))\n",
    "print(\"The coefficients of the model are:\\n {}\\n\".format(clf.coef_))\n",
    "train_pred = clf.predict(X_train_updated)\n",
    "print(\"Accuracy of fitted model on train set is: \" + str(accuracy_score(y_train_updated, train_pred)))\n",
    "print(\"The AUC value is: \", calculate_auc(X_train_updated, y_train_updated, clf))\n",
    "# 2. Testing step\n",
    "print(\"Testing step:\")\n",
    "test_pred = clf.predict(X_test_updated)\n",
    "print(\"Accuracy of fitted model test set is: \" + str(accuracy_score(y_test_updated, test_pred)))\n",
    "print(\"The AUC value is: \", calculate_auc(X_test_updated, y_test_updated, clf))\n"
   ]
  },
  {
   "cell_type": "markdown",
   "metadata": {},
   "source": [
    "* Given the performances of the logistic model above on the train and test sets, do you think there is over fitting problem? An answer is acceptable if you can reasonablly justify it (1 pt) "
   ]
  },
  {
   "cell_type": "code",
   "execution_count": 73,
   "metadata": {},
   "outputs": [],
   "source": [
    "## write your answer here\n",
    "# No overfitting. Performance on test data is above 0.8 hence acceptable and the discrepancy betweet\n",
    "# performance on train data and test data is minimal which means the pattern has been accurately detected."
   ]
  },
  {
   "cell_type": "markdown",
   "metadata": {},
   "source": [
    "<a id=\"Section_3.2\"></a>\n",
    "### 3.2. Ridge Logistic Regression: lr_ridge_32 (2.5 pts)  \n",
    "For Ridge Regression, we need to reset up *penalty* for LogisticRegression() in addition to '*C*' and '*tol*' we have done before\n",
    "* Keep same setup as [Section 3.1](#Section_3.1) except for \"*penalty*\". (0.5 pt)\n",
    "* Repeat the second step at [Section 2.2](#Section_2.2) with the extended polynomial data and additionally show the intercept and coefficients of the model (1 pts)"
   ]
  },
  {
   "cell_type": "code",
   "execution_count": 74,
   "metadata": {},
   "outputs": [],
   "source": [
    "# change parameters: 'penalty' for ridge, this is not necessary if you do not use a dictionary variable for model seting up \n",
    "\n",
    "lr_ridge = lr_ridge.set_params(penalty = 'l2')\n",
    "# 1. Set up ridge model by specify the penalty\n"
   ]
  },
  {
   "cell_type": "code",
   "execution_count": 75,
   "metadata": {},
   "outputs": [
    {
     "name": "stdout",
     "output_type": "stream",
     "text": [
      "The intercept of model is: [2.91468641e-16]\n",
      "The coefficients of the model are:\n",
      " [[ 6.75001750e-15  6.30785890e-18  1.27934850e-11  1.01896562e-14\n",
      "   0.00000000e+00  4.53591819e-12  0.00000000e+00  3.19906249e-15\n",
      "  -1.73252641e-18  1.72537148e-16  5.71552722e-15  1.19090369e-15\n",
      "   7.96750188e-16  1.89800498e-16  9.55827382e-17  3.58769943e-16\n",
      "   4.67173775e-15  8.73560596e-14  5.41667142e-14  2.63577471e-15\n",
      "   1.70534338e-15  2.47498822e-14  9.47748236e-15  3.51621858e-14\n",
      "  -1.91185150e-17  1.88216602e-15  6.24461922e-14  1.32225175e-14\n",
      "   8.69543078e-15  2.12668159e-15  1.01283686e-15  4.00518295e-15\n",
      "   5.10784046e-14  9.46753625e-13  5.79224803e-13  2.89143062e-14\n",
      "   1.89007432e-14  2.72743277e-13  1.05453115e-13 -1.73252641e-18\n",
      "  -5.19800908e-18 -3.75964939e-17 -1.73209657e-18 -6.93010559e-18\n",
      "  -1.73295632e-18  4.29913567e-22  1.28974860e-21 -3.99322613e-17\n",
      "  -9.78005714e-16 -1.02560965e-15 -1.71589281e-17 -1.55953174e-17\n",
      "  -1.49343561e-16 -1.22668372e-16  4.19985406e-16  3.24699129e-15\n",
      "   4.74534026e-16  3.42474996e-16  1.26517904e-16  4.24585946e-17\n",
      "   1.57176977e-16  2.16044774e-15  6.10594876e-14  5.37189664e-14\n",
      "   1.56715253e-15  1.34794642e-15  1.50750629e-14  3.70434727e-15\n",
      "   1.54980563e-13  2.05972115e-14  1.61842377e-14  4.03292805e-15\n",
      "   1.70787942e-15  8.83771810e-15  9.51071688e-14  1.91342866e-12\n",
      "   1.18947586e-12  5.20071528e-14  3.59261486e-14  4.91715723e-13\n",
      "   1.87151860e-13  9.42915512e-15  3.18628000e-15  9.65947295e-16\n",
      "   2.17632929e-16  1.67164724e-15  1.92725791e-14  3.23507510e-13\n",
      "   1.95550773e-13  1.06372891e-14  7.81122897e-15  1.01374622e-13\n",
      "   4.70141249e-14  2.52740178e-15  4.49497265e-16  3.14606478e-16\n",
      "   8.95267302e-16  1.44897203e-14  2.23076285e-13  1.19065512e-13\n",
      "   7.10778270e-15  4.27898344e-15  6.69466237e-14  2.69381391e-14\n",
      "   1.89800498e-16  0.00000000e+00  2.97820914e-16  2.74775318e-15\n",
      "   6.57039952e-14  4.35896085e-14  1.73846101e-15  1.34328228e-15\n",
      "   1.72355276e-14  7.31846230e-15  9.55827382e-17  9.75895560e-17\n",
      "   1.78081389e-15  2.68499723e-14  2.20687675e-14  8.57237233e-16\n",
      "   3.35652781e-16  7.10168811e-15  2.18059544e-15  9.60147888e-16\n",
      "   5.51562450e-15  1.14655963e-13  4.07130707e-14  3.28571338e-15\n",
      "   2.97432177e-15  3.17207968e-14  1.09517755e-14  8.49246154e-14\n",
      "   1.32577920e-12  7.12554964e-13  4.18755573e-14  2.64113959e-14\n",
      "   3.94378171e-13  1.52211658e-13  2.59054045e-11  1.59560843e-11\n",
      "   8.12025775e-13  5.51787598e-13  7.29824967e-12  2.65148208e-12\n",
      "   1.26315068e-11  5.14008201e-13  2.94952472e-13  4.06336487e-12\n",
      "   1.55671119e-12  2.39926267e-14  1.57387611e-14  2.23505288e-13\n",
      "   8.43507250e-14  1.52752329e-14  1.53713469e-13  5.58206396e-14\n",
      "   2.16927462e-12  8.32690640e-13  4.54815328e-13  3.86962055e-13\n",
      "  -2.10973619e-16  2.05635217e-14  6.83660534e-13  1.46977016e-13\n",
      "   9.50294955e-14  2.38741958e-14  1.07112450e-14  4.48026917e-14\n",
      "   5.59237459e-13  1.02703586e-11  6.18975030e-12  3.17659978e-13\n",
      "   2.09881451e-13  3.01000010e-12  1.17432604e-12 -1.91185150e-17\n",
      "  -5.73600391e-17 -4.14878790e-16 -1.91140211e-17 -7.64740596e-17\n",
      "  -1.91230097e-17  4.49473792e-21  1.34842814e-20 -4.40655922e-16\n",
      "  -1.07922343e-14 -1.13182934e-14 -1.89349167e-16 -1.72093606e-16\n",
      "  -1.64801375e-15 -1.35364839e-15  4.57083600e-15  3.50242304e-14\n",
      "   5.31107531e-15  3.65478570e-15  1.39856494e-15  4.42500503e-16\n",
      "   1.74101948e-15  2.32355714e-14  6.64320139e-13  5.92969352e-13\n",
      "   1.70885528e-14  1.50435542e-14  1.65046891e-13  4.18063411e-14\n",
      "   1.66644205e-12  2.28130422e-13  1.76216353e-13  4.46042342e-14\n",
      "   1.82835313e-14  9.76302047e-14  1.03586084e-12  2.05110188e-11\n",
      "   1.27814139e-11  5.67420389e-13  3.94455516e-13  5.38575890e-12\n",
      "   2.07472254e-12  1.05376524e-13  3.51854897e-14  1.08518507e-14\n",
      "   2.33874270e-15  1.88353980e-14  2.13238096e-13  3.54547856e-12\n",
      "   2.07843950e-12  1.17965835e-13  8.81248024e-14  1.13030794e-12\n",
      "   5.28683942e-13  2.75265559e-14  5.02400166e-15  3.34706043e-15\n",
      "   9.93843312e-15  1.57974175e-13  2.38924398e-12  1.24436943e-12\n",
      "   7.74947484e-14  4.70522176e-14  7.33669434e-13  2.97772221e-13\n",
      "   2.12668159e-15  0.00000000e+00  3.34942746e-15  3.06726341e-14\n",
      "   7.35214214e-13  4.86828337e-13  1.94818413e-14  1.51216297e-14\n",
      "   1.93403968e-13  8.33717254e-14  1.01283686e-15  1.07459106e-15\n",
      "   1.90224696e-14  2.75917828e-13  2.29304965e-13  9.06864773e-15\n",
      "   3.55346925e-15  7.54343424e-14  2.25975860e-14  1.08529190e-14\n",
      "   6.11985725e-14  1.27293735e-12  4.35906467e-13  3.66864586e-14\n",
      "   3.35412727e-14  3.54565313e-13  1.25106782e-13  9.27190933e-13\n",
      "   1.42376168e-11  7.48164138e-12  4.57467554e-13  2.91868967e-13\n",
      "   4.33030221e-12  1.68429481e-12  2.66780453e-10  1.61199527e-10\n",
      "   8.78810902e-12  6.04458466e-12  7.93666852e-11  2.88530281e-11\n",
      "   1.27927914e-10  5.48847667e-12  3.16567203e-12  4.33119144e-11\n",
      "   1.65679196e-11  2.63078052e-13  1.74454798e-13  2.46175392e-12\n",
      "   9.37578842e-13  1.71740223e-13  1.70815616e-12  6.24918909e-13\n",
      "   2.39743273e-11  9.29925556e-12  5.10529463e-12 -1.73252641e-18\n",
      "  -5.19800908e-18 -3.75964939e-17 -1.73209657e-18 -6.93010559e-18\n",
      "  -1.73295632e-18  4.29913567e-22  1.28974860e-21 -3.99322613e-17\n",
      "  -9.78005714e-16 -1.02560965e-15 -1.71589281e-17 -1.55953174e-17\n",
      "  -1.49343561e-16 -1.22668372e-16 -1.55948871e-17 -1.12798139e-16\n",
      "  -5.19714944e-18 -2.07920363e-17 -5.19886894e-18  8.59868387e-22\n",
      "   2.57953952e-21 -1.19809165e-16 -2.93407462e-15 -3.07818603e-15\n",
      "  -5.14802536e-17 -4.67872408e-17 -4.48067952e-16 -3.68030049e-16\n",
      "  -8.15857431e-16 -3.75878382e-17 -1.50385975e-16 -3.76051522e-17\n",
      "   8.65838415e-21  2.59751338e-20 -8.66549389e-16 -2.12228138e-14\n",
      "  -2.22578498e-14 -3.72354155e-16 -3.38420400e-16 -3.24081344e-15\n",
      "  -2.66194258e-15 -1.73123766e-18 -6.92838612e-18 -1.73295642e-18\n",
      "   8.59868387e-22  2.57934017e-21 -3.99198805e-17 -9.77948247e-16\n",
      "  -1.02425284e-15 -1.71554589e-17 -1.55940278e-17 -1.49306294e-16\n",
      "  -1.22643444e-16 -2.77204222e-17 -6.93182526e-18  1.71967489e-21\n",
      "   5.15905521e-21 -1.59729045e-16 -3.91202284e-15 -4.10243805e-15\n",
      "  -6.86357120e-17 -6.23812691e-17 -5.97374242e-16 -4.90673486e-16\n",
      "  -1.73295632e-18  0.00000000e+00 -2.75931735e-26 -3.99446430e-17\n",
      "  -9.78063216e-16 -1.02696745e-15 -1.71623980e-17 -1.55966068e-17\n",
      "  -1.49380835e-16 -1.22693307e-16  4.29913567e-22  1.28978195e-21\n",
      "   1.23817723e-20  5.75023649e-20  1.35782867e-18  3.46990051e-21\n",
      "   1.28945192e-21  3.72736073e-20  2.49356469e-20  3.86932147e-21\n",
      "   3.71454983e-20  1.72504626e-19  4.07350387e-18  1.04097708e-20\n",
      "   3.86888954e-21  1.11821411e-19  7.48056263e-20 -9.20367421e-16\n",
      "  -2.25427009e-14 -2.36324899e-14 -3.95493337e-16 -3.59464646e-16\n",
      "  -3.44215473e-15 -2.82736258e-15 -5.52001407e-13 -5.79428548e-13\n",
      "  -9.68582168e-15 -8.80239649e-15 -8.43040638e-14 -6.92435403e-14\n",
      "  -6.04306962e-13 -1.01596519e-14 -9.23863622e-15 -8.84068718e-14\n",
      "  -7.26305342e-14 -1.69940447e-16 -1.54451175e-16 -1.47909787e-15\n",
      "  -1.21489652e-15 -1.40365598e-16 -1.34431571e-15 -1.10416496e-15\n",
      "  -1.28733963e-14 -1.05740012e-14 -8.68523991e-15  1.38952904e-15\n",
      "   7.32299934e-15  7.24747570e-16  7.21337022e-16  2.95355174e-16\n",
      "   1.21041392e-16  2.81385429e-16  4.50776587e-15  1.63911061e-13\n",
      "   1.92568601e-13  3.85996838e-15  3.55613289e-15  3.65302922e-14\n",
      "   7.38896847e-15  9.14622031e-14  7.18439194e-15  6.77808430e-15\n",
      "   2.67684509e-15  4.21302532e-16  3.85693824e-15  4.36574921e-14\n",
      "   1.30512735e-12  8.10917622e-13  2.98096018e-14  2.58257457e-14\n",
      "   2.94129347e-13  4.81719843e-14  4.01292923e-15  9.20452226e-16\n",
      "   4.08549388e-16  7.90378993e-17  4.24256972e-16  6.90966902e-15\n",
      "   1.77675884e-13  1.42091016e-13  4.32388252e-15  5.94805463e-15\n",
      "   4.21336098e-14  1.50667209e-14  8.64947259e-16  1.93489372e-16\n",
      "   1.39829646e-16  2.08492399e-16  5.26926568e-15  1.06292081e-13\n",
      "   7.37136643e-14  3.02828561e-15  2.34897492e-15  2.89890663e-14\n",
      "   6.12927645e-15  1.26517904e-16  0.00000000e+00  1.45825601e-16\n",
      "   1.39840222e-15  4.99994761e-14  5.48764187e-14  1.16841508e-15\n",
      "   1.06305875e-15  1.13901653e-14  3.65800271e-15  4.24585946e-17\n",
      "  -3.34914545e-18  7.04136452e-16  9.44009541e-15 -2.13750578e-15\n",
      "   3.65113557e-16  1.87401088e-16  3.30094742e-15 -1.54582861e-17\n",
      "  -2.74830012e-16  1.93376433e-15  5.57076513e-14  3.05811732e-14\n",
      "   1.46087420e-15  2.14713498e-15  1.56370542e-14  2.14260862e-15\n",
      "   3.30081082e-14  7.23862477e-13  5.19170486e-13  1.93732290e-14\n",
      "   1.54023449e-14  1.83707526e-13  4.00774667e-14  2.84876956e-11\n",
      "   3.02108306e-11  5.74217493e-13  5.36923605e-13  5.24415350e-12\n",
      "   1.76057358e-12  5.47246103e-11  5.20530953e-13  5.22458701e-13\n",
      "   4.42852802e-12  2.19706498e-12  1.43162996e-14  1.24411401e-14\n",
      "   1.36827539e-13  3.36921398e-14  1.62344751e-14  1.23003069e-13\n",
      "   3.49444990e-14  1.33689434e-12  3.37969817e-13  1.82010790e-13\n",
      "   6.79216341e-12  4.69160106e-13  4.74741370e-13  1.19492119e-13\n",
      "   3.63108751e-14  3.09079544e-13  2.89137615e-12  7.14100162e-11\n",
      "   2.79804786e-11  1.45011780e-12  9.96310585e-13  1.34708239e-11\n",
      "   4.75670205e-12  1.55986806e-13  5.57382737e-14  1.86586212e-14\n",
      "   2.79875891e-15  3.55059160e-14  3.33100686e-13  6.19016494e-12\n",
      "   4.33593170e-12  1.85167204e-13  1.35312640e-13  1.77135676e-12\n",
      "   8.60151816e-13  5.23798543e-14  1.03131927e-14  5.68537094e-15\n",
      "   2.45302775e-14  3.03204102e-13  5.42564092e-12  2.84972298e-12\n",
      "   1.46245219e-13  9.39546226e-14  1.38604034e-12  5.63046225e-13\n",
      "   4.03292805e-15  0.00000000e+00  7.28129945e-15  6.31612316e-14\n",
      "   1.56144087e-12  9.78726421e-13  3.72332367e-14  2.88637846e-14\n",
      "   3.62430151e-13  1.49330709e-13  1.70787942e-15  1.98505130e-15\n",
      "   3.15615819e-14  4.52247220e-13  3.73368005e-13  1.51381835e-14\n",
      "   6.69973930e-15  1.32824354e-13  4.48455786e-14  2.71084586e-14\n",
      "   1.49742516e-13  3.50928594e-12  1.49381469e-12  8.18955146e-14\n",
      "   6.96522831e-14  7.91971788e-13  2.72562901e-13  1.80065607e-12\n",
      "   3.26730836e-11  1.63857035e-11  8.63614130e-13  5.77019129e-13\n",
      "   8.20749390e-12  3.18048828e-12  8.02605979e-10  4.23142803e-10\n",
      "   1.80884462e-11  1.30865205e-11  1.62818586e-10  5.75548475e-11\n",
      "   2.94342296e-10  1.13574809e-11  7.13271751e-12  9.39066825e-11\n",
      "   3.17389689e-11  4.76378574e-13  3.32962487e-13  4.46822984e-12\n",
      "   1.67707172e-12  3.21918416e-13  3.24125411e-12  1.14180300e-12\n",
      "   4.34691885e-11  1.63925866e-11  8.54226356e-12  8.40333681e-14\n",
      "   2.46831473e-14  8.09895398e-15  1.45080008e-15  1.40823307e-14\n",
      "   1.52162825e-13  2.33421996e-12  1.35942777e-12  8.31970663e-14\n",
      "   6.54602989e-14  8.04408263e-13  3.99896568e-13  9.98818674e-15\n",
      "   2.27053590e-15  8.10021181e-16  3.74472385e-15  5.89999198e-14\n",
      "   8.12411437e-13  4.13002906e-13  2.80344273e-14  1.73728707e-14\n",
      "   2.67751269e-13  1.31360978e-13  9.65947295e-16  0.00000000e+00\n",
      "   1.58071928e-15  1.39285886e-14  2.47181654e-13  1.80798612e-13\n",
      "   8.51421981e-15  7.58012265e-15  8.78984125e-14  4.07529814e-14\n",
      "   2.17632929e-16  3.33817854e-16  4.92832654e-15  9.64609386e-14\n",
      "   6.62691637e-14  2.08144593e-15  4.01282537e-16  1.36548920e-14\n",
      "   8.41557759e-15  4.59759099e-15  2.55537163e-14  5.46420348e-13\n",
      "   9.16476560e-14  1.52946604e-14  1.96467019e-14  1.55618065e-13\n",
      "   6.34923954e-14  3.56403077e-13  5.13879776e-12  2.67847613e-12\n",
      "   1.71392590e-13  1.17265675e-13  1.63220717e-12  7.64871999e-13\n",
      "   7.52231001e-11  3.26188905e-11  3.00973506e-12  2.68266638e-12\n",
      "   2.65618433e-11  1.22771095e-11 -1.60703298e-11  1.85336117e-12\n",
      "   1.34089106e-12  1.45724365e-11  6.18521983e-12  9.60541292e-14\n",
      "   7.30674885e-14  9.01319936e-13  4.07070090e-13  9.48700684e-14\n",
      "   7.12541223e-13  2.99456343e-13  8.90882107e-12  4.10798316e-12\n",
      "   2.76651713e-12  8.69993607e-15  1.28618652e-15  1.08988317e-15\n",
      "   2.72337944e-15  4.95722386e-14  6.77916132e-13  3.24838630e-13\n",
      "   2.23513811e-14  1.30135910e-14  2.10550877e-13  8.84041799e-14\n",
      "   4.49497265e-16  0.00000000e+00  7.27721644e-16  7.70622927e-15\n",
      "   1.47572949e-13  8.21655971e-14  4.05877626e-15  2.88416449e-15\n",
      "   4.05749515e-14  1.81740020e-14  3.14606478e-16  2.84957355e-16\n",
      "   6.09907472e-15  8.70211839e-14  6.13270073e-14  2.80331423e-15\n",
      "   1.27383713e-15  2.40853847e-14  8.19469913e-15  2.31919088e-15\n",
      "   1.61975495e-14  2.76615079e-13  4.71245120e-14  8.12766743e-15\n",
      "   6.28617371e-15  7.86608434e-14  2.87622747e-14  2.88230476e-13\n",
      "   3.91873840e-12  1.81921549e-12  1.28681654e-13  7.79866746e-14\n",
      "   1.21354511e-12  4.89305308e-13  6.27037037e-11  2.81378786e-11\n",
      "   2.06218327e-12  1.29513596e-12  1.83435345e-11  6.38045366e-12\n",
      "   1.26433544e-11  1.12329846e-12  5.18069268e-13  8.60512927e-12\n",
      "   3.10499213e-12  6.39168084e-14  3.89965442e-14  5.96046689e-13\n",
      "   2.34389610e-13  3.30222315e-14  3.83488756e-13  1.39432498e-13\n",
      "   5.81636467e-12  2.33363649e-12  1.32492789e-12  1.89800498e-16\n",
      "   0.00000000e+00  2.97820914e-16  2.74775318e-15  6.57039952e-14\n",
      "   4.35896085e-14  1.73846101e-15  1.34328228e-15  1.72355276e-14\n",
      "   7.31846230e-15  0.00000000e+00  0.00000000e+00  0.00000000e+00\n",
      "   0.00000000e+00  0.00000000e+00  0.00000000e+00  0.00000000e+00\n",
      "   0.00000000e+00  0.00000000e+00  9.38020367e-16  4.60266486e-15\n",
      "   1.14381144e-13  5.07144608e-14  2.76635874e-15  2.89215328e-15\n",
      "   2.72501718e-14  9.82024116e-15  4.73381828e-14  9.15850992e-13\n",
      "   5.34594826e-13  2.49539616e-14  1.86064099e-14  2.49102948e-13\n",
      "   1.06354403e-13  2.74173574e-11  1.78064106e-11  6.27197579e-13\n",
      "   5.59522574e-13  5.88674223e-12  2.45432511e-12  1.80109144e-11\n",
      "   4.19356961e-13  3.75515409e-13  3.75494515e-12  1.70695428e-12\n",
      "   1.60600964e-14  1.27017751e-14  1.57621129e-13  6.59480757e-14\n",
      "   1.48373456e-14  1.24780386e-13  5.02014741e-14  1.57635836e-12\n",
      "   6.71990345e-13  3.99642746e-13  9.55827382e-17  9.75895560e-17\n",
      "   1.78081389e-15  2.68499723e-14  2.20687675e-14  8.57237233e-16\n",
      "   3.35652781e-16  7.10168811e-15  2.18059544e-15  1.93355068e-16\n",
      "   1.63054569e-15  2.68557621e-14  2.72155254e-14  8.71394908e-16\n",
      "   3.99264446e-16  7.96983589e-15  2.96322002e-15  3.47659877e-14\n",
      "   4.96817314e-13  3.37454146e-13  1.59165562e-14  7.44952952e-15\n",
      "   1.35864932e-13  4.49425556e-14  5.91582610e-12  6.99019351e-12\n",
      "   2.41950715e-13  6.18605681e-14  1.94154444e-12  5.73945422e-13\n",
      "   5.98652620e-12  2.05303514e-13  4.29893144e-14  1.42512397e-12\n",
      "   3.70215744e-13  7.70911890e-15  2.93126098e-15  6.34379621e-14\n",
      "   1.95580922e-14  6.14474857e-16  2.73427788e-14  7.56367043e-15\n",
      "   5.66539789e-13  1.70724898e-13  6.90046562e-14  3.23946322e-15\n",
      "   1.47277981e-14  4.40457088e-13  1.46016051e-13  9.26708295e-15\n",
      "   1.09676619e-14  8.51512256e-14  2.88750116e-14  9.84883648e-14\n",
      "   1.68448271e-12  3.33676299e-13  5.01835701e-14  4.02211332e-14\n",
      "   4.85494683e-13  1.69036296e-13  4.04862845e-11 -3.57373328e-12\n",
      "   1.08162891e-12  1.21533795e-12  9.83778463e-12  2.93938765e-12\n",
      "  -2.52535266e-11  3.80931412e-13  2.32635849e-13  2.71335330e-12\n",
      "   3.28616787e-13  3.02386908e-14  2.82641415e-14  2.89868780e-13\n",
      "   9.85109689e-14  4.10856075e-14  2.75142860e-13  8.76919188e-14\n",
      "   2.85157563e-12  9.95178953e-13  4.60166909e-13  1.71301675e-12\n",
      "   2.31296479e-11  1.03788151e-11  7.57410244e-13  4.81515945e-13\n",
      "   7.15931713e-12  2.77673157e-12  3.62260457e-10  1.41469825e-10\n",
      "   1.22463939e-11  8.02845663e-12  1.10001332e-10  3.64582630e-11\n",
      "   5.39672273e-11  6.66383138e-12  3.26615671e-12  5.22415485e-11\n",
      "   1.63747951e-11  3.78007978e-13  2.41652380e-13  3.52987678e-12\n",
      "   1.33408915e-12  2.21114990e-13  2.38322661e-12  8.57205842e-13\n",
      "   3.44270504e-11  1.32640090e-11  7.14275880e-12  1.55476673e-09\n",
      "  -6.51737127e-10  2.38380406e-10  1.61666376e-10  2.06459500e-09\n",
      "   6.82670591e-10  2.62295636e-09  1.44160184e-10  7.20745154e-11\n",
      "   9.91043197e-10  5.52549966e-10  7.56641969e-12  5.19900773e-12\n",
      "   6.76885175e-11  2.46624092e-11  5.63451677e-12  4.94883278e-11\n",
      "   1.68982766e-11  6.31175325e-10  2.31743798e-10  1.11999370e-10\n",
      "  -1.32374220e-09  1.33842416e-10  8.44729591e-11  6.06649811e-10\n",
      "   6.34968690e-10  4.85168787e-12  2.82507357e-12  3.83530442e-11\n",
      "   1.51418093e-11  1.90674588e-12  2.38295305e-11  1.10919127e-11\n",
      "   3.22068964e-10  1.20269491e-10  4.76865698e-11  2.19678745e-13\n",
      "   1.45997522e-13  2.03168590e-12  7.59152990e-13  1.44782615e-13\n",
      "   1.41864889e-12  5.12118114e-13  1.95718418e-11  7.41325830e-12\n",
      "   3.93786772e-12  2.06162428e-13  1.42953846e-12  4.72094425e-13\n",
      "   1.40306422e-11  5.05754690e-12  2.36812915e-12  1.93821763e-10\n",
      "   7.45349887e-11  4.04228131e-11  2.66312246e-11]]\n",
      "\n",
      "Training step: \n",
      "\n",
      "Accuracy of training step is: 0.8502109704641351\n",
      "The AUC value is: 0.906860517946388.\n",
      "\n",
      "Testing step: \n",
      "\n",
      "Accuracy of fitted model test set is: 0.8272775144813059\n",
      "The AUC value is: 0.9037486647138301.\n",
      "\n"
     ]
    }
   ],
   "source": [
    "lr_22 = lr_ridge.fit(X_train_updated, y_train_updated.values.ravel())\n",
    "\n",
    "print(\"The intercept of model is: \" + str (lr_22.intercept_))\n",
    "print(\"The coefficients of the model are:\\n {}\\n\".format(lr_22.coef_))\n",
    "# 2. Training step\n",
    "print(\"Training step: \\n\")\n",
    "# Accuracy\n",
    "train_pred = lr_22.predict(X_train_updated)\n",
    "accuracy = accuracy_score(y_train_updated, train_pred)\n",
    "print(\"Accuracy of training step is: {}\".format(accuracy))\n",
    "      \n",
    "print(\"The AUC value is: {}.\\n\".format(calculate_auc(X_train_updated, y_train_updated, lr_22)))\n",
    "\n",
    "# 3. Testing step\n",
    "print(\"Testing step: \\n\")\n",
    "test_pred = lr_22.predict(X_test_updated)\n",
    "accuracy = accuracy_score(y_test_updated, test_pred)\n",
    "print(\"Accuracy of fitted model test set is: {}\".format(accuracy))\n",
    "print(\"The AUC value is: {}.\\n\".format(calculate_auc(X_test_updated, y_test_updated, lr_22)))\n"
   ]
  },
  {
   "cell_type": "markdown",
   "metadata": {},
   "source": [
    "* Given the performances of the logistic model above on the train and test sets, do you think there is over fitting problem? An answer is acceptable if you can reasonablly justify it (1 pt) "
   ]
  },
  {
   "cell_type": "code",
   "execution_count": 76,
   "metadata": {},
   "outputs": [],
   "source": [
    "## write your answer here\n",
    "# ## write your answer here\n",
    "# No overfitting. Performance on test data is above 0.8 hence acceptable and the discrepancy betweet\n",
    "# performance on train data and test data is minimal which means the pattern has been accurately detected."
   ]
  },
  {
   "cell_type": "markdown",
   "metadata": {},
   "source": [
    "### 3.3. Tune Regularization Regression (19.5 pts) \n",
    "You have understand how regularization works. However, you may wonder how much $C=1/\\lambda$ should be. A natural way to find it is to use grid search for different *C* and find the best one.  \n",
    "* Thus, we generate a set of $\\lambda$'s and thereby a set of fitted models: (1 pt)\n",
    " * Let us generate $N=200 $ $\\lambda$'s from $10^{-6}$ to $10^{5}$ for lasso and from $10^{-2}$ to $10^{25}$ for ridge. \n",
    " * To do this, firstly generate N numbers from -2 to 25: for example $S=(-2,...,25)$\n",
    " * Then take $S$*th* power of 10 to get $N$ *C*'s\n",
    " * You may want to use numpy.logspace()\n",
    " * save the set of $\\lambda$'s as a variable, say *lambda_list*\n",
    "* To reduce computational load, set *tol*=1e-4 and *max_iter*=10000 for the following regularization regression (0.5 pt)\n",
    "* You can reuse the two regularized model objects (\"*lr_lasso*\" and \"*lr_ridge*\") we have made at [Section 3.1](#Section_3.1) and [3.2](#Section_3.2) but only change the setting of *tol* and *max_iter*\n",
    "* Keep the data-splitting setup unchanged as [Section 2.4](#Section_2.4)\n",
    "* Save the coefficients of those models and the accuracy and the AUC of the $2N$ models on the **testing data** for every $\\lambda$ in the set"
   ]
  },
  {
   "cell_type": "code",
   "execution_count": 77,
   "metadata": {},
   "outputs": [
    {
     "data": {
      "text/plain": [
       "LogisticRegression(C=1e-06, class_weight='balanced', max_iter=10000,\n",
       "                   random_state=42, solver='liblinear')"
      ]
     },
     "execution_count": 77,
     "metadata": {},
     "output_type": "execute_result"
    }
   ],
   "source": [
    "# 1. generate the set of lambda (1 pt)\n",
    "lambda_lasso = np.logspace(-6, 5, num=200, endpoint=True, base=10.0)\n",
    "lambda_lasso = lambda_lasso.tolist()\n",
    "lambda_ridge = np.logspace(-2, 25,num=200, endpoint=True, base=10.0)\n",
    "lambda_ridge = lambda_ridge.tolist()\n",
    "# 2. set tol=1e-4 and max_iter=10000 for lasso and ridge (0.5 pt)\n",
    "lr_lasso.set_params(tol=1e-4)\n",
    "lr_ridge.set_params(tol=1e-4)\n",
    "lr_lasso.set_params(max_iter=10000)\n",
    "lr_ridge.set_params(max_iter=10000)"
   ]
  },
  {
   "cell_type": "markdown",
   "metadata": {},
   "source": [
    "<a id=\"Section_3.3.1\"></a>\n",
    "##### 3.3.1 Tune Lasso Logistic Regression (9 pts)\n",
    "#### 3.3.1.1 Generate Lasso Coefficients (5 pts)"
   ]
  },
  {
   "cell_type": "code",
   "execution_count": 78,
   "metadata": {
    "scrolled": true
   },
   "outputs": [],
   "source": [
    "#  Save the coefficients of the N lasso models and the accuracy and the AUC of those models on the test set for every lambda (4 pts)\n",
    "lasso_coefficient = []\n",
    "lasso_accuracy = []\n",
    "lasso_auc = []\n",
    "\n",
    "for i in lambda_lasso:\n",
    "    lr_lasso.set_params(C=1/i)\n",
    "    lr_22 = lr_lasso.fit(X_train_updated, y_train_updated.values.ravel())\n",
    "    lasso_coefficient.append(lr_22.coef_)\n",
    "    y_pred = lr_22.predict(X_test_updated)\n",
    "    lasso_accuracy.append(accuracy_score(y_test_updated, y_pred))\n",
    "    lasso_auc.append(calculate_auc(X_test_updated, y_test_updated, lr_22))"
   ]
  },
  {
   "cell_type": "markdown",
   "metadata": {},
   "source": [
    "<a id=\"Section_3.3.1.2\"></a>\n",
    "#### 3.3.1.2 Lasso Coefficients Trend (2 pts)\n",
    "Plot the relationship between $\\lambda$'s or $log(\\lambda)$'s and lasso coefficients' size (1 pt). Report write your findings (1 pt).\n",
    "\n",
    "<div class=\"alert alert-warning\">\n",
    "<b>Note: </b>Since there are multiple features, you need to draw curves as many as the number of features.  \n",
    "    In addition you may try xscale('log') to scale the x-axis.\n",
    "</div>"
   ]
  },
  {
   "cell_type": "code",
   "execution_count": 79,
   "metadata": {},
   "outputs": [
    {
     "data": {
      "image/png": "[encoded data removed]",
      "text/plain": [
       "<Figure size 864x576 with 1 Axes>"
      ]
     },
     "metadata": {
      "needs_background": "light"
     },
     "output_type": "display_data"
    }
   ],
   "source": [
    "lasso_coef_narray = np.array(lasso_coefficient)\n",
    "lasso_lambda = np.array(lambda_lasso)\n",
    "lasso_coef_narray = lasso_coef_narray.reshape((200, X_train_updated.shape[1]))\n",
    "plt.figure(figsize=(12,8))\n",
    "plt.style.use('ggplot')\n",
    "plt.plot(lasso_lambda,lasso_coef_narray)\n",
    "plt.xscale('log')\n",
    "plt.xlabel('Lambda')\n",
    "plt.ylabel('Lasso Coefficients')\n",
    "plt.show()"
   ]
  },
  {
   "cell_type": "code",
   "execution_count": 80,
   "metadata": {},
   "outputs": [],
   "source": [
    "# write your answer here\n",
    "# Coefficients' absolute values decreases, hence their impact on\n",
    "# outcome variable decreases. It finally converges to 0 at around 10^02 lambda."
   ]
  },
  {
   "cell_type": "markdown",
   "metadata": {},
   "source": [
    "<a id=\"Section_3.3.1.3\"></a>\n",
    "#### 3.3.1.3 Tune Lasso Logistic Regression parameter (2 pts)"
   ]
  },
  {
   "cell_type": "markdown",
   "metadata": {},
   "source": [
    "* Plot the relationship between $\\lambda$'s or $log(\\lambda)$'s and lasso AUC (0.5 pt). What can you find (0.5 pt)? Report the best $\\lambda$ and its corresponding AUC (1 pt)"
   ]
  },
  {
   "cell_type": "code",
   "execution_count": 81,
   "metadata": {},
   "outputs": [
    {
     "data": {
      "image/png": "[encoded data removed]",
      "text/plain": [
       "<Figure size 864x576 with 1 Axes>"
      ]
     },
     "metadata": {},
     "output_type": "display_data"
    }
   ],
   "source": [
    "plt.figure(figsize=(12,8))\n",
    "plt.style.use('ggplot')\n",
    "plt.plot(lasso_lambda, lasso_auc)\n",
    "plt.xscale('log')\n",
    "plt.xlabel('Lambda')\n",
    "plt.ylabel('AUC (Lasso)')\n",
    "plt.show()"
   ]
  },
  {
   "cell_type": "code",
   "execution_count": 82,
   "metadata": {},
   "outputs": [],
   "source": [
    "# write your answer here\n",
    "# AUC generally increases as lambda increases.\n",
    "# "
   ]
  },
  {
   "cell_type": "code",
   "execution_count": 83,
   "metadata": {},
   "outputs": [
    {
     "name": "stdout",
     "output_type": "stream",
     "text": [
      "The best lambda for lasso is: 77525.97488629464\n",
      "\n",
      "Its corresponding AUC value is: 0.8905325884266515\n",
      "\n"
     ]
    }
   ],
   "source": [
    "# select the best 𝜆 who provides best AUC and its corresponding AUC value\n",
    "lasso_best_auc = max(lasso_auc)\n",
    "best_index_lasso = lasso_auc.index(lasso_best_auc)\n",
    "best_lambda_lasso = lasso_lambda[best_index_lasso]\n",
    "print(\"The best lambda for lasso is: {}\\n\".format(best_lambda_lasso))\n",
    "print(\"Its corresponding AUC value is: {}\\n\".format(lasso_best_auc))\n"
   ]
  },
  {
   "cell_type": "markdown",
   "metadata": {},
   "source": [
    "<a id=\"Section_3.3.2\"></a>\n",
    "### 3.3.2 Tune Ridge Logistic Regression (9 pts)\n",
    "#### 3.3.2.1 Generate Lasso Coefficients (5 pts)"
   ]
  },
  {
   "cell_type": "code",
   "execution_count": 84,
   "metadata": {},
   "outputs": [],
   "source": [
    "#  Save the coefficients of the N ridge models and the accuracy, MSE and the AUC of those models on the test set for every lambda (4 pts)\n",
    "ridge_coefficient = []\n",
    "ridge_accuracy = []\n",
    "ridge_auc = []\n",
    "\n",
    "for i in lambda_ridge:\n",
    "    lr_ridge.set_params(C=1/i)\n",
    "    lr_22 = lr_ridge.fit(X_train_updated, y_train_updated.values.ravel())\n",
    "    ridge_coefficient.append(lr_22.coef_)\n",
    "    y_pred = lr_22.predict(X_test_updated)\n",
    "    ridge_accuracy.append(accuracy_score(y_test_updated, y_pred))\n",
    "    ridge_auc.append(calculate_auc(X_test_updated, y_test_updated, lr_22))"
   ]
  },
  {
   "cell_type": "markdown",
   "metadata": {},
   "source": [
    "<a id=\"Section_3.3.2.2\"></a>\n",
    "#### 3.3.2.2 Ridge Coefficients Trend (2 pts)\n",
    "Plot the relationship between $\\lambda$'s or $log(\\lambda)$'s and ridge coefficients' size. Then write your findings here."
   ]
  },
  {
   "cell_type": "code",
   "execution_count": 85,
   "metadata": {},
   "outputs": [
    {
     "data": {
      "image/png": "[encoded data removed]",
      "text/plain": [
       "<Figure size 864x576 with 1 Axes>"
      ]
     },
     "metadata": {},
     "output_type": "display_data"
    }
   ],
   "source": [
    "ridge_coef_narray = np.array(ridge_coefficient)\n",
    "ridge_lambda = np.array(lambda_ridge)\n",
    "ridge_coef_narray = ridge_coef_narray.reshape((200, X_train_updated.shape[1]))\n",
    "plt.figure(figsize=(12,8))\n",
    "plt.style.use('ggplot')\n",
    "plt.plot(ridge_lambda,ridge_coef_narray)\n",
    "plt.xscale('log')\n",
    "plt.xlabel('Lambda')\n",
    "plt.ylabel('Ridge Coefficients')\n",
    "plt.show()"
   ]
  },
  {
   "cell_type": "code",
   "execution_count": 86,
   "metadata": {},
   "outputs": [],
   "source": [
    "# write your answer here\n",
    "# Coefficients are stable till approximately 10^18. Then its absolute value decreases sharply till 10^24 where it converges to 0.\n",
    "# "
   ]
  },
  {
   "cell_type": "markdown",
   "metadata": {},
   "source": [
    "<a id=\"Section_3.3.2.3\"></a>\n",
    "#### 3.3.2.3 Tune Ridge Logistic Regression parameter (2 pts)"
   ]
  },
  {
   "cell_type": "markdown",
   "metadata": {},
   "source": [
    "* Plot the relationship between $\\lambda$'s or $log(\\lambda)$'s and Ridge AUC. Describe what you find?  Report the best $\\lambda$ and its corresponding AUC."
   ]
  },
  {
   "cell_type": "code",
   "execution_count": 87,
   "metadata": {},
   "outputs": [
    {
     "data": {
      "image/png": "[encoded data removed]",
      "text/plain": [
       "<Figure size 864x576 with 1 Axes>"
      ]
     },
     "metadata": {},
     "output_type": "display_data"
    }
   ],
   "source": [
    "plt.figure(figsize=(12,8))\n",
    "plt.style.use('ggplot')\n",
    "plt.plot(ridge_lambda, ridge_auc)\n",
    "plt.xscale('log')\n",
    "plt.xlabel('Lambda')\n",
    "plt.ylabel('AUC (Ridge)')\n",
    "plt.show()"
   ]
  },
  {
   "cell_type": "code",
   "execution_count": 88,
   "metadata": {},
   "outputs": [],
   "source": [
    "# write your answer here\n",
    "# AUC is generally unaffected by lambda till approximately lambda 10^21, staying at a constant 0.903 (approximate). \n",
    "# It plunges steeply at lambda 10^21 but increases after that together with the lambda."
   ]
  },
  {
   "cell_type": "code",
   "execution_count": 89,
   "metadata": {},
   "outputs": [
    {
     "name": "stdout",
     "output_type": "stream",
     "text": [
      "The best lambda for ridge is: 3.331294787934684e+20\n",
      "\n",
      "Its corresponding AUC value is: 0.9032675894874361\n",
      "\n"
     ]
    }
   ],
   "source": [
    "# select the best 𝜆 who provides best AUC and its corresponding AUC value\n",
    "ridge_best_auc = max(ridge_auc)\n",
    "best_index_ridge = ridge_auc.index(ridge_best_auc)\n",
    "best_lambda_ridge = ridge_lambda[best_index_ridge]\n",
    "print(\"The best lambda for ridge is: {}\\n\".format(best_lambda_ridge))\n",
    "print(\"Its corresponding AUC value is: {}\\n\".format(ridge_best_auc))"
   ]
  },
  {
   "cell_type": "markdown",
   "metadata": {},
   "source": [
    "<a id=\"Section_4\"></a>\n",
    "## 4. Cross-Validation (5 pts)\n",
    "In this section, we aim to exercise Cross-Validation  \n",
    "<div class=\"alert alert-danger\">\n",
    "<b>Note: </b>In practice, we do cross-validation on train set and leave test set to test the model. Thus, the train set will be divided to two parts: one for training model and the other for validating the model. Then, after cross-validation, we test the model on test set. This is a common way of cross-validation.\n",
    "</div>\n",
    "\n",
    "* keep the data splitting unchanged as [Section 3.1](#Section_3.1).\n",
    "* set **random_state=42** for *KFold()* so that your results can be replicated\n",
    "* shuffle the data set (train set we used before) before k-fold splitting it. Check how to use model_selection.KFold() to do this\n",
    "* Report the means of **5**-fold cross-validation accuracy scores of:  \n",
    " * logistic regression at [Section 2.5](#Section_2.5)\n",
    " * lasso logistic regression with best $C=1/\\lambda$ selected at [Section 3.3.1.3](#Section_3.3.1.3)\n",
    " * ridge logistic regression with best $C=1/\\lambda$ selected at [Section 3.3.2.3](#Section_3.3.2.3)\n",
    "\n",
    "\n",
    "<div class=\"alert alert-warning\">\n",
    "<b>Note: </b>check how to use sklearn.model_selection.cross_val_score() at https://scikit-learn.org/stable/modules/generated/sklearn.model_selection.cross_val_score.html\n",
    "</div>\n",
    "\n",
    "<div class=\"alert alert-danger\">\n",
    "<b>Note: </b>\n",
    "<p>Usually Lasso/Ridge regression should improve model performance, but it is ok if your findings do not support it based on your results. Just report what you have discovered based on your results honestly. Please do not worry about whether you will get full marks or not.</p>\n",
    "</div>\n",
    "</div>"
   ]
  },
  {
   "cell_type": "code",
   "execution_count": 90,
   "metadata": {},
   "outputs": [],
   "source": [
    "from sklearn.model_selection import KFold, cross_val_score\n",
    "# build an object of 5-Fold Cross Validation \n",
    "k = 5\n",
    "kf = KFold(n_splits=k, shuffle=True, random_state=42)"
   ]
  },
  {
   "cell_type": "code",
   "execution_count": 91,
   "metadata": {},
   "outputs": [],
   "source": [
    "# note that the whole data set has been divided into training set and testing set. \n",
    "# we only use the train set for cross-validation. Thus every data point in the training set is used k times while only one time in the test set\n",
    "# Logistic regression (3 pts)\n",
    "lr_22 = LogisticRegression(fit_intercept=True, solver='liblinear', C=10**10, max_iter=10000, tol=1e-4, random_state=42, class_weight= 'balanced')\n",
    "accuracy_log = cross_val_score(lr_22, X_train_updated,y_train_updated.values.ravel(),cv=kf, scoring='accuracy')\n",
    "# Lasso Regression\n",
    "lasso = LogisticRegression(fit_intercept=True, penalty='l1', solver='liblinear', C=1/best_lambda_lasso, max_iter=10000, tol=1e-4, random_state=42, class_weight= 'balanced')\n",
    "accuracy_lasso = cross_val_score(lasso, X_train_updated,y_train_updated.values.ravel(),cv=kf, scoring='accuracy')\n",
    "# Ridge Regression\n",
    "ridge = LogisticRegression(fit_intercept=True, penalty='l2', solver='liblinear', C=1/best_lambda_ridge, max_iter=10000, tol=1e-4, random_state=42, class_weight= 'balanced')\n",
    "accuracy_ridge = cross_val_score(ridge, X_train_updated,y_train_updated.values.ravel(), cv=kf, scoring='accuracy')\n"
   ]
  },
  {
   "cell_type": "code",
   "execution_count": 46,
   "metadata": {},
   "outputs": [
    {
     "name": "stdout",
     "output_type": "stream",
     "text": [
      "Average cross validation accuracy of Logistic Regresstion is: 0.8460022396416573\n",
      "\n",
      "Average cross validation accuracy of Lasso Regression is: 0.8290929451287795\n",
      "\n",
      "Average cross validation accuracy of Ridge Regression is:  0.8502127659574468\n"
     ]
    }
   ],
   "source": [
    "# Model performance: Cross-validation (1.5 pts)\n",
    "# Report average cross-validation accuracy of Logistic regression\n",
    "\n",
    "print(\"Average cross validation accuracy of Logistic Regresstion is: {}\\n\".format(accuracy_log.mean()))\n",
    "# Report average cross-validation accuracy of Lasso regression\n",
    "print(\"Average cross validation accuracy of Lasso Regression is: {}\\n\".format(accuracy_lasso.mean()))\n",
    "\n",
    "\n",
    "# Report average cross-validation accuracy of Ridge regression\n",
    "print(\"Average cross validation accuracy of Ridge Regression is: \",accuracy_ridge.mean())\n"
   ]
  }
 ],
 "metadata": {
  "kernelspec": {
   "display_name": "Python 3",
   "language": "python",
   "name": "python3"
  },
  "language_info": {
   "codemirror_mode": {
    "name": "ipython",
    "version": 3
   },
   "file_extension": ".py",
   "mimetype": "text/x-python",
   "name": "python",
   "nbconvert_exporter": "python",
   "pygments_lexer": "ipython3",
   "version": "3.7.4"
  }
 },
 "nbformat": 4,
 "nbformat_minor": 2
}
